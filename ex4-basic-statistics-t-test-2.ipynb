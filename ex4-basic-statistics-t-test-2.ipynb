{
 "cells": [
  {
   "cell_type": "markdown",
   "id": "1cc57db5",
   "metadata": {
    "papermill": {
     "duration": 0.003715,
     "end_time": "2022-09-06T01:27:31.166074",
     "exception": false,
     "start_time": "2022-09-06T01:27:31.162359",
     "status": "completed"
    },
    "tags": []
   },
   "source": [
    "## 3.9 평균값 차이 검정\n",
    "### 3.9.2 Paired T-test (대응표본 t검정)"
   ]
  },
  {
   "cell_type": "code",
   "execution_count": 1,
   "id": "c0c75dc2",
   "metadata": {
    "_cell_guid": "b1076dfc-b9ad-4769-8c92-a6c4dae69d19",
    "_uuid": "8f2839f25d086af736a60e9eeb907d3b93b6e0e5",
    "execution": {
     "iopub.execute_input": "2022-09-06T01:27:31.174427Z",
     "iopub.status.busy": "2022-09-06T01:27:31.173434Z",
     "iopub.status.idle": "2022-09-06T01:27:32.135141Z",
     "shell.execute_reply": "2022-09-06T01:27:32.134188Z"
    },
    "papermill": {
     "duration": 0.968623,
     "end_time": "2022-09-06T01:27:32.137807",
     "exception": false,
     "start_time": "2022-09-06T01:27:31.169184",
     "status": "completed"
    },
    "tags": []
   },
   "outputs": [],
   "source": [
    "import numpy as np\n",
    "import pandas as pd\n",
    "import scipy as sp\n",
    "\n",
    "import matplotlib.pyplot as plt\n",
    "import seaborn as sns\n",
    "sns.set()"
   ]
  },
  {
   "cell_type": "code",
   "execution_count": 2,
   "id": "21b507a4",
   "metadata": {
    "execution": {
     "iopub.execute_input": "2022-09-06T01:27:32.145943Z",
     "iopub.status.busy": "2022-09-06T01:27:32.145521Z",
     "iopub.status.idle": "2022-09-06T01:27:32.170241Z",
     "shell.execute_reply": "2022-09-06T01:27:32.169228Z"
    },
    "papermill": {
     "duration": 0.031226,
     "end_time": "2022-09-06T01:27:32.172361",
     "exception": false,
     "start_time": "2022-09-06T01:27:32.141135",
     "status": "completed"
    },
    "tags": []
   },
   "outputs": [
    {
     "data": {
      "text/html": [
       "<div>\n",
       "<style scoped>\n",
       "    .dataframe tbody tr th:only-of-type {\n",
       "        vertical-align: middle;\n",
       "    }\n",
       "\n",
       "    .dataframe tbody tr th {\n",
       "        vertical-align: top;\n",
       "    }\n",
       "\n",
       "    .dataframe thead th {\n",
       "        text-align: right;\n",
       "    }\n",
       "</style>\n",
       "<table border=\"1\" class=\"dataframe\">\n",
       "  <thead>\n",
       "    <tr style=\"text-align: right;\">\n",
       "      <th></th>\n",
       "      <th>person</th>\n",
       "      <th>medicine</th>\n",
       "      <th>body_temperature</th>\n",
       "    </tr>\n",
       "  </thead>\n",
       "  <tbody>\n",
       "    <tr>\n",
       "      <th>0</th>\n",
       "      <td>A</td>\n",
       "      <td>before</td>\n",
       "      <td>36.2</td>\n",
       "    </tr>\n",
       "    <tr>\n",
       "      <th>1</th>\n",
       "      <td>B</td>\n",
       "      <td>before</td>\n",
       "      <td>36.2</td>\n",
       "    </tr>\n",
       "    <tr>\n",
       "      <th>2</th>\n",
       "      <td>C</td>\n",
       "      <td>before</td>\n",
       "      <td>35.3</td>\n",
       "    </tr>\n",
       "    <tr>\n",
       "      <th>3</th>\n",
       "      <td>D</td>\n",
       "      <td>before</td>\n",
       "      <td>36.1</td>\n",
       "    </tr>\n",
       "    <tr>\n",
       "      <th>4</th>\n",
       "      <td>E</td>\n",
       "      <td>before</td>\n",
       "      <td>36.1</td>\n",
       "    </tr>\n",
       "    <tr>\n",
       "      <th>5</th>\n",
       "      <td>A</td>\n",
       "      <td>after</td>\n",
       "      <td>36.8</td>\n",
       "    </tr>\n",
       "    <tr>\n",
       "      <th>6</th>\n",
       "      <td>B</td>\n",
       "      <td>after</td>\n",
       "      <td>36.1</td>\n",
       "    </tr>\n",
       "    <tr>\n",
       "      <th>7</th>\n",
       "      <td>C</td>\n",
       "      <td>after</td>\n",
       "      <td>36.8</td>\n",
       "    </tr>\n",
       "    <tr>\n",
       "      <th>8</th>\n",
       "      <td>D</td>\n",
       "      <td>after</td>\n",
       "      <td>37.1</td>\n",
       "    </tr>\n",
       "    <tr>\n",
       "      <th>9</th>\n",
       "      <td>E</td>\n",
       "      <td>after</td>\n",
       "      <td>36.9</td>\n",
       "    </tr>\n",
       "  </tbody>\n",
       "</table>\n",
       "</div>"
      ],
      "text/plain": [
       "  person medicine  body_temperature\n",
       "0      A   before              36.2\n",
       "1      B   before              36.2\n",
       "2      C   before              35.3\n",
       "3      D   before              36.1\n",
       "4      E   before              36.1\n",
       "5      A    after              36.8\n",
       "6      B    after              36.1\n",
       "7      C    after              36.8\n",
       "8      D    after              37.1\n",
       "9      E    after              36.9"
      ]
     },
     "execution_count": 2,
     "metadata": {},
     "output_type": "execute_result"
    }
   ],
   "source": [
    "paired_test_data = pd.DataFrame({'person': ['A', 'B', 'C', 'D', 'E', 'A', 'B', 'C', 'D', 'E'],\n",
    "                                 'medicine': ['before', 'before', 'before', 'before', 'before',\n",
    "                                              'after', 'after', 'after', 'after', 'after'],\n",
    "                                 'body_temperature': [36.2, 36.2, 35.3, 36.1, 36.1,\n",
    "                                                   36.8, 36.1, 36.8, 37.1, 36.9]})\n",
    "paired_test_data"
   ]
  },
  {
   "cell_type": "markdown",
   "id": "a5326372",
   "metadata": {
    "papermill": {
     "duration": 0.003136,
     "end_time": "2022-09-06T01:27:32.179245",
     "exception": false,
     "start_time": "2022-09-06T01:27:32.176109",
     "status": "completed"
    },
    "tags": []
   },
   "source": [
    "$H_{0}$ : 전 후의 변화는 없다.\\\n",
    "$H_{1}$ : 전 후가 다르다."
   ]
  },
  {
   "cell_type": "code",
   "execution_count": 3,
   "id": "495b15cf",
   "metadata": {
    "execution": {
     "iopub.execute_input": "2022-09-06T01:27:32.187202Z",
     "iopub.status.busy": "2022-09-06T01:27:32.186871Z",
     "iopub.status.idle": "2022-09-06T01:27:32.205241Z",
     "shell.execute_reply": "2022-09-06T01:27:32.204353Z"
    },
    "papermill": {
     "duration": 0.024493,
     "end_time": "2022-09-06T01:27:32.207048",
     "exception": false,
     "start_time": "2022-09-06T01:27:32.182555",
     "status": "completed"
    },
    "tags": []
   },
   "outputs": [
    {
     "data": {
      "text/plain": [
       "array([ 0.6, -0.1,  1.5,  1. ,  0.8])"
      ]
     },
     "execution_count": 3,
     "metadata": {},
     "output_type": "execute_result"
    }
   ],
   "source": [
    "before = paired_test_data.query('medicine == \"before\"')['body_temperature']\n",
    "after = paired_test_data.query('medicine == \"after\"')['body_temperature']\n",
    "before = np.array(before)\n",
    "after = np.array(after)\n",
    "diff = after-before\n",
    "diff"
   ]
  },
  {
   "cell_type": "code",
   "execution_count": 4,
   "id": "0ea6a534",
   "metadata": {
    "execution": {
     "iopub.execute_input": "2022-09-06T01:27:32.215897Z",
     "iopub.status.busy": "2022-09-06T01:27:32.215071Z",
     "iopub.status.idle": "2022-09-06T01:27:32.223788Z",
     "shell.execute_reply": "2022-09-06T01:27:32.222813Z"
    },
    "papermill": {
     "duration": 0.015029,
     "end_time": "2022-09-06T01:27:32.225558",
     "exception": false,
     "start_time": "2022-09-06T01:27:32.210529",
     "status": "completed"
    },
    "tags": []
   },
   "outputs": [
    {
     "data": {
      "text/plain": [
       "Ttest_1sampResult(statistic=2.901693483620596, pvalue=0.044043109730074276)"
      ]
     },
     "execution_count": 4,
     "metadata": {},
     "output_type": "execute_result"
    }
   ],
   "source": [
    "# Calculate the t-test for the mean of ONE group of scores.\n",
    "sp.stats.ttest_1samp(diff, 0)"
   ]
  },
  {
   "cell_type": "code",
   "execution_count": 5,
   "id": "babd2ddd",
   "metadata": {
    "execution": {
     "iopub.execute_input": "2022-09-06T01:27:32.233743Z",
     "iopub.status.busy": "2022-09-06T01:27:32.233197Z",
     "iopub.status.idle": "2022-09-06T01:27:32.239190Z",
     "shell.execute_reply": "2022-09-06T01:27:32.238417Z"
    },
    "papermill": {
     "duration": 0.012211,
     "end_time": "2022-09-06T01:27:32.241129",
     "exception": false,
     "start_time": "2022-09-06T01:27:32.228918",
     "status": "completed"
    },
    "tags": []
   },
   "outputs": [
    {
     "data": {
      "text/plain": [
       "Ttest_relResult(statistic=2.901693483620596, pvalue=0.044043109730074276)"
      ]
     },
     "execution_count": 5,
     "metadata": {},
     "output_type": "execute_result"
    }
   ],
   "source": [
    "# Calculate the t-test on TWO RELATED samples of scores, a and b.\n",
    "sp.stats.ttest_rel(after, before)"
   ]
  },
  {
   "cell_type": "markdown",
   "id": "55c01ba7",
   "metadata": {
    "papermill": {
     "duration": 0.003186,
     "end_time": "2022-09-06T01:27:32.247741",
     "exception": false,
     "start_time": "2022-09-06T01:27:32.244555",
     "status": "completed"
    },
    "tags": []
   },
   "source": [
    "### 3.9.5 독립 표본 t-검정(Independent t-test, Two Samples t-test)\n",
    "### $t=\\frac{\\hat\\mu_{x}-\\hat\\mu_{y}}{\\sqrt{{\\hat\\sigma_{x}^{2}/m}+{\\hat\\sigma_{y}^{2}/n}}}$"
   ]
  },
  {
   "cell_type": "code",
   "execution_count": 6,
   "id": "587dce01",
   "metadata": {
    "execution": {
     "iopub.execute_input": "2022-09-06T01:27:32.256349Z",
     "iopub.status.busy": "2022-09-06T01:27:32.255531Z",
     "iopub.status.idle": "2022-09-06T01:27:32.262922Z",
     "shell.execute_reply": "2022-09-06T01:27:32.262279Z"
    },
    "papermill": {
     "duration": 0.01347,
     "end_time": "2022-09-06T01:27:32.264642",
     "exception": false,
     "start_time": "2022-09-06T01:27:32.251172",
     "status": "completed"
    },
    "tags": []
   },
   "outputs": [
    {
     "data": {
      "text/plain": [
       "3.1557282344421034"
      ]
     },
     "execution_count": 6,
     "metadata": {},
     "output_type": "execute_result"
    }
   ],
   "source": [
    "# mean of each other\n",
    "mean_bef = np.mean(before)\n",
    "mean_aft = np.mean(after)\n",
    "# variance\n",
    "sigma_bef = np.var(before, ddof=1)\n",
    "sigma_aft = np.var(after, ddof=1)\n",
    "# sample size\n",
    "m = len(before)\n",
    "n = len(after)\n",
    "# t value\n",
    "t_value = (mean_aft - mean_bef) / np.sqrt(sigma_aft/m + sigma_bef/n)\n",
    "t_value"
   ]
  },
  {
   "cell_type": "code",
   "execution_count": 7,
   "id": "1af79d06",
   "metadata": {
    "execution": {
     "iopub.execute_input": "2022-09-06T01:27:32.273999Z",
     "iopub.status.busy": "2022-09-06T01:27:32.273501Z",
     "iopub.status.idle": "2022-09-06T01:27:32.278971Z",
     "shell.execute_reply": "2022-09-06T01:27:32.278176Z"
    },
    "papermill": {
     "duration": 0.012274,
     "end_time": "2022-09-06T01:27:32.280877",
     "exception": false,
     "start_time": "2022-09-06T01:27:32.268603",
     "status": "completed"
    },
    "tags": []
   },
   "outputs": [
    {
     "data": {
      "text/plain": [
       "Ttest_indResult(statistic=3.1557282344421034, pvalue=0.013481508481701042)"
      ]
     },
     "execution_count": 7,
     "metadata": {},
     "output_type": "execute_result"
    }
   ],
   "source": [
    "# 함수를 이용한 독립표본 t-test\n",
    "sp.stats.ttest_ind(after, before)"
   ]
  },
  {
   "cell_type": "markdown",
   "id": "58d24692",
   "metadata": {
    "papermill": {
     "duration": 0.003529,
     "end_time": "2022-09-06T01:27:32.288293",
     "exception": false,
     "start_time": "2022-09-06T01:27:32.284764",
     "status": "completed"
    },
    "tags": []
   },
   "source": [
    "### 3.9.7 Homogeneity of variance 등분산성\n",
    "등분산성은 분산분석(ANOVA)을 통해 서로 다른 두개 이상의 집단을 비교하고자 할때, 기본적으로 해당 집단들이 만족해야되는 조건 중 한가지로 분산이 같음을 의미하게 된다.\n",
    "#### 가정\n",
    "등분산성(等分散性,homoskedasticity)이외의 나머지 조건으로는 독립성(Independently)과 정규성(Normally)이 있으며, 세 가지를 모두 합쳐 NID(Normally, Independently, Distributed with mean of zero and common variance)라고도 약칭한다.\n"
   ]
  },
  {
   "cell_type": "markdown",
   "id": "cf8506bb",
   "metadata": {
    "papermill": {
     "duration": 0.003431,
     "end_time": "2022-09-06T01:27:32.295392",
     "exception": false,
     "start_time": "2022-09-06T01:27:32.291961",
     "status": "completed"
    },
    "tags": []
   },
   "source": [
    "**but** 일부러 등분산을 알아볼 필요없이 항상 다르다고 가정한 t 검정을 사용해도 상관없다.\\\n",
    "즉, 언제나 **Welch** 검정을 사용해도 된다.\\\n",
    "**stats.ttest_ind** 함수에 **equal_var = False** 를 지정해서 넘기면, **Welch** 검정을 채택하는게 된다.\n"
   ]
  },
  {
   "cell_type": "code",
   "execution_count": null,
   "id": "15fb8945",
   "metadata": {
    "papermill": {
     "duration": 0.003323,
     "end_time": "2022-09-06T01:27:32.302296",
     "exception": false,
     "start_time": "2022-09-06T01:27:32.298973",
     "status": "completed"
    },
    "tags": []
   },
   "outputs": [],
   "source": []
  }
 ],
 "metadata": {
  "kernelspec": {
   "display_name": "Python 3",
   "language": "python",
   "name": "python3"
  },
  "language_info": {
   "codemirror_mode": {
    "name": "ipython",
    "version": 3
   },
   "file_extension": ".py",
   "mimetype": "text/x-python",
   "name": "python",
   "nbconvert_exporter": "python",
   "pygments_lexer": "ipython3",
   "version": "3.7.12"
  },
  "papermill": {
   "default_parameters": {},
   "duration": 9.479231,
   "end_time": "2022-09-06T01:27:33.026893",
   "environment_variables": {},
   "exception": null,
   "input_path": "__notebook__.ipynb",
   "output_path": "__notebook__.ipynb",
   "parameters": {},
   "start_time": "2022-09-06T01:27:23.547662",
   "version": "2.3.4"
  }
 },
 "nbformat": 4,
 "nbformat_minor": 5
}
