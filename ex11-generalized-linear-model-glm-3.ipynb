{
 "cells": [
  {
   "cell_type": "markdown",
   "id": "d4905c4d",
   "metadata": {
    "papermill": {
     "duration": 0.00634,
     "end_time": "2022-09-17T15:39:53.776529",
     "exception": false,
     "start_time": "2022-09-17T15:39:53.770189",
     "status": "completed"
    },
    "tags": []
   },
   "source": [
    "# 정리를 하다가 말다가 해서 자세한건 책에 다 나와 았습니다."
   ]
  },
  {
   "cell_type": "markdown",
   "id": "2cd1983d",
   "metadata": {
    "papermill": {
     "duration": 0.005425,
     "end_time": "2022-09-17T15:39:53.788690",
     "exception": false,
     "start_time": "2022-09-17T15:39:53.783265",
     "status": "completed"
    },
    "tags": []
   },
   "source": [
    "## 6.4 일반선형모델의 평가\n",
    "- 정규선형모델고 마찮가지로 모델을 평가할 때 잔차의 체크는 필수이다.\n",
    "- 모집단분포가 정규분포 이외의 분포가 되면 잔차의 취급이 크게 바뀐다.\n",
    "- 잔차는 데이터와 모델의 괴리를 표현하는 중요한 지표이다."
   ]
  },
  {
   "cell_type": "code",
   "execution_count": 1,
   "id": "ea40a235",
   "metadata": {
    "execution": {
     "iopub.execute_input": "2022-09-17T15:39:53.806001Z",
     "iopub.status.busy": "2022-09-17T15:39:53.805180Z",
     "iopub.status.idle": "2022-09-17T15:39:55.726412Z",
     "shell.execute_reply": "2022-09-17T15:39:55.725010Z"
    },
    "papermill": {
     "duration": 1.93313,
     "end_time": "2022-09-17T15:39:55.729433",
     "exception": false,
     "start_time": "2022-09-17T15:39:53.796303",
     "status": "completed"
    },
    "tags": []
   },
   "outputs": [],
   "source": [
    "import numpy as np\n",
    "import pandas as pd\n",
    "import scipy as sp\n",
    "from scipy import stats\n",
    "import matplotlib.pyplot as plt\n",
    "import seaborn as sns\n",
    "sns.set()\n",
    "\n",
    "import statsmodels.formula.api as smf\n",
    "import statsmodels.api as sm"
   ]
  },
  {
   "cell_type": "markdown",
   "id": "b5470dd1",
   "metadata": {
    "papermill": {
     "duration": 0.005923,
     "end_time": "2022-09-17T15:39:55.740150",
     "exception": false,
     "start_time": "2022-09-17T15:39:55.734227",
     "status": "completed"
    },
    "tags": []
   },
   "source": [
    "EX10)과 같은 데이터 사용"
   ]
  },
  {
   "cell_type": "code",
   "execution_count": 2,
   "id": "87b38748",
   "metadata": {
    "execution": {
     "iopub.execute_input": "2022-09-17T15:39:55.755663Z",
     "iopub.status.busy": "2022-09-17T15:39:55.754964Z",
     "iopub.status.idle": "2022-09-17T15:39:55.815842Z",
     "shell.execute_reply": "2022-09-17T15:39:55.814646Z"
    },
    "papermill": {
     "duration": 0.071158,
     "end_time": "2022-09-17T15:39:55.818600",
     "exception": false,
     "start_time": "2022-09-17T15:39:55.747442",
     "status": "completed"
    },
    "tags": []
   },
   "outputs": [],
   "source": [
    "# 데이터를 불러와서 모델 만드는 것까지.\n",
    "test_result = pd.read_csv('../input/lm-model/6-3-1-logistic-regression.csv')\n",
    "mod_glm = smf.glm('result~hours', data=test_result, family=sm.families.Binomial()).fit()"
   ]
  },
  {
   "cell_type": "markdown",
   "id": "642baea1",
   "metadata": {
    "papermill": {
     "duration": 0.005298,
     "end_time": "2022-09-17T15:39:55.828772",
     "exception": false,
     "start_time": "2022-09-17T15:39:55.823474",
     "status": "completed"
    },
    "tags": []
   },
   "source": [
    "### 피어슨 잔차\n",
    "- 이항분포에서 **피어슨 잔차**의 계산\n",
    "- $y$는 족속변수(이항확률변수, 이경우 합격여부), $N$은 시행횟수,\\\n",
    "  $\\hat{p}$은 추측한 성공확률(mod_glm.predict())로 계산한 예측치)\n",
    "#### $Pearson\\,residuals = \\frac{y-N\\hat{p}}{\\sqrt{N\\hat{p}(1-\\hat{p})}}$\n",
    "- 여기서 하나하나의 예측 결과의 시행횟수는 당연히 1이 되기 때문에 피어슨 잔차는 다음과 같이 계산한다.\n",
    "#### $Pearson\\,residuals = \\frac{y-\\hat{p}}{\\sqrt{\\hat{p}(1-\\hat{p})}}$\n",
    "\n",
    "### 6.4.3 피어슨 잔차의 해석\n",
    "- 피어슨 잔차의 분모에 있는 $N\\hat{p}(1-\\hat{p})$은 이항분포의 분산의 값과 일치한다.\n",
    "  그 값에 루트를 취한 것이므로 이항분포의 표준편차로 볼 수 있다.\n",
    "- 정규선형모델에서는 종속변수와 predict() 함수로 구한 예측값의 차이를 잔차로 사용했다.\n",
    "  $y-\\hat{p}$를 잔차로 사용하는 느낌이다.\n",
    "- 피어슨 잔차는 일반 잔차를 분포의 표준편차로 나눈것으로 해석할 수 있다.\n",
    "- $N$을 고정했을 때 이항분포의 분산 $Np(1-P)$가 최고로 클 때는 $p=0.5$일 때이다.\n",
    "  합, 불이 반반일때 데이터가 크게 흩어질 것이라는 것.\n",
    "  이때 데이터의 흩어짐이 크다해도 상정 범위 내의 '작은 흩어짐'이라고 할 수 있다.\n",
    "- 반대로 $p=0.9$와 같이 합격이 거의 확실히 예측되는 경우 분산도 작아진다.\n",
    "- 이때의 예측을 제외하면 큰 차이라고 간주할 수 있다.\n",
    "- ***이것이 피어슨 잔차이다.***\\"
   ]
  },
  {
   "cell_type": "markdown",
   "id": "3f6e3cb6",
   "metadata": {
    "papermill": {
     "duration": 0.006705,
     "end_time": "2022-09-17T15:39:55.840316",
     "exception": false,
     "start_time": "2022-09-17T15:39:55.833611",
     "status": "completed"
    },
    "tags": []
   },
   "source": [
    "### 피어슨 잔차"
   ]
  },
  {
   "cell_type": "code",
   "execution_count": 3,
   "id": "689fdb17",
   "metadata": {
    "execution": {
     "iopub.execute_input": "2022-09-17T15:39:55.852477Z",
     "iopub.status.busy": "2022-09-17T15:39:55.852051Z",
     "iopub.status.idle": "2022-09-17T15:39:55.864774Z",
     "shell.execute_reply": "2022-09-17T15:39:55.863764Z"
    },
    "papermill": {
     "duration": 0.020763,
     "end_time": "2022-09-17T15:39:55.867002",
     "exception": false,
     "start_time": "2022-09-17T15:39:55.846239",
     "status": "completed"
    },
    "tags": []
   },
   "outputs": [
    {
     "data": {
      "text/plain": [
       "0   -0.102351\n",
       "1   -0.102351\n",
       "2   -0.102351\n",
       "3   -0.102351\n",
       "4   -0.102351\n",
       "Name: result, dtype: float64"
      ]
     },
     "execution_count": 3,
     "metadata": {},
     "output_type": "execute_result"
    }
   ],
   "source": [
    "# 예측한 성공확률\n",
    "pred = mod_glm.predict()\n",
    "\n",
    "# 종속변수(시험 합격여부)\n",
    "y = test_result.result\n",
    "\n",
    "# 피어슨 잔차\n",
    "pearson_resid = (y-pred) / np.sqrt(pred*(1-pred))\n",
    "pearson_resid.head()"
   ]
  },
  {
   "cell_type": "code",
   "execution_count": 4,
   "id": "b78ac104",
   "metadata": {
    "execution": {
     "iopub.execute_input": "2022-09-17T15:39:55.878598Z",
     "iopub.status.busy": "2022-09-17T15:39:55.877948Z",
     "iopub.status.idle": "2022-09-17T15:39:55.886403Z",
     "shell.execute_reply": "2022-09-17T15:39:55.885444Z"
    },
    "papermill": {
     "duration": 0.016604,
     "end_time": "2022-09-17T15:39:55.888468",
     "exception": false,
     "start_time": "2022-09-17T15:39:55.871864",
     "status": "completed"
    },
    "tags": []
   },
   "outputs": [
    {
     "data": {
      "text/plain": [
       "0   -0.102351\n",
       "1   -0.102351\n",
       "2   -0.102351\n",
       "3   -0.102351\n",
       "4   -0.102351\n",
       "dtype: float64"
      ]
     },
     "execution_count": 4,
     "metadata": {},
     "output_type": "execute_result"
    }
   ],
   "source": [
    "# 모델에서 피어슨 잔차 가져오기\n",
    "mod_glm.resid_pearson.head()"
   ]
  },
  {
   "cell_type": "code",
   "execution_count": 5,
   "id": "61404803",
   "metadata": {
    "execution": {
     "iopub.execute_input": "2022-09-17T15:39:55.900396Z",
     "iopub.status.busy": "2022-09-17T15:39:55.899733Z",
     "iopub.status.idle": "2022-09-17T15:39:55.906079Z",
     "shell.execute_reply": "2022-09-17T15:39:55.905374Z"
    },
    "papermill": {
     "duration": 0.014579,
     "end_time": "2022-09-17T15:39:55.908041",
     "exception": false,
     "start_time": "2022-09-17T15:39:55.893462",
     "status": "completed"
    },
    "tags": []
   },
   "outputs": [
    {
     "data": {
      "text/plain": [
       "84.91138782569973"
      ]
     },
     "execution_count": 5,
     "metadata": {},
     "output_type": "execute_result"
    }
   ],
   "source": [
    "# 피어슨잔차제곱합은 피어슨 카이제곱통계량이 된다.\n",
    "np.sum(mod_glm.resid_pearson**2)"
   ]
  },
  {
   "cell_type": "code",
   "execution_count": 6,
   "id": "524d644f",
   "metadata": {
    "execution": {
     "iopub.execute_input": "2022-09-17T15:39:55.920430Z",
     "iopub.status.busy": "2022-09-17T15:39:55.919715Z",
     "iopub.status.idle": "2022-09-17T15:39:55.926173Z",
     "shell.execute_reply": "2022-09-17T15:39:55.925133Z"
    },
    "papermill": {
     "duration": 0.015078,
     "end_time": "2022-09-17T15:39:55.928360",
     "exception": false,
     "start_time": "2022-09-17T15:39:55.913282",
     "status": "completed"
    },
    "tags": []
   },
   "outputs": [
    {
     "data": {
      "text/plain": [
       "84.91138782569973"
      ]
     },
     "execution_count": 6,
     "metadata": {},
     "output_type": "execute_result"
    }
   ],
   "source": [
    "# 위의 결과는 summary() 함수에서도 출력되고, 직접 가져올 수도 있다.\n",
    "mod_glm.pearson_chi2"
   ]
  },
  {
   "cell_type": "markdown",
   "id": "7a18d0be",
   "metadata": {
    "papermill": {
     "duration": 0.004695,
     "end_time": "2022-09-17T15:39:55.938177",
     "exception": false,
     "start_time": "2022-09-17T15:39:55.933482",
     "status": "completed"
    },
    "tags": []
   },
   "source": [
    "### 6.4.5 deviance\n",
    "- **deviance**는 모델의 적합도를 평가하는 지표이다.\n",
    "- deviance가 크면 모델이 맞지 않다고 평가할 수 있다.\n",
    "- 로지스틱 회귀의 로그우도함수를 $\\log\\mathcal{L}(\\beta_{0},\\beta_{1};N,m)$ 이라고 한다.\\\n",
    "  계수 $\\beta_{0},\\beta_{1}$ 을 바꿈으로써 우도가 변한다.\\\n",
    "  여기서 최대우도법을 추정한 로지스틱 회귀의 계수에 근거한 로그우도를 $\\log\\mathcal{L}(\\beta_{glm};y)$ 라고 한다.\n",
    "- 모든 합격 여부를 완전히 예측할 수 있을 때의 로그우도를 $\\log\\mathcal{L}(\\beta_{max};y)$ 라고 한다."
   ]
  },
  {
   "cell_type": "markdown",
   "id": "8b06db3c",
   "metadata": {
    "papermill": {
     "duration": 0.004912,
     "end_time": "2022-09-17T15:39:55.948255",
     "exception": false,
     "start_time": "2022-09-17T15:39:55.943343",
     "status": "completed"
    },
    "tags": []
   },
   "source": [
    "### 6.4.8 deviance 잔차\n",
    "- 이항분포에서 **deviance 잔차** 는 deviance 잔차제곱합이 deviance가 된다는 사실로 계산한다."
   ]
  },
  {
   "cell_type": "code",
   "execution_count": 7,
   "id": "afda416b",
   "metadata": {
    "execution": {
     "iopub.execute_input": "2022-09-17T15:39:55.960678Z",
     "iopub.status.busy": "2022-09-17T15:39:55.959560Z",
     "iopub.status.idle": "2022-09-17T15:39:55.971052Z",
     "shell.execute_reply": "2022-09-17T15:39:55.969986Z"
    },
    "papermill": {
     "duration": 0.019873,
     "end_time": "2022-09-17T15:39:55.973165",
     "exception": false,
     "start_time": "2022-09-17T15:39:55.953292",
     "status": "completed"
    },
    "tags": []
   },
   "outputs": [
    {
     "data": {
      "text/plain": [
       "0   -0.144369\n",
       "1   -0.144369\n",
       "2   -0.144369\n",
       "3   -0.144369\n",
       "4   -0.144369\n",
       "Name: result, dtype: float64"
      ]
     },
     "execution_count": 7,
     "metadata": {},
     "output_type": "execute_result"
    }
   ],
   "source": [
    "# 예측한 성공확률\n",
    "pred = mod_glm.predict()\n",
    "\n",
    "# 종속변수(테스트 합격여부)\n",
    "y = test_result.result\n",
    "\n",
    "# 합격여부를 완전히 예측할 수 있을 때의 로그우도와 잔차\n",
    "resid_tmp = 0 - np.log(sp.stats.binom.pmf(k=y, n=1, p=pred))\n",
    "\n",
    "# deviance 잔차\n",
    "deviance_resid = np.sqrt(2*resid_tmp) * np.sign(y-pred)\n",
    "deviance_resid.head()"
   ]
  },
  {
   "cell_type": "code",
   "execution_count": 8,
   "id": "c3a0e18b",
   "metadata": {
    "execution": {
     "iopub.execute_input": "2022-09-17T15:39:55.985351Z",
     "iopub.status.busy": "2022-09-17T15:39:55.984943Z",
     "iopub.status.idle": "2022-09-17T15:39:55.993371Z",
     "shell.execute_reply": "2022-09-17T15:39:55.992611Z"
    },
    "papermill": {
     "duration": 0.016906,
     "end_time": "2022-09-17T15:39:55.995437",
     "exception": false,
     "start_time": "2022-09-17T15:39:55.978531",
     "status": "completed"
    },
    "tags": []
   },
   "outputs": [
    {
     "data": {
      "text/plain": [
       "0    -0.144369\n",
       "1    -0.144369\n",
       "2    -0.144369\n",
       "3    -0.144369\n",
       "4    -0.144369\n",
       "        ...   \n",
       "95    0.210216\n",
       "96    0.210216\n",
       "97    0.210216\n",
       "98    0.210216\n",
       "99    0.210216\n",
       "Length: 100, dtype: float64"
      ]
     },
     "execution_count": 8,
     "metadata": {},
     "output_type": "execute_result"
    }
   ],
   "source": [
    "# 모델에서 직접얻기\n",
    "mod_glm.resid_deviance"
   ]
  },
  {
   "cell_type": "code",
   "execution_count": 9,
   "id": "4e48daa6",
   "metadata": {
    "execution": {
     "iopub.execute_input": "2022-09-17T15:39:56.008658Z",
     "iopub.status.busy": "2022-09-17T15:39:56.008226Z",
     "iopub.status.idle": "2022-09-17T15:39:56.016482Z",
     "shell.execute_reply": "2022-09-17T15:39:56.015461Z"
    },
    "papermill": {
     "duration": 0.018084,
     "end_time": "2022-09-17T15:39:56.018785",
     "exception": false,
     "start_time": "2022-09-17T15:39:56.000701",
     "status": "completed"
    },
    "tags": []
   },
   "outputs": [
    {
     "data": {
      "text/plain": [
       "68.02788118117269"
      ]
     },
     "execution_count": 9,
     "metadata": {},
     "output_type": "execute_result"
    }
   ],
   "source": [
    "# deviance 잔차제곱합은 deviance가 된다. summary에서도 출력됨\n",
    "np.sum(mod_glm.resid_deviance**2)"
   ]
  },
  {
   "cell_type": "code",
   "execution_count": 10,
   "id": "bc1235c6",
   "metadata": {
    "execution": {
     "iopub.execute_input": "2022-09-17T15:39:56.032245Z",
     "iopub.status.busy": "2022-09-17T15:39:56.031518Z",
     "iopub.status.idle": "2022-09-17T15:39:56.037957Z",
     "shell.execute_reply": "2022-09-17T15:39:56.036917Z"
    },
    "papermill": {
     "duration": 0.01587,
     "end_time": "2022-09-17T15:39:56.040683",
     "exception": false,
     "start_time": "2022-09-17T15:39:56.024813",
     "status": "completed"
    },
    "tags": []
   },
   "outputs": [
    {
     "data": {
      "text/plain": [
       "68.02788118117269"
      ]
     },
     "execution_count": 10,
     "metadata": {},
     "output_type": "execute_result"
    }
   ],
   "source": [
    "# 한방에 보임. 근데 이게 뭐 어떻다는 건지... ㅠㅠ\n",
    "mod_glm.deviance"
   ]
  },
  {
   "cell_type": "markdown",
   "id": "54bfa6fa",
   "metadata": {
    "papermill": {
     "duration": 0.005136,
     "end_time": "2022-09-17T15:39:56.051295",
     "exception": false,
     "start_time": "2022-09-17T15:39:56.046159",
     "status": "completed"
    },
    "tags": []
   },
   "source": [
    "**교차 엔트로피 오차 최소화**는 **deviance 최소화**와 같고, 로지스틱 회귀의 **로그우도를 최대**로 하는 것과 같다."
   ]
  },
  {
   "cell_type": "code",
   "execution_count": null,
   "id": "4310e561",
   "metadata": {
    "papermill": {
     "duration": 0.005278,
     "end_time": "2022-09-17T15:39:56.061938",
     "exception": false,
     "start_time": "2022-09-17T15:39:56.056660",
     "status": "completed"
    },
    "tags": []
   },
   "outputs": [],
   "source": []
  }
 ],
 "metadata": {
  "kernelspec": {
   "display_name": "Python 3",
   "language": "python",
   "name": "python3"
  },
  "language_info": {
   "codemirror_mode": {
    "name": "ipython",
    "version": 3
   },
   "file_extension": ".py",
   "mimetype": "text/x-python",
   "name": "python",
   "nbconvert_exporter": "python",
   "pygments_lexer": "ipython3",
   "version": "3.7.12"
  },
  "papermill": {
   "default_parameters": {},
   "duration": 11.793571,
   "end_time": "2022-09-17T15:39:56.788270",
   "environment_variables": {},
   "exception": null,
   "input_path": "__notebook__.ipynb",
   "output_path": "__notebook__.ipynb",
   "parameters": {},
   "start_time": "2022-09-17T15:39:44.994699",
   "version": "2.3.4"
  }
 },
 "nbformat": 4,
 "nbformat_minor": 5
}
