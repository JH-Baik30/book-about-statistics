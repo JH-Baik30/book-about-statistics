{
 "cells": [
  {
   "cell_type": "markdown",
   "id": "c26c6e3b",
   "metadata": {
    "execution": {
     "iopub.execute_input": "2022-09-18T13:45:02.465071Z",
     "iopub.status.busy": "2022-09-18T13:45:02.463369Z",
     "iopub.status.idle": "2022-09-18T13:45:02.483517Z",
     "shell.execute_reply": "2022-09-18T13:45:02.479419Z",
     "shell.execute_reply.started": "2022-09-18T13:45:02.464955Z"
    },
    "papermill": {
     "duration": 0.007624,
     "end_time": "2022-09-18T13:51:42.014034",
     "exception": false,
     "start_time": "2022-09-18T13:51:42.006410",
     "status": "completed"
    },
    "tags": []
   },
   "source": [
    "자세한 내용과 수식은 책에 나와있음. 책 만세~"
   ]
  },
  {
   "cell_type": "markdown",
   "id": "013a83c2",
   "metadata": {
    "papermill": {
     "duration": 0.006238,
     "end_time": "2022-09-18T13:51:42.027347",
     "exception": false,
     "start_time": "2022-09-18T13:51:42.021109",
     "status": "completed"
    },
    "tags": []
   },
   "source": [
    "## 7.2 정규화와 Ridge, Lasso regression\n",
    "### 7.2.1 정규화\n",
    "- 파라미터 추정시 손실함수의 계수가 큰 값이 되는 것에 벌칙항을 도입 하는 기법\n",
    "- 벌칙항은 정규화항이라고도 한다.\n",
    "- 통계학에서는 파라미터의 **축소추정**이라한다.\n",
    "\n",
    "### 7.2.2 Ridge(L$_{2}$) regression\n",
    "- 정규화항으로 계수의 제곱합을 이용한 모델\n",
    "- 정규선형모델을 대상으로 하나 로지스틱회귀 등에서도 확장 가능\n",
    "- 잔차제곱합을 작게 하고 싶지만 벌칙은 받고 싶지 않다.\\\n",
    "  그래서 절대치가 작은 계수가 추정된다. 이것이 축소추정이라 불리는 이유이다.\n",
    "\n",
    "### 7.2.3 Lasso(L$_{1}$) regression\n",
    "- 정규화항으로 계수의 절대값의 합을 이용한 회귀모델\n",
    "\n",
    "### 7.2.3 정규화 강도를 지정하는 파라미터의 결정\n",
    "- 수식의 $\\alpha$를 결정하는 방법 설명.\n",
    "\n",
    "### 7.2.5 독립변수의 표준화\n",
    "- 리지나 라소 회귀 실행전 독립변수를 평균 0, 표준편차 1로 표준화(Standardization)한다. \n",
    "\n",
    "### 7.2.6 리지 회귀와 라소 회귀의 추정 결과 차이\n",
    "- 리지 회귀는 전체적으로 절대값이 작은 계수가 추정되는 경향이 있다.\n",
    "- 라쏘 회귀는 소수의 계수만 0이 아닌 값이 되고, 그외는 모두 0이 되는 결과가 되기 쉽다.\n",
    "\n",
    "### 7.2.7 변수 선택과 정규화의 비교\n",
    "\n",
    "### 7.2.8 정규화의 의의\n",
    "- 과학습 억제"
   ]
  },
  {
   "cell_type": "markdown",
   "id": "c1fff8b8",
   "metadata": {
    "papermill": {
     "duration": 0.006527,
     "end_time": "2022-09-18T13:51:42.040245",
     "exception": false,
     "start_time": "2022-09-18T13:51:42.033718",
     "status": "completed"
    },
    "tags": []
   },
   "source": [
    "## 7.3 파이썬을 이용한 리지 회귀와 라소 회귀"
   ]
  },
  {
   "cell_type": "code",
   "execution_count": 1,
   "id": "1daf6d96",
   "metadata": {
    "execution": {
     "iopub.execute_input": "2022-09-18T13:51:42.056082Z",
     "iopub.status.busy": "2022-09-18T13:51:42.055335Z",
     "iopub.status.idle": "2022-09-18T13:51:43.963473Z",
     "shell.execute_reply": "2022-09-18T13:51:43.962381Z"
    },
    "papermill": {
     "duration": 1.919339,
     "end_time": "2022-09-18T13:51:43.966449",
     "exception": false,
     "start_time": "2022-09-18T13:51:42.047110",
     "status": "completed"
    },
    "tags": []
   },
   "outputs": [],
   "source": [
    "import numpy as np\n",
    "import pandas as pd\n",
    "import scipy as sp\n",
    "from scipy import stats\n",
    "import matplotlib.pyplot as plt\n",
    "import seaborn as sns\n",
    "sns.set()\n",
    "\n",
    "import statsmodels.formula.api as smf\n",
    "import statsmodels.api as sm\n",
    "\n",
    "from sklearn import linear_model"
   ]
  },
  {
   "cell_type": "code",
   "execution_count": 2,
   "id": "83226714",
   "metadata": {
    "execution": {
     "iopub.execute_input": "2022-09-18T13:51:43.982118Z",
     "iopub.status.busy": "2022-09-18T13:51:43.981011Z",
     "iopub.status.idle": "2022-09-18T13:51:44.043671Z",
     "shell.execute_reply": "2022-09-18T13:51:44.042398Z"
    },
    "papermill": {
     "duration": 0.07357,
     "end_time": "2022-09-18T13:51:44.046781",
     "exception": false,
     "start_time": "2022-09-18T13:51:43.973211",
     "status": "completed"
    },
    "tags": []
   },
   "outputs": [
    {
     "data": {
      "text/html": [
       "<div>\n",
       "<style scoped>\n",
       "    .dataframe tbody tr th:only-of-type {\n",
       "        vertical-align: middle;\n",
       "    }\n",
       "\n",
       "    .dataframe tbody tr th {\n",
       "        vertical-align: top;\n",
       "    }\n",
       "\n",
       "    .dataframe thead th {\n",
       "        text-align: right;\n",
       "    }\n",
       "</style>\n",
       "<table border=\"1\" class=\"dataframe\">\n",
       "  <thead>\n",
       "    <tr style=\"text-align: right;\">\n",
       "      <th></th>\n",
       "      <th>X_1</th>\n",
       "      <th>X_2</th>\n",
       "      <th>X_3</th>\n",
       "      <th>X_4</th>\n",
       "      <th>X_5</th>\n",
       "      <th>X_6</th>\n",
       "      <th>X_7</th>\n",
       "      <th>X_8</th>\n",
       "      <th>X_9</th>\n",
       "      <th>X_10</th>\n",
       "      <th>...</th>\n",
       "      <th>X_91</th>\n",
       "      <th>X_92</th>\n",
       "      <th>X_93</th>\n",
       "      <th>X_94</th>\n",
       "      <th>X_95</th>\n",
       "      <th>X_96</th>\n",
       "      <th>X_97</th>\n",
       "      <th>X_98</th>\n",
       "      <th>X_99</th>\n",
       "      <th>X_100</th>\n",
       "    </tr>\n",
       "  </thead>\n",
       "  <tbody>\n",
       "    <tr>\n",
       "      <th>0</th>\n",
       "      <td>1.0000</td>\n",
       "      <td>0.5000</td>\n",
       "      <td>0.3333</td>\n",
       "      <td>0.2500</td>\n",
       "      <td>0.2000</td>\n",
       "      <td>0.1667</td>\n",
       "      <td>0.1429</td>\n",
       "      <td>0.1250</td>\n",
       "      <td>0.1111</td>\n",
       "      <td>0.1000</td>\n",
       "      <td>...</td>\n",
       "      <td>0.0110</td>\n",
       "      <td>0.0109</td>\n",
       "      <td>0.0108</td>\n",
       "      <td>0.0106</td>\n",
       "      <td>0.0105</td>\n",
       "      <td>0.0104</td>\n",
       "      <td>0.0103</td>\n",
       "      <td>0.0102</td>\n",
       "      <td>0.0101</td>\n",
       "      <td>0.0100</td>\n",
       "    </tr>\n",
       "    <tr>\n",
       "      <th>1</th>\n",
       "      <td>0.5000</td>\n",
       "      <td>0.3333</td>\n",
       "      <td>0.2500</td>\n",
       "      <td>0.2000</td>\n",
       "      <td>0.1667</td>\n",
       "      <td>0.1429</td>\n",
       "      <td>0.1250</td>\n",
       "      <td>0.1111</td>\n",
       "      <td>0.1000</td>\n",
       "      <td>0.0909</td>\n",
       "      <td>...</td>\n",
       "      <td>0.0109</td>\n",
       "      <td>0.0108</td>\n",
       "      <td>0.0106</td>\n",
       "      <td>0.0105</td>\n",
       "      <td>0.0104</td>\n",
       "      <td>0.0103</td>\n",
       "      <td>0.0102</td>\n",
       "      <td>0.0101</td>\n",
       "      <td>0.0100</td>\n",
       "      <td>0.0099</td>\n",
       "    </tr>\n",
       "    <tr>\n",
       "      <th>2</th>\n",
       "      <td>0.3333</td>\n",
       "      <td>0.2500</td>\n",
       "      <td>0.2000</td>\n",
       "      <td>0.1667</td>\n",
       "      <td>0.1429</td>\n",
       "      <td>0.1250</td>\n",
       "      <td>0.1111</td>\n",
       "      <td>0.1000</td>\n",
       "      <td>0.0909</td>\n",
       "      <td>0.0833</td>\n",
       "      <td>...</td>\n",
       "      <td>0.0108</td>\n",
       "      <td>0.0106</td>\n",
       "      <td>0.0105</td>\n",
       "      <td>0.0104</td>\n",
       "      <td>0.0103</td>\n",
       "      <td>0.0102</td>\n",
       "      <td>0.0101</td>\n",
       "      <td>0.0100</td>\n",
       "      <td>0.0099</td>\n",
       "      <td>0.0098</td>\n",
       "    </tr>\n",
       "    <tr>\n",
       "      <th>3</th>\n",
       "      <td>0.2500</td>\n",
       "      <td>0.2000</td>\n",
       "      <td>0.1667</td>\n",
       "      <td>0.1429</td>\n",
       "      <td>0.1250</td>\n",
       "      <td>0.1111</td>\n",
       "      <td>0.1000</td>\n",
       "      <td>0.0909</td>\n",
       "      <td>0.0833</td>\n",
       "      <td>0.0769</td>\n",
       "      <td>...</td>\n",
       "      <td>0.0106</td>\n",
       "      <td>0.0105</td>\n",
       "      <td>0.0104</td>\n",
       "      <td>0.0103</td>\n",
       "      <td>0.0102</td>\n",
       "      <td>0.0101</td>\n",
       "      <td>0.0100</td>\n",
       "      <td>0.0099</td>\n",
       "      <td>0.0098</td>\n",
       "      <td>0.0097</td>\n",
       "    </tr>\n",
       "    <tr>\n",
       "      <th>4</th>\n",
       "      <td>0.2000</td>\n",
       "      <td>0.1667</td>\n",
       "      <td>0.1429</td>\n",
       "      <td>0.1250</td>\n",
       "      <td>0.1111</td>\n",
       "      <td>0.1000</td>\n",
       "      <td>0.0909</td>\n",
       "      <td>0.0833</td>\n",
       "      <td>0.0769</td>\n",
       "      <td>0.0714</td>\n",
       "      <td>...</td>\n",
       "      <td>0.0105</td>\n",
       "      <td>0.0104</td>\n",
       "      <td>0.0103</td>\n",
       "      <td>0.0102</td>\n",
       "      <td>0.0101</td>\n",
       "      <td>0.0100</td>\n",
       "      <td>0.0099</td>\n",
       "      <td>0.0098</td>\n",
       "      <td>0.0097</td>\n",
       "      <td>0.0096</td>\n",
       "    </tr>\n",
       "  </tbody>\n",
       "</table>\n",
       "<p>5 rows × 100 columns</p>\n",
       "</div>"
      ],
      "text/plain": [
       "      X_1     X_2     X_3     X_4     X_5     X_6     X_7     X_8     X_9  \\\n",
       "0  1.0000  0.5000  0.3333  0.2500  0.2000  0.1667  0.1429  0.1250  0.1111   \n",
       "1  0.5000  0.3333  0.2500  0.2000  0.1667  0.1429  0.1250  0.1111  0.1000   \n",
       "2  0.3333  0.2500  0.2000  0.1667  0.1429  0.1250  0.1111  0.1000  0.0909   \n",
       "3  0.2500  0.2000  0.1667  0.1429  0.1250  0.1111  0.1000  0.0909  0.0833   \n",
       "4  0.2000  0.1667  0.1429  0.1250  0.1111  0.1000  0.0909  0.0833  0.0769   \n",
       "\n",
       "     X_10  ...    X_91    X_92    X_93    X_94    X_95    X_96    X_97  \\\n",
       "0  0.1000  ...  0.0110  0.0109  0.0108  0.0106  0.0105  0.0104  0.0103   \n",
       "1  0.0909  ...  0.0109  0.0108  0.0106  0.0105  0.0104  0.0103  0.0102   \n",
       "2  0.0833  ...  0.0108  0.0106  0.0105  0.0104  0.0103  0.0102  0.0101   \n",
       "3  0.0769  ...  0.0106  0.0105  0.0104  0.0103  0.0102  0.0101  0.0100   \n",
       "4  0.0714  ...  0.0105  0.0104  0.0103  0.0102  0.0101  0.0100  0.0099   \n",
       "\n",
       "     X_98    X_99   X_100  \n",
       "0  0.0102  0.0101  0.0100  \n",
       "1  0.0101  0.0100  0.0099  \n",
       "2  0.0100  0.0099  0.0098  \n",
       "3  0.0099  0.0098  0.0097  \n",
       "4  0.0098  0.0097  0.0096  \n",
       "\n",
       "[5 rows x 100 columns]"
      ]
     },
     "execution_count": 2,
     "metadata": {},
     "output_type": "execute_result"
    }
   ],
   "source": [
    "X = pd.read_csv('../input/lm-model/7-3-1-large-data.csv')\n",
    "X.head()"
   ]
  },
  {
   "cell_type": "markdown",
   "id": "028778fc",
   "metadata": {
    "papermill": {
     "duration": 0.006581,
     "end_time": "2022-09-18T13:51:44.060498",
     "exception": false,
     "start_time": "2022-09-18T13:51:44.053917",
     "status": "completed"
    },
    "tags": []
   },
   "source": [
    "### 7.3.3 표준화(Standardization) 평균 0, 표준편차 1"
   ]
  },
  {
   "cell_type": "code",
   "execution_count": 3,
   "id": "2175a7d6",
   "metadata": {
    "execution": {
     "iopub.execute_input": "2022-09-18T13:51:44.076695Z",
     "iopub.status.busy": "2022-09-18T13:51:44.075498Z",
     "iopub.status.idle": "2022-09-18T13:51:44.084806Z",
     "shell.execute_reply": "2022-09-18T13:51:44.083896Z"
    },
    "papermill": {
     "duration": 0.019491,
     "end_time": "2022-09-18T13:51:44.086843",
     "exception": false,
     "start_time": "2022-09-18T13:51:44.067352",
     "status": "completed"
    },
    "tags": []
   },
   "outputs": [
    {
     "data": {
      "text/plain": [
       "X_1    0.037272\n",
       "X_2    0.030649\n",
       "X_3    0.027360\n",
       "X_4    0.025181\n",
       "X_5    0.023558\n",
       "dtype: float64"
      ]
     },
     "execution_count": 3,
     "metadata": {},
     "output_type": "execute_result"
    }
   ],
   "source": [
    "# column 별로 평균 구하기\n",
    "np.mean(X, axis=0).head()"
   ]
  },
  {
   "cell_type": "code",
   "execution_count": 4,
   "id": "d0f4e0c2",
   "metadata": {
    "execution": {
     "iopub.execute_input": "2022-09-18T13:51:44.102483Z",
     "iopub.status.busy": "2022-09-18T13:51:44.101921Z",
     "iopub.status.idle": "2022-09-18T13:51:44.117451Z",
     "shell.execute_reply": "2022-09-18T13:51:44.116239Z"
    },
    "papermill": {
     "duration": 0.026779,
     "end_time": "2022-09-18T13:51:44.120585",
     "exception": false,
     "start_time": "2022-09-18T13:51:44.093806",
     "status": "completed"
    },
    "tags": []
   },
   "outputs": [
    {
     "name": "stdout",
     "output_type": "stream",
     "text": [
      "평균 : \n",
      " X_1   -0.0\n",
      "X_2   -0.0\n",
      "X_3    0.0\n",
      "X_4   -0.0\n",
      "X_5    0.0\n",
      "dtype: float64\n",
      "표준편차 : \n",
      " X_1    1.0\n",
      "X_2    1.0\n",
      "X_3    1.0\n",
      "X_4    1.0\n",
      "X_5    1.0\n",
      "dtype: float64\n"
     ]
    }
   ],
   "source": [
    "# 단순하게 표준화하기\n",
    "X -= np.mean(X, axis=0)\n",
    "X /= np.std(X, ddof=1, axis=0)\n",
    "\n",
    "# 표준화되었는지 확인.\n",
    "print('평균 : \\n', np.mean(X, axis=0).round(3).head())\n",
    "print('표준편차 : \\n', np.std(X, ddof=1, axis=0).head())"
   ]
  },
  {
   "cell_type": "markdown",
   "id": "07bb3b41",
   "metadata": {
    "papermill": {
     "duration": 0.007838,
     "end_time": "2022-09-18T13:51:44.135866",
     "exception": false,
     "start_time": "2022-09-18T13:51:44.128028",
     "status": "completed"
    },
    "tags": []
   },
   "source": [
    "### 7.3.4 시뮬레이션으로 종속변수 만들기\n",
    "데이터에 종속변수가 없으므로 만들어야한다."
   ]
  },
  {
   "cell_type": "code",
   "execution_count": 5,
   "id": "ecc3757d",
   "metadata": {
    "execution": {
     "iopub.execute_input": "2022-09-18T13:51:44.152538Z",
     "iopub.status.busy": "2022-09-18T13:51:44.151322Z",
     "iopub.status.idle": "2022-09-18T13:51:45.269432Z",
     "shell.execute_reply": "2022-09-18T13:51:45.268197Z"
    },
    "papermill": {
     "duration": 1.12917,
     "end_time": "2022-09-18T13:51:45.272081",
     "exception": false,
     "start_time": "2022-09-18T13:51:44.142911",
     "status": "completed"
    },
    "tags": []
   },
   "outputs": [
    {
     "data": {
      "image/png": "[encoded data removed]",
      "text/plain": [
       "<Figure size 432x432 with 3 Axes>"
      ]
     },
     "metadata": {},
     "output_type": "display_data"
    }
   ],
   "source": [
    "# 정규분포를 따르는 노이즈\n",
    "np.random.seed(1)\n",
    "noise = sp.stats.norm.rvs(loc=0, scale=1, size=X.shape[0])\n",
    "\n",
    "# 올바른 계수를 5라고 설정하여 종속변수 작성\n",
    "y = X.X_1 * 5 + noise\n",
    "\n",
    "# 종속변수와 X_1의 관계 그래프그리기\n",
    "# 종속변수와 독립변수 합치기\n",
    "large_data = pd.concat([pd.DataFrame({'y':y}), X], axis=1)\n",
    "\n",
    "# 그래프 그리기\n",
    "sns.jointplot(y='y', x='X_1', data=large_data);"
   ]
  },
  {
   "cell_type": "markdown",
   "id": "f95b61db",
   "metadata": {
    "papermill": {
     "duration": 0.007319,
     "end_time": "2022-09-18T13:51:45.287169",
     "exception": false,
     "start_time": "2022-09-18T13:51:45.279850",
     "status": "completed"
    },
    "tags": []
   },
   "source": [
    "### 7.3.5 일반적인 최소제곱법 적용하기"
   ]
  },
  {
   "cell_type": "code",
   "execution_count": 6,
   "id": "2c28ade5",
   "metadata": {
    "execution": {
     "iopub.execute_input": "2022-09-18T13:51:45.305037Z",
     "iopub.status.busy": "2022-09-18T13:51:45.303757Z",
     "iopub.status.idle": "2022-09-18T13:51:45.332933Z",
     "shell.execute_reply": "2022-09-18T13:51:45.331486Z"
    },
    "papermill": {
     "duration": 0.041308,
     "end_time": "2022-09-18T13:51:45.336253",
     "exception": false,
     "start_time": "2022-09-18T13:51:45.294945",
     "status": "completed"
    },
    "tags": []
   },
   "outputs": [
    {
     "data": {
      "text/plain": [
       "X_1     14.755018\n",
       "X_2    -87.462851\n",
       "X_3    211.743136\n",
       "X_4    -94.153420\n",
       "X_5    -68.174976\n",
       "dtype: float64"
      ]
     },
     "execution_count": 6,
     "metadata": {},
     "output_type": "execute_result"
    }
   ],
   "source": [
    "# 독립변수가 100개 이르모 한방에 몰아 넣기.\n",
    "lm_statsmodels = sm.OLS(endog=y, exog=X).fit()\n",
    "lm_statsmodels.params.head()"
   ]
  },
  {
   "cell_type": "markdown",
   "id": "e96a7bef",
   "metadata": {
    "papermill": {
     "duration": 0.011947,
     "end_time": "2022-09-18T13:51:45.360819",
     "exception": false,
     "start_time": "2022-09-18T13:51:45.348872",
     "status": "completed"
    },
    "tags": []
   },
   "source": [
    "### 7.3.6 sklearn을 이용한 선형회귀\n",
    "내용이 좀있음."
   ]
  },
  {
   "cell_type": "code",
   "execution_count": 7,
   "id": "38ac992c",
   "metadata": {
    "execution": {
     "iopub.execute_input": "2022-09-18T13:51:45.388085Z",
     "iopub.status.busy": "2022-09-18T13:51:45.387521Z",
     "iopub.status.idle": "2022-09-18T13:51:45.425862Z",
     "shell.execute_reply": "2022-09-18T13:51:45.424544Z"
    },
    "papermill": {
     "duration": 0.055821,
     "end_time": "2022-09-18T13:51:45.429119",
     "exception": false,
     "start_time": "2022-09-18T13:51:45.373298",
     "status": "completed"
    },
    "tags": []
   },
   "outputs": [
    {
     "data": {
      "text/plain": [
       "array([ 1.47550179e+01, -8.74628513e+01,  2.11743136e+02, -9.41534199e+01,\n",
       "       -6.81749758e+01, -9.28447001e+01,  1.76121719e+00,  8.16951745e+01,\n",
       "        6.68011476e+01,  2.78782307e+01, -3.28849364e+01,  6.81756488e+01,\n",
       "       -1.69894294e+01,  2.20848958e+01, -4.85466254e+01, -3.39014861e+01,\n",
       "       -4.53620423e+01,  9.72849512e+00,  2.48105638e+01,  1.85754373e+00,\n",
       "        1.59903755e+00, -2.83817237e+01,  6.47655021e+00, -5.98019116e+01,\n",
       "        3.53238055e+01, -1.30222644e+01,  4.10803607e+01, -4.30289179e+01,\n",
       "        5.24669901e+01,  1.91954188e+00,  3.34187115e+01,  8.49048535e+00,\n",
       "        8.32915543e+00, -2.29308318e+01, -3.57696437e+01, -1.33680102e+01,\n",
       "        3.17822503e+01, -2.01837682e+01, -2.65432564e+01, -3.52327035e+01,\n",
       "        1.92653681e+01,  4.82272494e+01, -1.65525248e+00,  5.74852963e-01,\n",
       "       -1.89337059e+01,  7.37047591e-01,  1.04710630e+01, -7.73236212e+00,\n",
       "       -1.85399868e+00, -2.55890849e-01, -5.04510048e+00, -4.22674871e+00,\n",
       "        2.52338099e+01,  1.61649194e+01, -1.31001642e+01,  6.45474322e+00,\n",
       "       -1.33203720e+01, -2.29083852e+01, -1.20169902e+01,  7.74461973e+00,\n",
       "        1.75528603e+01,  5.99668031e+00,  4.64820103e+00,  4.11954198e+00,\n",
       "       -1.82548216e+00,  5.36552197e+00,  4.54591500e+00, -2.59795348e+00,\n",
       "       -4.09054113e+00,  7.49620449e+00,  3.10036824e+01,  1.53017578e+01,\n",
       "       -5.32313629e+00, -1.50901387e+01, -3.80134515e+00, -6.58376264e+00,\n",
       "       -7.20274878e-02, -4.23690764e+00,  3.35506170e+00,  3.17643161e+00,\n",
       "        6.02482997e+00, -2.42179611e-01,  2.62837451e+00, -2.13112286e-02,\n",
       "       -8.34880025e+00, -5.09137131e+00, -5.06033773e+00, -4.77877372e+00,\n",
       "        7.64499421e+00,  1.79671853e+00,  4.27564016e+00,  1.41789642e-01,\n",
       "        2.79987718e+00,  3.14552136e+00, -5.18804291e+00, -2.47891436e+00,\n",
       "       -1.30593301e+01, -5.54492852e+00, -2.92318770e+00,  2.94516340e+00])"
      ]
     },
     "execution_count": 7,
     "metadata": {},
     "output_type": "execute_result"
    }
   ],
   "source": [
    "# 어떤 모델을 만들지 지정\n",
    "lm_sklearn = linear_model.LinearRegression()\n",
    "# 데이터를 지정, 모델 추정\n",
    "lm_sklearn.fit(X,y)\n",
    "# 추정된 파라미터(array로 나온다.)\n",
    "lm_sklearn.coef_"
   ]
  },
  {
   "cell_type": "markdown",
   "id": "c07f413c",
   "metadata": {
    "papermill": {
     "duration": 0.011803,
     "end_time": "2022-09-18T13:51:45.454739",
     "exception": false,
     "start_time": "2022-09-18T13:51:45.442936",
     "status": "completed"
    },
    "tags": []
   },
   "source": [
    "### 7.3.7 Ridge regression - 벌칙항의 영향\n",
    "- 일반적인 최소제곱법으로 잘되지 않는 것을 알았으니 정규화를 한다.\n",
    "- 정규화의 강도 $\\alpha$가 주는 영향부터 알아보자."
   ]
  },
  {
   "cell_type": "code",
   "execution_count": 8,
   "id": "e01f3f9e",
   "metadata": {
    "execution": {
     "iopub.execute_input": "2022-09-18T13:51:45.482323Z",
     "iopub.status.busy": "2022-09-18T13:51:45.481771Z",
     "iopub.status.idle": "2022-09-18T13:51:45.488491Z",
     "shell.execute_reply": "2022-09-18T13:51:45.487286Z"
    },
    "papermill": {
     "duration": 0.02397,
     "end_time": "2022-09-18T13:51:45.491417",
     "exception": false,
     "start_time": "2022-09-18T13:51:45.467447",
     "status": "completed"
    },
    "tags": []
   },
   "outputs": [],
   "source": [
    "n_alphas = 50\n",
    "\n",
    "# logspace 는 밑을 10으로 한 로그를 취한 등차수열이다.\n",
    "ridge_alphas = np.logspace(-2, 0.7, n_alphas)"
   ]
  },
  {
   "cell_type": "code",
   "execution_count": 9,
   "id": "a728f354",
   "metadata": {
    "execution": {
     "iopub.execute_input": "2022-09-18T13:51:45.519684Z",
     "iopub.status.busy": "2022-09-18T13:51:45.519119Z",
     "iopub.status.idle": "2022-09-18T13:51:45.529183Z",
     "shell.execute_reply": "2022-09-18T13:51:45.527886Z"
    },
    "papermill": {
     "duration": 0.030599,
     "end_time": "2022-09-18T13:51:45.534817",
     "exception": false,
     "start_time": "2022-09-18T13:51:45.504218",
     "status": "completed"
    },
    "tags": []
   },
   "outputs": [
    {
     "data": {
      "text/plain": [
       "array([-2.        , -1.94489796, -1.88979592, -1.83469388, -1.77959184,\n",
       "       -1.7244898 , -1.66938776, -1.61428571, -1.55918367, -1.50408163,\n",
       "       -1.44897959, -1.39387755, -1.33877551, -1.28367347, -1.22857143,\n",
       "       -1.17346939, -1.11836735, -1.06326531, -1.00816327, -0.95306122,\n",
       "       -0.89795918, -0.84285714, -0.7877551 , -0.73265306, -0.67755102,\n",
       "       -0.62244898, -0.56734694, -0.5122449 , -0.45714286, -0.40204082,\n",
       "       -0.34693878, -0.29183673, -0.23673469, -0.18163265, -0.12653061,\n",
       "       -0.07142857, -0.01632653,  0.03877551,  0.09387755,  0.14897959,\n",
       "        0.20408163,  0.25918367,  0.31428571,  0.36938776,  0.4244898 ,\n",
       "        0.47959184,  0.53469388,  0.58979592,  0.64489796,  0.7       ])"
      ]
     },
     "execution_count": 9,
     "metadata": {},
     "output_type": "execute_result"
    }
   ],
   "source": [
    "np.log10(ridge_alphas)"
   ]
  },
  {
   "cell_type": "code",
   "execution_count": 10,
   "id": "a2dea9ee",
   "metadata": {
    "execution": {
     "iopub.execute_input": "2022-09-18T13:51:45.554446Z",
     "iopub.status.busy": "2022-09-18T13:51:45.553539Z",
     "iopub.status.idle": "2022-09-18T13:51:46.036436Z",
     "shell.execute_reply": "2022-09-18T13:51:46.035036Z"
    },
    "papermill": {
     "duration": 0.495593,
     "end_time": "2022-09-18T13:51:46.039961",
     "exception": false,
     "start_time": "2022-09-18T13:51:45.544368",
     "status": "completed"
    },
    "tags": []
   },
   "outputs": [],
   "source": [
    "# 추정한 회귀계수를 저장할 리스트\n",
    "ridge_coefs = []\n",
    "\n",
    "# for 루프로 리지 회귀 추정\n",
    "for a in ridge_alphas:\n",
    "    ridge = linear_model.Ridge(alpha=a, fit_intercept=False)\n",
    "    ridge.fit(X,y)\n",
    "    ridge_coefs.append(ridge.coef_)"
   ]
  },
  {
   "cell_type": "code",
   "execution_count": 11,
   "id": "3ee2f7c7",
   "metadata": {
    "execution": {
     "iopub.execute_input": "2022-09-18T13:51:46.090056Z",
     "iopub.status.busy": "2022-09-18T13:51:46.089502Z",
     "iopub.status.idle": "2022-09-18T13:51:46.098025Z",
     "shell.execute_reply": "2022-09-18T13:51:46.096950Z"
    },
    "papermill": {
     "duration": 0.039938,
     "end_time": "2022-09-18T13:51:46.102252",
     "exception": false,
     "start_time": "2022-09-18T13:51:46.062314",
     "status": "completed"
    },
    "tags": []
   },
   "outputs": [
    {
     "data": {
      "text/plain": [
       "(50, 100)"
      ]
     },
     "execution_count": 11,
     "metadata": {},
     "output_type": "execute_result"
    }
   ],
   "source": [
    "# 추정된 계수를 Numpy array 로 변환\n",
    "ridge_coefs = np.array(ridge_coefs)\n",
    "ridge_coefs.shape"
   ]
  },
  {
   "cell_type": "markdown",
   "id": "b92e3fc1",
   "metadata": {
    "papermill": {
     "duration": 0.025655,
     "end_time": "2022-09-18T13:51:46.153954",
     "exception": false,
     "start_time": "2022-09-18T13:51:46.128299",
     "status": "completed"
    },
    "tags": []
   },
   "source": [
    "- 보기 쉽게 가로축을 $-\\log_{10}\\alpha$ 로 변환한 뒤 그래프로 출력한다.\n",
    "- 이런 그래프를 solution-path 라 한다."
   ]
  },
  {
   "cell_type": "code",
   "execution_count": 12,
   "id": "e4470cf2",
   "metadata": {
    "execution": {
     "iopub.execute_input": "2022-09-18T13:51:46.172363Z",
     "iopub.status.busy": "2022-09-18T13:51:46.171927Z",
     "iopub.status.idle": "2022-09-18T13:51:46.673526Z",
     "shell.execute_reply": "2022-09-18T13:51:46.672560Z"
    },
    "papermill": {
     "duration": 0.513179,
     "end_time": "2022-09-18T13:51:46.675722",
     "exception": false,
     "start_time": "2022-09-18T13:51:46.162543",
     "status": "completed"
    },
    "tags": []
   },
   "outputs": [
    {
     "data": {
      "image/png": "[encoded data removed]",
      "text/plain": [
       "<Figure size 432x288 with 1 Axes>"
      ]
     },
     "metadata": {},
     "output_type": "display_data"
    }
   ],
   "source": [
    "# @를 변환\n",
    "log_alphas = -np.log10(ridge_alphas)\n",
    "\n",
    "# 가로축을 -log10(@), 세로축을 계수로 하는 그래프\n",
    "plt.plot(log_alphas, ridge_coefs)\n",
    "\n",
    "# 독립변수 X_1의 계수를 알기 쉽게 표시\n",
    "plt.text(max(log_alphas) + 0.1, np.array(ridge_coefs)[0,0], 'X_1')\n",
    "\n",
    "# X축의 범위\n",
    "plt.xlim([min(log_alphas) - 0.1, max(log_alphas) + 0.3])\n",
    "\n",
    "# 축 레이블\n",
    "plt.title('Ridge')\n",
    "plt.xlabel('- log10(alpha)')\n",
    "plt.ylabel('Coefficients');"
   ]
  },
  {
   "cell_type": "markdown",
   "id": "43672555",
   "metadata": {
    "papermill": {
     "duration": 0.009106,
     "end_time": "2022-09-18T13:51:46.694595",
     "exception": false,
     "start_time": "2022-09-18T13:51:46.685489",
     "status": "completed"
    },
    "tags": []
   },
   "source": [
    "- 가로축이 -log$_{10}\\alpha$ 이므로 왼쪽으로 갈수록 $\\alpha$가 크고, 정규화의 강도가 강하다.\n",
    "- 왼쪽으로 갈수록 계수의 절대치가 작게 추정되는 경향.\n",
    "- 오른쪽으로 갈수록 벌칙이 완화되어 계수의 절대치가 크게 추정되기 쉬워진다."
   ]
  },
  {
   "cell_type": "markdown",
   "id": "bf98e762",
   "metadata": {
    "papermill": {
     "duration": 0.009086,
     "end_time": "2022-09-18T13:51:46.713066",
     "exception": false,
     "start_time": "2022-09-18T13:51:46.703980",
     "status": "completed"
    },
    "tags": []
   },
   "source": [
    "### 7.3.8 Ridge regression - 최적의 정규화 강도 결정\n",
    "- 교차검증법을 이용, 예측 정확도를 평가해서 정확도가 가장 좋은 $\\alpha$을 채택하여 모델 재구축.\n",
    "- RidgeCV 함수를 사용, cv=10 이라고 지정하고 10-fold-CV를 사용해서 예측 정화도를 평가"
   ]
  },
  {
   "cell_type": "code",
   "execution_count": 13,
   "id": "0f154459",
   "metadata": {
    "execution": {
     "iopub.execute_input": "2022-09-18T13:51:46.734146Z",
     "iopub.status.busy": "2022-09-18T13:51:46.733437Z",
     "iopub.status.idle": "2022-09-18T13:51:56.396045Z",
     "shell.execute_reply": "2022-09-18T13:51:56.394816Z"
    },
    "papermill": {
     "duration": 9.677253,
     "end_time": "2022-09-18T13:51:56.399707",
     "exception": false,
     "start_time": "2022-09-18T13:51:46.722454",
     "status": "completed"
    },
    "tags": []
   },
   "outputs": [
    {
     "data": {
      "text/plain": [
       "0.23673469387755094"
      ]
     },
     "execution_count": 13,
     "metadata": {},
     "output_type": "execute_result"
    }
   ],
   "source": [
    "# CV에서 최적의 @를 구한다.\n",
    "ridge_best = linear_model.RidgeCV(cv=10, alphas=ridge_alphas, fit_intercept=False)\n",
    "ridge_best.fit(X, y)\n",
    "\n",
    "# 최적의 -log10(@)\n",
    "-np.log10(ridge_best.alpha_)"
   ]
  },
  {
   "cell_type": "code",
   "execution_count": 14,
   "id": "b986609f",
   "metadata": {
    "execution": {
     "iopub.execute_input": "2022-09-18T13:51:56.452439Z",
     "iopub.status.busy": "2022-09-18T13:51:56.451722Z",
     "iopub.status.idle": "2022-09-18T13:51:56.460215Z",
     "shell.execute_reply": "2022-09-18T13:51:56.458979Z"
    },
    "papermill": {
     "duration": 0.052204,
     "end_time": "2022-09-18T13:51:56.474076",
     "exception": false,
     "start_time": "2022-09-18T13:51:56.421872",
     "status": "completed"
    },
    "tags": []
   },
   "outputs": [
    {
     "data": {
      "text/plain": [
       "0.5797827717179138"
      ]
     },
     "execution_count": 14,
     "metadata": {},
     "output_type": "execute_result"
    }
   ],
   "source": [
    "# 적합한 @\n",
    "ridge_best.alpha_"
   ]
  },
  {
   "cell_type": "code",
   "execution_count": 15,
   "id": "c03c76b8",
   "metadata": {
    "execution": {
     "iopub.execute_input": "2022-09-18T13:51:56.518511Z",
     "iopub.status.busy": "2022-09-18T13:51:56.518115Z",
     "iopub.status.idle": "2022-09-18T13:51:56.525786Z",
     "shell.execute_reply": "2022-09-18T13:51:56.524682Z"
    },
    "papermill": {
     "duration": 0.022471,
     "end_time": "2022-09-18T13:51:56.528191",
     "exception": false,
     "start_time": "2022-09-18T13:51:56.505720",
     "status": "completed"
    },
    "tags": []
   },
   "outputs": [
    {
     "data": {
      "text/plain": [
       "array([ 4.46347121,  1.28833593,  0.2927883 , -0.09125431, -0.2013734 ,\n",
       "       -0.23267945, -0.2152976 , -0.20601228, -0.14466992, -0.13546705,\n",
       "       -0.15459478, -0.04558605, -0.09666078, -0.01680479, -0.1104025 ,\n",
       "       -0.01170384, -0.09391876,  0.01281653, -0.01785413, -0.03092511,\n",
       "        0.02491556, -0.02906365,  0.04336838, -0.08732207,  0.12740958,\n",
       "        0.02104836,  0.0550757 , -0.07654728,  0.14076324, -0.00715595,\n",
       "        0.09866008,  0.11620526, -0.04440412,  0.0366436 , -0.03447319,\n",
       "        0.01506922,  0.12331243, -0.17131585, -0.00656963, -0.18198433,\n",
       "        0.09024826,  0.22236343,  0.03531455, -0.03180034, -0.00842443,\n",
       "        0.02505952,  0.33776614, -0.19347637, -0.1076738 ,  0.21161829,\n",
       "       -0.12840793, -0.24597948,  0.24900423,  0.12824366, -0.15527051,\n",
       "        0.27022964,  0.02951558, -0.16508783, -0.17754048,  0.15838542,\n",
       "       -0.01114808,  0.0134762 ,  0.19362841,  0.13447836, -0.15575348,\n",
       "       -0.01829021,  0.25569543,  0.22259035, -0.18458659,  0.00586596,\n",
       "        0.53450223,  0.18058777, -0.34841135, -0.12311225,  0.22553179,\n",
       "       -0.043011  , -0.11528015, -0.0531161 ,  0.20892631,  0.18870717,\n",
       "       -0.04243224, -0.20483369, -0.099438  ,  0.05857328, -0.22443799,\n",
       "        0.15023959, -0.03884553, -0.11304432,  0.20997195,  0.01186863,\n",
       "        0.12940651, -0.03215382, -0.0220179 , -0.22921416, -0.19763247,\n",
       "        0.24459502, -0.30502591, -0.3955611 , -0.16311531,  0.16386426])"
      ]
     },
     "execution_count": 15,
     "metadata": {},
     "output_type": "execute_result"
    }
   ],
   "source": [
    "# 추정된 계수\n",
    "ridge_best.coef_"
   ]
  },
  {
   "cell_type": "markdown",
   "id": "d1c13f84",
   "metadata": {
    "papermill": {
     "duration": 0.009316,
     "end_time": "2022-09-18T13:51:56.547115",
     "exception": false,
     "start_time": "2022-09-18T13:51:56.537799",
     "status": "completed"
    },
    "tags": []
   },
   "source": [
    "### 7.3.9 Lasso regression - 벌칙항의 영향\n",
    "lasso-path 함수로 모델 추정, 파라미터로 데이터를 지정하면 @를 다양하게 변화시킨 결과를 출력한다."
   ]
  },
  {
   "cell_type": "code",
   "execution_count": 16,
   "id": "92072edc",
   "metadata": {
    "execution": {
     "iopub.execute_input": "2022-09-18T13:51:56.568523Z",
     "iopub.status.busy": "2022-09-18T13:51:56.567756Z",
     "iopub.status.idle": "2022-09-18T13:51:56.590476Z",
     "shell.execute_reply": "2022-09-18T13:51:56.589282Z"
    },
    "papermill": {
     "duration": 0.036959,
     "end_time": "2022-09-18T13:51:56.593710",
     "exception": false,
     "start_time": "2022-09-18T13:51:56.556751",
     "status": "completed"
    },
    "tags": []
   },
   "outputs": [],
   "source": [
    "lasso_alphas, lasso_coefs, _ = linear_model.lasso_path(X, y)"
   ]
  },
  {
   "cell_type": "code",
   "execution_count": 17,
   "id": "79b818ef",
   "metadata": {
    "execution": {
     "iopub.execute_input": "2022-09-18T13:51:56.627551Z",
     "iopub.status.busy": "2022-09-18T13:51:56.626963Z",
     "iopub.status.idle": "2022-09-18T13:51:57.007554Z",
     "shell.execute_reply": "2022-09-18T13:51:57.006310Z"
    },
    "papermill": {
     "duration": 0.400734,
     "end_time": "2022-09-18T13:51:57.010441",
     "exception": false,
     "start_time": "2022-09-18T13:51:56.609707",
     "status": "completed"
    },
    "tags": []
   },
   "outputs": [
    {
     "data": {
      "image/png": "[encoded data removed]",
      "text/plain": [
       "<Figure size 432x288 with 1 Axes>"
      ]
     },
     "metadata": {},
     "output_type": "display_data"
    }
   ],
   "source": [
    "# @를 변환\n",
    "log_alphas = -np.log10(lasso_alphas)\n",
    "\n",
    "# 가로축을 -log10(@), 세로축을 계수로 하는 그래프\n",
    "plt.plot(log_alphas, lasso_coefs.T)\n",
    "\n",
    "# 독립변수 X_1의 계수를 알기 쉽게 표시\n",
    "plt.text(max(log_alphas) + 0.1, lasso_coefs[0,-1], 'X_1')\n",
    "\n",
    "# X축의 범위\n",
    "plt.xlim([min(log_alphas) - 0.1, max(log_alphas) + 0.3])\n",
    "\n",
    "# 축 레이블\n",
    "plt.title('Lasso')\n",
    "plt.xlabel('- log10(alpha)')\n",
    "plt.ylabel('Coefficients');"
   ]
  },
  {
   "cell_type": "markdown",
   "id": "d9eee9c9",
   "metadata": {
    "papermill": {
     "duration": 0.009977,
     "end_time": "2022-09-18T13:51:57.030912",
     "exception": false,
     "start_time": "2022-09-18T13:51:57.020935",
     "status": "completed"
    },
    "tags": []
   },
   "source": [
    "### 7.3.10 Lasso regression - 최적의 정규화 강도 결정"
   ]
  },
  {
   "cell_type": "code",
   "execution_count": 18,
   "id": "70374a47",
   "metadata": {
    "execution": {
     "iopub.execute_input": "2022-09-18T13:51:57.053952Z",
     "iopub.status.busy": "2022-09-18T13:51:57.053161Z",
     "iopub.status.idle": "2022-09-18T13:51:57.296805Z",
     "shell.execute_reply": "2022-09-18T13:51:57.295492Z"
    },
    "papermill": {
     "duration": 0.258533,
     "end_time": "2022-09-18T13:51:57.299930",
     "exception": false,
     "start_time": "2022-09-18T13:51:57.041397",
     "status": "completed"
    },
    "tags": []
   },
   "outputs": [
    {
     "data": {
      "text/plain": [
       "2.3010431777673266"
      ]
     },
     "execution_count": 18,
     "metadata": {},
     "output_type": "execute_result"
    }
   ],
   "source": [
    "# 교차검증법 이용한 @ 구하기\n",
    "lasso_best = linear_model.LassoCV(cv=10, alphas=lasso_alphas, fit_intercept=False)\n",
    "lasso_best.fit(X, y)\n",
    "-np.log10(lasso_best.alpha_)"
   ]
  },
  {
   "cell_type": "code",
   "execution_count": 19,
   "id": "ed831718",
   "metadata": {
    "execution": {
     "iopub.execute_input": "2022-09-18T13:51:57.338014Z",
     "iopub.status.busy": "2022-09-18T13:51:57.337468Z",
     "iopub.status.idle": "2022-09-18T13:51:57.345607Z",
     "shell.execute_reply": "2022-09-18T13:51:57.344455Z"
    },
    "papermill": {
     "duration": 0.030151,
     "end_time": "2022-09-18T13:51:57.348615",
     "exception": false,
     "start_time": "2022-09-18T13:51:57.318464",
     "status": "completed"
    },
    "tags": []
   },
   "outputs": [
    {
     "data": {
      "text/plain": [
       "0.0049998482377299385"
      ]
     },
     "execution_count": 19,
     "metadata": {},
     "output_type": "execute_result"
    }
   ],
   "source": [
    "# 최적의 @\n",
    "lasso_best.alpha_"
   ]
  },
  {
   "cell_type": "code",
   "execution_count": 20,
   "id": "8931fea3",
   "metadata": {
    "execution": {
     "iopub.execute_input": "2022-09-18T13:51:57.385650Z",
     "iopub.status.busy": "2022-09-18T13:51:57.385061Z",
     "iopub.status.idle": "2022-09-18T13:51:57.394853Z",
     "shell.execute_reply": "2022-09-18T13:51:57.393751Z"
    },
    "papermill": {
     "duration": 0.031381,
     "end_time": "2022-09-18T13:51:57.397748",
     "exception": false,
     "start_time": "2022-09-18T13:51:57.366367",
     "status": "completed"
    },
    "tags": []
   },
   "outputs": [
    {
     "data": {
      "text/plain": [
       "array([ 5.33611766e+00, -0.00000000e+00, -0.00000000e+00, -3.04284029e-01,\n",
       "       -4.12051469e-02, -0.00000000e+00, -0.00000000e+00, -0.00000000e+00,\n",
       "       -0.00000000e+00, -0.00000000e+00, -0.00000000e+00, -0.00000000e+00,\n",
       "       -0.00000000e+00, -0.00000000e+00, -0.00000000e+00, -0.00000000e+00,\n",
       "       -0.00000000e+00, -0.00000000e+00, -0.00000000e+00, -0.00000000e+00,\n",
       "       -0.00000000e+00, -0.00000000e+00, -0.00000000e+00, -0.00000000e+00,\n",
       "       -0.00000000e+00, -0.00000000e+00, -0.00000000e+00, -0.00000000e+00,\n",
       "        0.00000000e+00, -0.00000000e+00,  0.00000000e+00,  0.00000000e+00,\n",
       "       -0.00000000e+00,  0.00000000e+00,  0.00000000e+00,  0.00000000e+00,\n",
       "        0.00000000e+00, -0.00000000e+00,  0.00000000e+00,  0.00000000e+00,\n",
       "        0.00000000e+00,  0.00000000e+00,  0.00000000e+00,  0.00000000e+00,\n",
       "        0.00000000e+00,  0.00000000e+00,  0.00000000e+00,  0.00000000e+00,\n",
       "        0.00000000e+00,  0.00000000e+00,  0.00000000e+00,  0.00000000e+00,\n",
       "        0.00000000e+00,  0.00000000e+00,  0.00000000e+00,  0.00000000e+00,\n",
       "        0.00000000e+00,  0.00000000e+00,  0.00000000e+00,  0.00000000e+00,\n",
       "        0.00000000e+00,  0.00000000e+00,  0.00000000e+00,  0.00000000e+00,\n",
       "        0.00000000e+00,  0.00000000e+00,  0.00000000e+00,  0.00000000e+00,\n",
       "        0.00000000e+00,  0.00000000e+00,  8.42546852e-03,  0.00000000e+00,\n",
       "        0.00000000e+00,  0.00000000e+00,  0.00000000e+00,  0.00000000e+00,\n",
       "        0.00000000e+00,  0.00000000e+00,  0.00000000e+00,  0.00000000e+00,\n",
       "        0.00000000e+00,  0.00000000e+00,  0.00000000e+00,  0.00000000e+00,\n",
       "        0.00000000e+00,  0.00000000e+00,  0.00000000e+00,  0.00000000e+00,\n",
       "        0.00000000e+00,  0.00000000e+00,  0.00000000e+00,  0.00000000e+00,\n",
       "        0.00000000e+00,  0.00000000e+00,  0.00000000e+00,  7.19219217e-04,\n",
       "        0.00000000e+00,  0.00000000e+00,  0.00000000e+00,  0.00000000e+00])"
      ]
     },
     "execution_count": 20,
     "metadata": {},
     "output_type": "execute_result"
    }
   ],
   "source": [
    "# 추정된 계수. 대부분의 계수가 0임, X_1의 계수가 5가 되어 올바르게 모델링했다고 볼 수 있다.\n",
    "lasso_best.coef_"
   ]
  },
  {
   "cell_type": "markdown",
   "id": "c4182c66",
   "metadata": {
    "papermill": {
     "duration": 0.010576,
     "end_time": "2022-09-18T13:51:57.421288",
     "exception": false,
     "start_time": "2022-09-18T13:51:57.410712",
     "status": "completed"
    },
    "tags": []
   },
   "source": [
    "### 7.3.10 신경망은 다음 기회에.\n",
    "일단은 시험준비를... ㅠㅠ\\\n",
    "책의 내용을 다 이해하면 좋겠는데.....\\\n",
    "반이라도...\\\n",
    "볼 수록 좀 나아져야할텐데...\\\n",
    "5번은 더 봐야 반은 알아 들을듯... ㅠㅠ"
   ]
  }
 ],
 "metadata": {
  "kernelspec": {
   "display_name": "Python 3",
   "language": "python",
   "name": "python3"
  },
  "language_info": {
   "codemirror_mode": {
    "name": "ipython",
    "version": 3
   },
   "file_extension": ".py",
   "mimetype": "text/x-python",
   "name": "python",
   "nbconvert_exporter": "python",
   "pygments_lexer": "ipython3",
   "version": "3.7.12"
  },
  "papermill": {
   "default_parameters": {},
   "duration": 24.748201,
   "end_time": "2022-09-18T13:51:58.153538",
   "environment_variables": {},
   "exception": null,
   "input_path": "__notebook__.ipynb",
   "output_path": "__notebook__.ipynb",
   "parameters": {},
   "start_time": "2022-09-18T13:51:33.405337",
   "version": "2.3.4"
  }
 },
 "nbformat": 4,
 "nbformat_minor": 5
}
