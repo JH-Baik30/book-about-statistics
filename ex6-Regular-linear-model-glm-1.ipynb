{
 "cells": [
  {
   "cell_type": "markdown",
   "id": "41ee7148",
   "metadata": {
    "papermill": {
     "duration": 0.010817,
     "end_time": "2022-09-14T14:07:40.191290",
     "exception": false,
     "start_time": "2022-09-14T14:07:40.180473",
     "status": "completed"
    },
    "tags": []
   },
   "source": [
    "## 5.1 연속형 독립변수가 하나인 모델(단순회귀)"
   ]
  },
  {
   "cell_type": "code",
   "execution_count": 1,
   "id": "73246ab0",
   "metadata": {
    "_cell_guid": "b1076dfc-b9ad-4769-8c92-a6c4dae69d19",
    "_uuid": "8f2839f25d086af736a60e9eeb907d3b93b6e0e5",
    "execution": {
     "iopub.execute_input": "2022-09-14T14:07:40.213117Z",
     "iopub.status.busy": "2022-09-14T14:07:40.212316Z",
     "iopub.status.idle": "2022-09-14T14:07:42.215310Z",
     "shell.execute_reply": "2022-09-14T14:07:42.214123Z"
    },
    "papermill": {
     "duration": 2.017223,
     "end_time": "2022-09-14T14:07:42.218226",
     "exception": false,
     "start_time": "2022-09-14T14:07:40.201003",
     "status": "completed"
    },
    "tags": []
   },
   "outputs": [],
   "source": [
    "import numpy as np\n",
    "import pandas as pd\n",
    "import scipy as sp\n",
    "from scipy.stats import pearsonr\n",
    "import matplotlib.pyplot as plt\n",
    "import seaborn as sns\n",
    "sns.set()\n",
    "\n",
    "# 선형모델을 추정하는 라이브러리\n",
    "import statsmodels.formula.api as smf\n",
    "import statsmodels.api as sm"
   ]
  },
  {
   "cell_type": "code",
   "execution_count": 2,
   "id": "acdcb412",
   "metadata": {
    "execution": {
     "iopub.execute_input": "2022-09-14T14:07:42.239636Z",
     "iopub.status.busy": "2022-09-14T14:07:42.239198Z",
     "iopub.status.idle": "2022-09-14T14:07:42.268391Z",
     "shell.execute_reply": "2022-09-14T14:07:42.267093Z"
    },
    "papermill": {
     "duration": 0.045088,
     "end_time": "2022-09-14T14:07:42.273065",
     "exception": false,
     "start_time": "2022-09-14T14:07:42.227977",
     "status": "completed"
    },
    "tags": []
   },
   "outputs": [
    {
     "data": {
      "text/html": [
       "<div>\n",
       "<style scoped>\n",
       "    .dataframe tbody tr th:only-of-type {\n",
       "        vertical-align: middle;\n",
       "    }\n",
       "\n",
       "    .dataframe tbody tr th {\n",
       "        vertical-align: top;\n",
       "    }\n",
       "\n",
       "    .dataframe thead th {\n",
       "        text-align: right;\n",
       "    }\n",
       "</style>\n",
       "<table border=\"1\" class=\"dataframe\">\n",
       "  <thead>\n",
       "    <tr style=\"text-align: right;\">\n",
       "      <th></th>\n",
       "      <th>beer</th>\n",
       "      <th>temperature</th>\n",
       "    </tr>\n",
       "  </thead>\n",
       "  <tbody>\n",
       "    <tr>\n",
       "      <th>0</th>\n",
       "      <td>45.3</td>\n",
       "      <td>20.5</td>\n",
       "    </tr>\n",
       "    <tr>\n",
       "      <th>1</th>\n",
       "      <td>59.3</td>\n",
       "      <td>25.0</td>\n",
       "    </tr>\n",
       "    <tr>\n",
       "      <th>2</th>\n",
       "      <td>40.4</td>\n",
       "      <td>10.0</td>\n",
       "    </tr>\n",
       "    <tr>\n",
       "      <th>3</th>\n",
       "      <td>38.0</td>\n",
       "      <td>26.9</td>\n",
       "    </tr>\n",
       "    <tr>\n",
       "      <th>4</th>\n",
       "      <td>37.0</td>\n",
       "      <td>15.8</td>\n",
       "    </tr>\n",
       "  </tbody>\n",
       "</table>\n",
       "</div>"
      ],
      "text/plain": [
       "   beer  temperature\n",
       "0  45.3         20.5\n",
       "1  59.3         25.0\n",
       "2  40.4         10.0\n",
       "3  38.0         26.9\n",
       "4  37.0         15.8"
      ]
     },
     "execution_count": 2,
     "metadata": {},
     "output_type": "execute_result"
    }
   ],
   "source": [
    "beer = pd.DataFrame({'beer' :[45.3, 59.3, 40.4, 38.0, 37.0, 40.9, 60.2, 63.3, 51.1, 44.9, 47.0, 53.2,\n",
    "                              43.5, 53.2, 37.4, 59.9, 41.5, 75.1, 55.6, 57.2, 46.5, 35.8, 51.9, 38.2,\n",
    "                              66.0, 55.3, 55.3, 43.3, 70.5, 38.8],\n",
    "                     'temperature' : [20.5, 25.0, 10.0, 26.9, 15.8, 4.2, 13.5, 26.0, 23.3, 8.5, 26.2, 19.1,\n",
    "                                      24.3, 23.3, 8.4, 23.5, 13.9, 35.5, 27.2, 20.5, 10.2, 20.5, 21.6, 7.9,\n",
    "                                      42.2, 23.9, 36.9, 8.9, 36.4, 6.4]})\n",
    "beer.head()"
   ]
  },
  {
   "cell_type": "code",
   "execution_count": 3,
   "id": "f69ffe61",
   "metadata": {
    "execution": {
     "iopub.execute_input": "2022-09-14T14:07:42.294777Z",
     "iopub.status.busy": "2022-09-14T14:07:42.293741Z",
     "iopub.status.idle": "2022-09-14T14:07:43.013236Z",
     "shell.execute_reply": "2022-09-14T14:07:43.012001Z"
    },
    "papermill": {
     "duration": 0.732944,
     "end_time": "2022-09-14T14:07:43.015722",
     "exception": false,
     "start_time": "2022-09-14T14:07:42.282778",
     "status": "completed"
    },
    "tags": []
   },
   "outputs": [
    {
     "data": {
      "image/png": "[encoded data removed]",
      "text/plain": [
       "<Figure size 432x432 with 3 Axes>"
      ]
     },
     "metadata": {},
     "output_type": "display_data"
    }
   ],
   "source": [
    "# data load 후 먼저 할일은 그래프 그리기이다. (EDA)\n",
    "sns.jointplot(x='temperature', y='beer', data=beer);"
   ]
  },
  {
   "cell_type": "markdown",
   "id": "4e27f8dd",
   "metadata": {
    "papermill": {
     "duration": 0.009589,
     "end_time": "2022-09-14T14:07:43.036240",
     "exception": false,
     "start_time": "2022-09-14T14:07:43.026651",
     "status": "completed"
    },
    "tags": []
   },
   "source": [
    "### 5.1.3 모델 구축\n",
    "맥주 매상 $~ \\mathcal{N}(\\beta_{0}+\\beta{1}\\times 기온,\\sigma^{2}) $"
   ]
  },
  {
   "cell_type": "markdown",
   "id": "1c02a08b",
   "metadata": {
    "papermill": {
     "duration": 0.009761,
     "end_time": "2022-09-14T14:07:43.056898",
     "exception": false,
     "start_time": "2022-09-14T14:07:43.047137",
     "status": "completed"
    },
    "tags": []
   },
   "source": [
    "### 5.1.4 statsmodels를 이용한 모델링\n",
    "통계모델 추정을 위해\n",
    "```python\n",
    "import statsmodels.formula.api as smf\n",
    "```\n",
    "smf.ols 함수를 사용 (ols $\\rightarrow$ Ordinary least squares) 최소제곱법\\\n",
    "모집단의 분포가 정규분포임을 가정했을 때 최대우도법(MLE)의 결과는 최소제곱법(OLS)의 결과와 일치한다."
   ]
  },
  {
   "cell_type": "code",
   "execution_count": 4,
   "id": "57da3f77",
   "metadata": {
    "execution": {
     "iopub.execute_input": "2022-09-14T14:07:43.079620Z",
     "iopub.status.busy": "2022-09-14T14:07:43.078944Z",
     "iopub.status.idle": "2022-09-14T14:07:43.093773Z",
     "shell.execute_reply": "2022-09-14T14:07:43.092811Z"
    },
    "papermill": {
     "duration": 0.029321,
     "end_time": "2022-09-14T14:07:43.096300",
     "exception": false,
     "start_time": "2022-09-14T14:07:43.066979",
     "status": "completed"
    },
    "tags": []
   },
   "outputs": [],
   "source": [
    "lm_model = smf.ols(formula='beer~temperature', data=beer).fit()"
   ]
  },
  {
   "cell_type": "markdown",
   "id": "481e9368",
   "metadata": {
    "papermill": {
     "duration": 0.010276,
     "end_time": "2022-09-14T14:07:43.116673",
     "exception": false,
     "start_time": "2022-09-14T14:07:43.106397",
     "status": "completed"
    },
    "tags": []
   },
   "source": [
    "### 5.1.5 추정 결과 표시와 게수 검정"
   ]
  },
  {
   "cell_type": "code",
   "execution_count": 5,
   "id": "6bc99288",
   "metadata": {
    "execution": {
     "iopub.execute_input": "2022-09-14T14:07:43.139012Z",
     "iopub.status.busy": "2022-09-14T14:07:43.138332Z",
     "iopub.status.idle": "2022-09-14T14:07:43.156372Z",
     "shell.execute_reply": "2022-09-14T14:07:43.155154Z"
    },
    "papermill": {
     "duration": 0.032297,
     "end_time": "2022-09-14T14:07:43.159024",
     "exception": false,
     "start_time": "2022-09-14T14:07:43.126727",
     "status": "completed"
    },
    "tags": []
   },
   "outputs": [
    {
     "data": {
      "text/html": [
       "<table class=\"simpletable\">\n",
       "<caption>OLS Regression Results</caption>\n",
       "<tr>\n",
       "  <th>Dep. Variable:</th>          <td>beer</td>       <th>  R-squared:         </th> <td>   0.504</td>\n",
       "</tr>\n",
       "<tr>\n",
       "  <th>Model:</th>                   <td>OLS</td>       <th>  Adj. R-squared:    </th> <td>   0.486</td>\n",
       "</tr>\n",
       "<tr>\n",
       "  <th>Method:</th>             <td>Least Squares</td>  <th>  F-statistic:       </th> <td>   28.45</td>\n",
       "</tr>\n",
       "<tr>\n",
       "  <th>Date:</th>             <td>Wed, 14 Sep 2022</td> <th>  Prob (F-statistic):</th> <td>1.11e-05</td>\n",
       "</tr>\n",
       "<tr>\n",
       "  <th>Time:</th>                 <td>14:07:43</td>     <th>  Log-Likelihood:    </th> <td> -102.45</td>\n",
       "</tr>\n",
       "<tr>\n",
       "  <th>No. Observations:</th>      <td>    30</td>      <th>  AIC:               </th> <td>   208.9</td>\n",
       "</tr>\n",
       "<tr>\n",
       "  <th>Df Residuals:</th>          <td>    28</td>      <th>  BIC:               </th> <td>   211.7</td>\n",
       "</tr>\n",
       "<tr>\n",
       "  <th>Df Model:</th>              <td>     1</td>      <th>                     </th>     <td> </td>   \n",
       "</tr>\n",
       "<tr>\n",
       "  <th>Covariance Type:</th>      <td>nonrobust</td>    <th>                     </th>     <td> </td>   \n",
       "</tr>\n",
       "</table>\n",
       "<table class=\"simpletable\">\n",
       "<tr>\n",
       "       <td></td>          <th>coef</th>     <th>std err</th>      <th>t</th>      <th>P>|t|</th>  <th>[0.025</th>    <th>0.975]</th>  \n",
       "</tr>\n",
       "<tr>\n",
       "  <th>Intercept</th>   <td>   34.6102</td> <td>    3.235</td> <td>   10.699</td> <td> 0.000</td> <td>   27.984</td> <td>   41.237</td>\n",
       "</tr>\n",
       "<tr>\n",
       "  <th>temperature</th> <td>    0.7654</td> <td>    0.144</td> <td>    5.334</td> <td> 0.000</td> <td>    0.471</td> <td>    1.059</td>\n",
       "</tr>\n",
       "</table>\n",
       "<table class=\"simpletable\">\n",
       "<tr>\n",
       "  <th>Omnibus:</th>       <td> 0.587</td> <th>  Durbin-Watson:     </th> <td>   1.960</td>\n",
       "</tr>\n",
       "<tr>\n",
       "  <th>Prob(Omnibus):</th> <td> 0.746</td> <th>  Jarque-Bera (JB):  </th> <td>   0.290</td>\n",
       "</tr>\n",
       "<tr>\n",
       "  <th>Skew:</th>          <td>-0.240</td> <th>  Prob(JB):          </th> <td>   0.865</td>\n",
       "</tr>\n",
       "<tr>\n",
       "  <th>Kurtosis:</th>      <td> 2.951</td> <th>  Cond. No.          </th> <td>    52.5</td>\n",
       "</tr>\n",
       "</table><br/><br/>Notes:<br/>[1] Standard Errors assume that the covariance matrix of the errors is correctly specified."
      ],
      "text/plain": [
       "<class 'statsmodels.iolib.summary.Summary'>\n",
       "\"\"\"\n",
       "                            OLS Regression Results                            \n",
       "==============================================================================\n",
       "Dep. Variable:                   beer   R-squared:                       0.504\n",
       "Model:                            OLS   Adj. R-squared:                  0.486\n",
       "Method:                 Least Squares   F-statistic:                     28.45\n",
       "Date:                Wed, 14 Sep 2022   Prob (F-statistic):           1.11e-05\n",
       "Time:                        14:07:43   Log-Likelihood:                -102.45\n",
       "No. Observations:                  30   AIC:                             208.9\n",
       "Df Residuals:                      28   BIC:                             211.7\n",
       "Df Model:                           1                                         \n",
       "Covariance Type:            nonrobust                                         \n",
       "===============================================================================\n",
       "                  coef    std err          t      P>|t|      [0.025      0.975]\n",
       "-------------------------------------------------------------------------------\n",
       "Intercept      34.6102      3.235     10.699      0.000      27.984      41.237\n",
       "temperature     0.7654      0.144      5.334      0.000       0.471       1.059\n",
       "==============================================================================\n",
       "Omnibus:                        0.587   Durbin-Watson:                   1.960\n",
       "Prob(Omnibus):                  0.746   Jarque-Bera (JB):                0.290\n",
       "Skew:                          -0.240   Prob(JB):                        0.865\n",
       "Kurtosis:                       2.951   Cond. No.                         52.5\n",
       "==============================================================================\n",
       "\n",
       "Notes:\n",
       "[1] Standard Errors assume that the covariance matrix of the errors is correctly specified.\n",
       "\"\"\""
      ]
     },
     "execution_count": 5,
     "metadata": {},
     "output_type": "execute_result"
    }
   ],
   "source": [
    "lm_model.summary()"
   ]
  },
  {
   "cell_type": "markdown",
   "id": "a6f613ae",
   "metadata": {
    "papermill": {
     "duration": 0.009923,
     "end_time": "2022-09-14T14:07:43.179433",
     "exception": false,
     "start_time": "2022-09-14T14:07:43.169510",
     "status": "completed"
    },
    "tags": []
   },
   "source": [
    "### 5.1.6 summary 함수의 출력 내용 설명\n",
    "- Dep.Variable: 종속변수의 이름, Dependent(종속변수)\n",
    "- Model, Method: 범용최소제곱법을 사용했다는 설명\n",
    "- Date, Time: 모델 추정 일시\n",
    "- No. Observations: 샘플사이즈\n",
    "- Df Residuals: 샘플사이즈에서 추정된 파라미터 수를 뺀것\n",
    "- Df Model: 사용한 독립변수의 수\n",
    "- Covariance Type: 공분산 타입, 틀별히 지정하지 않으면 nonrobust가 된다.\n",
    "- R-squared, Adj. R-squared: 결정계수와 자유도 조정이 끝난 결정계수\n",
    "- F-statistic, Prob (F-statistic): 분산분석 결과\n",
    "- Log-Likelihood: 최대로그우도\n",
    "- AIC: Akaike information criterion\n",
    "- BIC: Bayesian information criterion"
   ]
  },
  {
   "cell_type": "markdown",
   "id": "be56cd6b",
   "metadata": {
    "papermill": {
     "duration": 0.009915,
     "end_time": "2022-09-14T14:07:43.199482",
     "exception": false,
     "start_time": "2022-09-14T14:07:43.189567",
     "status": "completed"
    },
    "tags": []
   },
   "source": [
    "### AUC를 이용한 모델 선택\n",
    "독립변수가 하나이므로 Null 모델의 AIC와 비교하는 작업이 된다."
   ]
  },
  {
   "cell_type": "code",
   "execution_count": 6,
   "id": "bac2967f",
   "metadata": {
    "execution": {
     "iopub.execute_input": "2022-09-14T14:07:43.222661Z",
     "iopub.status.busy": "2022-09-14T14:07:43.221890Z",
     "iopub.status.idle": "2022-09-14T14:07:43.232921Z",
     "shell.execute_reply": "2022-09-14T14:07:43.231901Z"
    },
    "papermill": {
     "duration": 0.025336,
     "end_time": "2022-09-14T14:07:43.235183",
     "exception": false,
     "start_time": "2022-09-14T14:07:43.209847",
     "status": "completed"
    },
    "tags": []
   },
   "outputs": [
    {
     "data": {
      "text/plain": [
       "227.94194972563105"
      ]
     },
     "execution_count": 6,
     "metadata": {},
     "output_type": "execute_result"
    }
   ],
   "source": [
    "# null 모델의 aic\n",
    "null_model = smf.ols('beer ~ 1', data=beer).fit()\n",
    "null_model.aic"
   ]
  },
  {
   "cell_type": "code",
   "execution_count": 7,
   "id": "8f87c964",
   "metadata": {
    "execution": {
     "iopub.execute_input": "2022-09-14T14:07:43.258100Z",
     "iopub.status.busy": "2022-09-14T14:07:43.257408Z",
     "iopub.status.idle": "2022-09-14T14:07:43.263109Z",
     "shell.execute_reply": "2022-09-14T14:07:43.262272Z"
    },
    "papermill": {
     "duration": 0.01978,
     "end_time": "2022-09-14T14:07:43.265321",
     "exception": false,
     "start_time": "2022-09-14T14:07:43.245541",
     "status": "completed"
    },
    "tags": []
   },
   "outputs": [
    {
     "data": {
      "text/plain": [
       "208.90902935575437"
      ]
     },
     "execution_count": 7,
     "metadata": {},
     "output_type": "execute_result"
    }
   ],
   "source": [
    "# 독립변수 1개인 모델의 aic\n",
    "lm_model.aic"
   ]
  },
  {
   "cell_type": "markdown",
   "id": "ba532b1e",
   "metadata": {
    "papermill": {
     "duration": 0.010241,
     "end_time": "2022-09-14T14:07:43.286116",
     "exception": false,
     "start_time": "2022-09-14T14:07:43.275875",
     "status": "completed"
    },
    "tags": []
   },
   "source": [
    "독립변수 1개인 모델의 aic 값이 작기때문에 기온이라는 독립변수가 있는 쪽이 예측 정확도가 높아지는 것이 아닐까 판단 할 수 있다."
   ]
  },
  {
   "cell_type": "markdown",
   "id": "8fc8e73d",
   "metadata": {
    "papermill": {
     "duration": 0.010237,
     "end_time": "2022-09-14T14:07:43.306800",
     "exception": false,
     "start_time": "2022-09-14T14:07:43.296563",
     "status": "completed"
    },
    "tags": []
   },
   "source": [
    "AIC formula\\\n",
    "$ AIC = -2 \\times (최대우도 - 추정된 파라미터 수) $"
   ]
  },
  {
   "cell_type": "code",
   "execution_count": 8,
   "id": "dd1c1996",
   "metadata": {
    "execution": {
     "iopub.execute_input": "2022-09-14T14:07:43.329874Z",
     "iopub.status.busy": "2022-09-14T14:07:43.329175Z",
     "iopub.status.idle": "2022-09-14T14:07:43.335241Z",
     "shell.execute_reply": "2022-09-14T14:07:43.334370Z"
    },
    "papermill": {
     "duration": 0.020153,
     "end_time": "2022-09-14T14:07:43.337404",
     "exception": false,
     "start_time": "2022-09-14T14:07:43.317251",
     "status": "completed"
    },
    "tags": []
   },
   "outputs": [
    {
     "data": {
      "text/plain": [
       "-102.45451467787719"
      ]
     },
     "execution_count": 8,
     "metadata": {},
     "output_type": "execute_result"
    }
   ],
   "source": [
    "# 추정된 모델의 로그우도\n",
    "lm_model.llf"
   ]
  },
  {
   "cell_type": "code",
   "execution_count": 9,
   "id": "09f96cb9",
   "metadata": {
    "execution": {
     "iopub.execute_input": "2022-09-14T14:07:43.360842Z",
     "iopub.status.busy": "2022-09-14T14:07:43.360147Z",
     "iopub.status.idle": "2022-09-14T14:07:43.365712Z",
     "shell.execute_reply": "2022-09-14T14:07:43.364867Z"
    },
    "papermill": {
     "duration": 0.01978,
     "end_time": "2022-09-14T14:07:43.367800",
     "exception": false,
     "start_time": "2022-09-14T14:07:43.348020",
     "status": "completed"
    },
    "tags": []
   },
   "outputs": [
    {
     "data": {
      "text/plain": [
       "1.0"
      ]
     },
     "execution_count": 9,
     "metadata": {},
     "output_type": "execute_result"
    }
   ],
   "source": [
    "# 사용된 독립변수의 수\n",
    "lm_model.df_model"
   ]
  },
  {
   "cell_type": "code",
   "execution_count": 10,
   "id": "c24c623f",
   "metadata": {
    "execution": {
     "iopub.execute_input": "2022-09-14T14:07:43.392573Z",
     "iopub.status.busy": "2022-09-14T14:07:43.391854Z",
     "iopub.status.idle": "2022-09-14T14:07:43.398182Z",
     "shell.execute_reply": "2022-09-14T14:07:43.397285Z"
    },
    "papermill": {
     "duration": 0.021041,
     "end_time": "2022-09-14T14:07:43.400360",
     "exception": false,
     "start_time": "2022-09-14T14:07:43.379319",
     "status": "completed"
    },
    "tags": []
   },
   "outputs": [
    {
     "data": {
      "text/plain": [
       "208.90902935575437"
      ]
     },
     "execution_count": 10,
     "metadata": {},
     "output_type": "execute_result"
    }
   ],
   "source": [
    "## AIC를 계산하는 법\n",
    "# 실제로 절편도 추정되었기 때문에 1을 더해서 추정된 파라미터 수를 구할 수 있다.\n",
    "-2 * (lm_model.llf - (lm_model.df_model + 1))"
   ]
  },
  {
   "cell_type": "markdown",
   "id": "40c53250",
   "metadata": {
    "papermill": {
     "duration": 0.010657,
     "end_time": "2022-09-14T14:07:43.421882",
     "exception": false,
     "start_time": "2022-09-14T14:07:43.411225",
     "status": "completed"
    },
    "tags": []
   },
   "source": [
    "### 5.1.8 회귀직선\n",
    "모델에 의한 종속변수의 추측값을 직선으로 표시한 것.\\\n",
    "비선형모델의 경우 **회귀곡선**이라한다."
   ]
  },
  {
   "cell_type": "markdown",
   "id": "16c0c584",
   "metadata": {
    "papermill": {
     "duration": 0.010448,
     "end_time": "2022-09-14T14:07:43.443070",
     "exception": false,
     "start_time": "2022-09-14T14:07:43.432622",
     "status": "completed"
    },
    "tags": []
   },
   "source": [
    "### 5.1.9 seaborn을 이용한 회귀직선 그래프 그리기"
   ]
  },
  {
   "cell_type": "code",
   "execution_count": 11,
   "id": "1c8bc12e",
   "metadata": {
    "execution": {
     "iopub.execute_input": "2022-09-14T14:07:43.467114Z",
     "iopub.status.busy": "2022-09-14T14:07:43.466410Z",
     "iopub.status.idle": "2022-09-14T14:07:43.990616Z",
     "shell.execute_reply": "2022-09-14T14:07:43.989380Z"
    },
    "papermill": {
     "duration": 0.539588,
     "end_time": "2022-09-14T14:07:43.993391",
     "exception": false,
     "start_time": "2022-09-14T14:07:43.453803",
     "status": "completed"
    },
    "tags": []
   },
   "outputs": [
    {
     "data": {
      "image/png": "[encoded data removed]",
      "text/plain": [
       "<Figure size 360x360 with 1 Axes>"
      ]
     },
     "metadata": {},
     "output_type": "display_data"
    }
   ],
   "source": [
    "# 직선주위의 음영은 95% 신뢰구간을 의미\n",
    "sns.lmplot(x='temperature', y='beer', data=beer, line_kws={'color':'black'});"
   ]
  },
  {
   "cell_type": "markdown",
   "id": "f5c80542",
   "metadata": {
    "papermill": {
     "duration": 0.01134,
     "end_time": "2022-09-14T14:07:44.016817",
     "exception": false,
     "start_time": "2022-09-14T14:07:44.005477",
     "status": "completed"
    },
    "tags": []
   },
   "source": [
    "### 5.1.10 모델을 이용한 예측"
   ]
  },
  {
   "cell_type": "code",
   "execution_count": 12,
   "id": "8e4af8a7",
   "metadata": {
    "execution": {
     "iopub.execute_input": "2022-09-14T14:07:44.041424Z",
     "iopub.status.busy": "2022-09-14T14:07:44.040737Z",
     "iopub.status.idle": "2022-09-14T14:07:44.048204Z",
     "shell.execute_reply": "2022-09-14T14:07:44.047162Z"
    },
    "papermill": {
     "duration": 0.022255,
     "end_time": "2022-09-14T14:07:44.050490",
     "exception": false,
     "start_time": "2022-09-14T14:07:44.028235",
     "status": "completed"
    },
    "tags": []
   },
   "outputs": [
    {
     "data": {
      "text/plain": [
       "array([50.3014808 , 53.74590495, 42.26449113, 55.20021737, 46.70397114,\n",
       "       37.82501112, 44.94348769, 54.51133254, 52.44467805, 41.11634975,\n",
       "       54.66441806, 49.22988218, 53.21010564, 52.44467805, 41.03980699,\n",
       "       52.59776357, 45.24965873, 61.78289462, 55.42984564, 50.3014808 ,\n",
       "       42.41757665, 50.3014808 , 51.14345115, 40.6570932 , 66.91125946,\n",
       "       52.9039346 , 62.85449324, 41.42252079, 62.47177945, 39.50895182])"
      ]
     },
     "execution_count": 12,
     "metadata": {},
     "output_type": "execute_result"
    }
   ],
   "source": [
    "# 파라미터를 넣지 않으면 훈련 데이터를 사용한 값을 출력\n",
    "lm_model.predict()"
   ]
  },
  {
   "cell_type": "code",
   "execution_count": 13,
   "id": "8784dfb3",
   "metadata": {
    "execution": {
     "iopub.execute_input": "2022-09-14T14:07:44.075894Z",
     "iopub.status.busy": "2022-09-14T14:07:44.075467Z",
     "iopub.status.idle": "2022-09-14T14:07:44.085324Z",
     "shell.execute_reply": "2022-09-14T14:07:44.084119Z"
    },
    "papermill": {
     "duration": 0.025402,
     "end_time": "2022-09-14T14:07:44.087573",
     "exception": false,
     "start_time": "2022-09-14T14:07:44.062171",
     "status": "completed"
    },
    "tags": []
   },
   "outputs": [
    {
     "data": {
      "text/plain": [
       "0    34.610215\n",
       "dtype: float64"
      ]
     },
     "execution_count": 13,
     "metadata": {},
     "output_type": "execute_result"
    }
   ],
   "source": [
    "# 기온 0일 때의 기대값은 절편값과 같다.\n",
    "lm_model.predict({'temperature':[0]})"
   ]
  },
  {
   "cell_type": "code",
   "execution_count": 14,
   "id": "796af0c4",
   "metadata": {
    "execution": {
     "iopub.execute_input": "2022-09-14T14:07:44.112668Z",
     "iopub.status.busy": "2022-09-14T14:07:44.111910Z",
     "iopub.status.idle": "2022-09-14T14:07:44.120895Z",
     "shell.execute_reply": "2022-09-14T14:07:44.119659Z"
    },
    "papermill": {
     "duration": 0.023809,
     "end_time": "2022-09-14T14:07:44.123092",
     "exception": false,
     "start_time": "2022-09-14T14:07:44.099283",
     "status": "completed"
    },
    "tags": []
   },
   "outputs": [
    {
     "data": {
      "text/plain": [
       "Intercept      34.610215\n",
       "temperature     0.765428\n",
       "dtype: float64"
      ]
     },
     "execution_count": 14,
     "metadata": {},
     "output_type": "execute_result"
    }
   ],
   "source": [
    "lm_model.params"
   ]
  },
  {
   "cell_type": "code",
   "execution_count": 15,
   "id": "01fe84aa",
   "metadata": {
    "execution": {
     "iopub.execute_input": "2022-09-14T14:07:44.148310Z",
     "iopub.status.busy": "2022-09-14T14:07:44.147930Z",
     "iopub.status.idle": "2022-09-14T14:07:44.157505Z",
     "shell.execute_reply": "2022-09-14T14:07:44.156367Z"
    },
    "papermill": {
     "duration": 0.024995,
     "end_time": "2022-09-14T14:07:44.159855",
     "exception": false,
     "start_time": "2022-09-14T14:07:44.134860",
     "status": "completed"
    },
    "tags": []
   },
   "outputs": [
    {
     "data": {
      "text/plain": [
       "0    49.918767\n",
       "dtype: float64"
      ]
     },
     "execution_count": 15,
     "metadata": {},
     "output_type": "execute_result"
    }
   ],
   "source": [
    "# 기온 20도일때 예측\n",
    "lm_model.predict({'temperature':[20]})"
   ]
  },
  {
   "cell_type": "code",
   "execution_count": 16,
   "id": "eb5a6e19",
   "metadata": {
    "execution": {
     "iopub.execute_input": "2022-09-14T14:07:44.185362Z",
     "iopub.status.busy": "2022-09-14T14:07:44.184968Z",
     "iopub.status.idle": "2022-09-14T14:07:44.192380Z",
     "shell.execute_reply": "2022-09-14T14:07:44.191572Z"
    },
    "papermill": {
     "duration": 0.022718,
     "end_time": "2022-09-14T14:07:44.194438",
     "exception": false,
     "start_time": "2022-09-14T14:07:44.171720",
     "status": "completed"
    },
    "tags": []
   },
   "outputs": [
    {
     "data": {
      "text/plain": [
       "49.91876701095054"
      ]
     },
     "execution_count": 16,
     "metadata": {},
     "output_type": "execute_result"
    }
   ],
   "source": [
    "# 위 예측값을 회귀식으로 계산하기\n",
    "# lm_model.params[0] + lm_model.params[1] * 20\n",
    "beta0 = lm_model.params[0]\n",
    "beta1 = lm_model.params[1]\n",
    "temperture = 20\n",
    "beta0 + beta1 * temperture"
   ]
  },
  {
   "cell_type": "markdown",
   "id": "566196cb",
   "metadata": {
    "papermill": {
     "duration": 0.011756,
     "end_time": "2022-09-14T14:07:44.218255",
     "exception": false,
     "start_time": "2022-09-14T14:07:44.206499",
     "status": "completed"
    },
    "tags": []
   },
   "source": [
    "### 5.1.11 Residual 잔차 계산\n",
    "모델의 평가는 주로 잔차를 체크한다.\\\n",
    "정규선형모델의 경우 잔차가 **'평균이 0인 정규분포'** 를 따르는 것이므로 모델이 그 분포를 따르는지 체크하게 된다."
   ]
  },
  {
   "cell_type": "code",
   "execution_count": 17,
   "id": "8084e9d2",
   "metadata": {
    "execution": {
     "iopub.execute_input": "2022-09-14T14:07:44.245379Z",
     "iopub.status.busy": "2022-09-14T14:07:44.244944Z",
     "iopub.status.idle": "2022-09-14T14:07:44.254293Z",
     "shell.execute_reply": "2022-09-14T14:07:44.253111Z"
    },
    "papermill": {
     "duration": 0.026834,
     "end_time": "2022-09-14T14:07:44.256977",
     "exception": false,
     "start_time": "2022-09-14T14:07:44.230143",
     "status": "completed"
    },
    "tags": []
   },
   "outputs": [
    {
     "data": {
      "text/plain": [
       "0   -5.001481\n",
       "1    5.554095\n",
       "2   -1.864491\n",
       "dtype: float64"
      ]
     },
     "execution_count": 17,
     "metadata": {},
     "output_type": "execute_result"
    }
   ],
   "source": [
    "resid = lm_model.resid\n",
    "resid.head(3)"
   ]
  },
  {
   "cell_type": "markdown",
   "id": "61d7ca37",
   "metadata": {
    "papermill": {
     "duration": 0.012246,
     "end_time": "2022-09-14T14:07:44.282198",
     "exception": false,
     "start_time": "2022-09-14T14:07:44.269952",
     "status": "completed"
    },
    "tags": []
   },
   "source": [
    "- 잔차 계산식\\\n",
    "$residuals = y - \\hat{y}$\\\n",
    "여기서 $'\\hat{y}=\\beta_{0}+\\beta_{1}\\times 기온'$ 이다.\\\n",
    "이 값은 lm_model.fittedvalues 나 lm_model.predict() 와 같다."
   ]
  },
  {
   "cell_type": "code",
   "execution_count": 18,
   "id": "92ef9a0c",
   "metadata": {
    "execution": {
     "iopub.execute_input": "2022-09-14T14:07:44.308889Z",
     "iopub.status.busy": "2022-09-14T14:07:44.308460Z",
     "iopub.status.idle": "2022-09-14T14:07:44.318364Z",
     "shell.execute_reply": "2022-09-14T14:07:44.317252Z"
    },
    "papermill": {
     "duration": 0.026568,
     "end_time": "2022-09-14T14:07:44.320886",
     "exception": false,
     "start_time": "2022-09-14T14:07:44.294318",
     "status": "completed"
    },
    "tags": []
   },
   "outputs": [
    {
     "data": {
      "text/plain": [
       "0    50.301481\n",
       "1    53.745905\n",
       "2    42.264491\n",
       "Name: temperature, dtype: float64"
      ]
     },
     "execution_count": 18,
     "metadata": {},
     "output_type": "execute_result"
    }
   ],
   "source": [
    "beta0 = lm_model.params[0]\n",
    "beta1 = lm_model.params[1]\n",
    "y_hat = beta0 + beta1 * beer.temperature\n",
    "y_hat.head(3)"
   ]
  },
  {
   "cell_type": "code",
   "execution_count": 19,
   "id": "4de2361c",
   "metadata": {
    "execution": {
     "iopub.execute_input": "2022-09-14T14:07:44.348572Z",
     "iopub.status.busy": "2022-09-14T14:07:44.348156Z",
     "iopub.status.idle": "2022-09-14T14:07:44.356621Z",
     "shell.execute_reply": "2022-09-14T14:07:44.355370Z"
    },
    "papermill": {
     "duration": 0.025092,
     "end_time": "2022-09-14T14:07:44.358800",
     "exception": false,
     "start_time": "2022-09-14T14:07:44.333708",
     "status": "completed"
    },
    "tags": []
   },
   "outputs": [
    {
     "data": {
      "text/plain": [
       "0   -5.001481\n",
       "1    5.554095\n",
       "2   -1.864491\n",
       "dtype: float64"
      ]
     },
     "execution_count": 19,
     "metadata": {},
     "output_type": "execute_result"
    }
   ],
   "source": [
    "# 실제값에서 예측값을 빼면 잔차가 된다.\n",
    "(beer.beer - y_hat).head(3)"
   ]
  },
  {
   "cell_type": "code",
   "execution_count": 20,
   "id": "49c765b1",
   "metadata": {
    "execution": {
     "iopub.execute_input": "2022-09-14T14:07:44.385737Z",
     "iopub.status.busy": "2022-09-14T14:07:44.385298Z",
     "iopub.status.idle": "2022-09-14T14:07:44.393984Z",
     "shell.execute_reply": "2022-09-14T14:07:44.392649Z"
    },
    "papermill": {
     "duration": 0.025308,
     "end_time": "2022-09-14T14:07:44.396472",
     "exception": false,
     "start_time": "2022-09-14T14:07:44.371164",
     "status": "completed"
    },
    "tags": []
   },
   "outputs": [
    {
     "data": {
      "text/plain": [
       "(-3.386920373789811e-14, 54.18607258864832)"
      ]
     },
     "execution_count": 20,
     "metadata": {},
     "output_type": "execute_result"
    }
   ],
   "source": [
    "np.mean(resid), np.var(resid)"
   ]
  },
  {
   "cell_type": "markdown",
   "id": "2cad77c1",
   "metadata": {
    "papermill": {
     "duration": 0.012769,
     "end_time": "2022-09-14T14:07:44.423037",
     "exception": false,
     "start_time": "2022-09-14T14:07:44.410268",
     "status": "completed"
    },
    "tags": []
   },
   "source": [
    "### 5.1.12 R-squart 결정계수\n",
    "결정계수는 가지고 있는 데이터에 대해 모델을 적용했을 때의 적합도를 평가한 지표이다.\n",
    "### $ R^{2} = \\frac{\\sum_{i=1}^{N}(\\hat{y}-\\mu)^{2}}{\\sum_{i=1}^{N}(y-\\mu)^{2}} = \\frac{SSE}{SST} = 1-\\frac{SSR}{SST} $\n",
    "모델에 의한 추측치가 종속변수의 실젯값과 일치하면 $R^{2}$ 는 1이 된다."
   ]
  },
  {
   "cell_type": "code",
   "execution_count": 21,
   "id": "fa74673b",
   "metadata": {
    "execution": {
     "iopub.execute_input": "2022-09-14T14:07:44.449910Z",
     "iopub.status.busy": "2022-09-14T14:07:44.449445Z",
     "iopub.status.idle": "2022-09-14T14:07:44.459008Z",
     "shell.execute_reply": "2022-09-14T14:07:44.457851Z"
    },
    "papermill": {
     "duration": 0.025928,
     "end_time": "2022-09-14T14:07:44.461676",
     "exception": false,
     "start_time": "2022-09-14T14:07:44.435748",
     "status": "completed"
    },
    "tags": []
   },
   "outputs": [
    {
     "data": {
      "text/plain": [
       "0.5039593230611873"
      ]
     },
     "execution_count": 21,
     "metadata": {},
     "output_type": "execute_result"
    }
   ],
   "source": [
    "mu = np.mean(beer.beer)\n",
    "y = beer.beer\n",
    "yhat = lm_model.predict()\n",
    "\n",
    "np.sum((yhat-mu)**2) / np.sum((y-mu)**2)"
   ]
  },
  {
   "cell_type": "code",
   "execution_count": 22,
   "id": "3d08dc86",
   "metadata": {
    "execution": {
     "iopub.execute_input": "2022-09-14T14:07:44.489138Z",
     "iopub.status.busy": "2022-09-14T14:07:44.488656Z",
     "iopub.status.idle": "2022-09-14T14:07:44.496342Z",
     "shell.execute_reply": "2022-09-14T14:07:44.494891Z"
    },
    "papermill": {
     "duration": 0.024481,
     "end_time": "2022-09-14T14:07:44.498888",
     "exception": false,
     "start_time": "2022-09-14T14:07:44.474407",
     "status": "completed"
    },
    "tags": []
   },
   "outputs": [
    {
     "data": {
      "text/plain": [
       "0.5039593230611857"
      ]
     },
     "execution_count": 22,
     "metadata": {},
     "output_type": "execute_result"
    }
   ],
   "source": [
    "# 인스턴스로 구하기\n",
    "lm_model.rsquared"
   ]
  },
  {
   "cell_type": "markdown",
   "id": "5900048e",
   "metadata": {
    "papermill": {
     "duration": 0.012536,
     "end_time": "2022-09-14T14:07:44.524327",
     "exception": false,
     "start_time": "2022-09-14T14:07:44.511791",
     "status": "completed"
    },
    "tags": []
   },
   "source": [
    "### 5.1.13 Adjust R-squart 수정된 결정계수\n",
    "독립변수의 수가 늘어나는 것에 대해 패널티를 적용한 결정계수를 **수정된 결정계수** 라고 부른다.\n",
    "수정된 결정계수는 다음 식으로 계산할 수 있다. (s 는 독립변수의 수)\n",
    "### $ R^{2} = 1-\\frac{\\sum_{i=1}^{N}residuals^{2}\\diagup(N-s-1)}{\\sum_{i=1}^{N}(y-\\mu)^{2}\\diagup (N-1)} $"
   ]
  },
  {
   "cell_type": "code",
   "execution_count": 23,
   "id": "f81ad1d0",
   "metadata": {
    "execution": {
     "iopub.execute_input": "2022-09-14T14:07:44.551324Z",
     "iopub.status.busy": "2022-09-14T14:07:44.550928Z",
     "iopub.status.idle": "2022-09-14T14:07:44.559632Z",
     "shell.execute_reply": "2022-09-14T14:07:44.558678Z"
    },
    "papermill": {
     "duration": 0.024935,
     "end_time": "2022-09-14T14:07:44.561908",
     "exception": false,
     "start_time": "2022-09-14T14:07:44.536973",
     "status": "completed"
    },
    "tags": []
   },
   "outputs": [
    {
     "data": {
      "text/plain": [
       "0.48624358459908523"
      ]
     },
     "execution_count": 23,
     "metadata": {},
     "output_type": "execute_result"
    }
   ],
   "source": [
    "n = len(beer.beer)\n",
    "s = 1\n",
    "1 - (np.sum(resid**2) / (n-s-1)) / (np.sum((y-mu)**2) / (n-1))"
   ]
  },
  {
   "cell_type": "code",
   "execution_count": 24,
   "id": "8a1efcac",
   "metadata": {
    "execution": {
     "iopub.execute_input": "2022-09-14T14:07:44.589024Z",
     "iopub.status.busy": "2022-09-14T14:07:44.588644Z",
     "iopub.status.idle": "2022-09-14T14:07:44.594844Z",
     "shell.execute_reply": "2022-09-14T14:07:44.593876Z"
    },
    "papermill": {
     "duration": 0.022428,
     "end_time": "2022-09-14T14:07:44.597056",
     "exception": false,
     "start_time": "2022-09-14T14:07:44.574628",
     "status": "completed"
    },
    "tags": []
   },
   "outputs": [
    {
     "data": {
      "text/plain": [
       "0.48624358459908523"
      ]
     },
     "execution_count": 24,
     "metadata": {},
     "output_type": "execute_result"
    }
   ],
   "source": [
    "lm_model.rsquared_adj"
   ]
  },
  {
   "cell_type": "markdown",
   "id": "ab4c8f30",
   "metadata": {
    "papermill": {
     "duration": 0.012391,
     "end_time": "2022-09-14T14:07:44.622101",
     "exception": false,
     "start_time": "2022-09-14T14:07:44.609710",
     "status": "completed"
    },
    "tags": []
   },
   "source": [
    "### 5.1.14 Residual Graph\n",
    "히스토그램으로 잔차가 정규분포의 특징을 가지고 있는지 확인한다."
   ]
  },
  {
   "cell_type": "code",
   "execution_count": 25,
   "id": "bbcf7ccb",
   "metadata": {
    "execution": {
     "iopub.execute_input": "2022-09-14T14:07:44.650200Z",
     "iopub.status.busy": "2022-09-14T14:07:44.649736Z",
     "iopub.status.idle": "2022-09-14T14:07:45.109144Z",
     "shell.execute_reply": "2022-09-14T14:07:45.108227Z"
    },
    "papermill": {
     "duration": 0.476581,
     "end_time": "2022-09-14T14:07:45.111355",
     "exception": false,
     "start_time": "2022-09-14T14:07:44.634774",
     "status": "completed"
    },
    "tags": []
   },
   "outputs": [
    {
     "data": {
      "image/png": "[encoded data removed]",
      "text/plain": [
       "<Figure size 360x360 with 1 Axes>"
      ]
     },
     "metadata": {},
     "output_type": "display_data"
    }
   ],
   "source": [
    "sns.displot(resid, kde=True, stat='density', height=5, aspect=1);"
   ]
  },
  {
   "cell_type": "code",
   "execution_count": 26,
   "id": "6b7478e2",
   "metadata": {
    "execution": {
     "iopub.execute_input": "2022-09-14T14:07:45.140938Z",
     "iopub.status.busy": "2022-09-14T14:07:45.140170Z",
     "iopub.status.idle": "2022-09-14T14:07:45.785660Z",
     "shell.execute_reply": "2022-09-14T14:07:45.784381Z"
    },
    "papermill": {
     "duration": 0.66356,
     "end_time": "2022-09-14T14:07:45.788359",
     "exception": false,
     "start_time": "2022-09-14T14:07:45.124799",
     "status": "completed"
    },
    "tags": []
   },
   "outputs": [
    {
     "data": {
      "image/png": "[encoded data removed]",
      "text/plain": [
       "<Figure size 432x432 with 3 Axes>"
      ]
     },
     "metadata": {},
     "output_type": "display_data"
    }
   ],
   "source": [
    "# X 축이 적합도, Y 축이 잔차인 산포도\n",
    "sns.jointplot(x=lm_model.fittedvalues, y=resid);"
   ]
  },
  {
   "cell_type": "code",
   "execution_count": null,
   "id": "7896461b",
   "metadata": {
    "papermill": {
     "duration": 0.024919,
     "end_time": "2022-09-14T14:07:45.826987",
     "exception": false,
     "start_time": "2022-09-14T14:07:45.802068",
     "status": "completed"
    },
    "tags": []
   },
   "outputs": [],
   "source": []
  },
  {
   "cell_type": "code",
   "execution_count": null,
   "id": "ac1f7a2f",
   "metadata": {
    "papermill": {
     "duration": 0.013088,
     "end_time": "2022-09-14T14:07:45.853615",
     "exception": false,
     "start_time": "2022-09-14T14:07:45.840527",
     "status": "completed"
    },
    "tags": []
   },
   "outputs": [],
   "source": []
  },
  {
   "cell_type": "code",
   "execution_count": null,
   "id": "dffd63b0",
   "metadata": {
    "papermill": {
     "duration": 0.013,
     "end_time": "2022-09-14T14:07:45.880252",
     "exception": false,
     "start_time": "2022-09-14T14:07:45.867252",
     "status": "completed"
    },
    "tags": []
   },
   "outputs": [],
   "source": []
  },
  {
   "cell_type": "code",
   "execution_count": null,
   "id": "9e7bc60b",
   "metadata": {
    "papermill": {
     "duration": 0.012863,
     "end_time": "2022-09-14T14:07:45.906473",
     "exception": false,
     "start_time": "2022-09-14T14:07:45.893610",
     "status": "completed"
    },
    "tags": []
   },
   "outputs": [],
   "source": []
  }
 ],
 "metadata": {
  "kernelspec": {
   "display_name": "Python 3",
   "language": "python",
   "name": "python3"
  },
  "language_info": {
   "codemirror_mode": {
    "name": "ipython",
    "version": 3
   },
   "file_extension": ".py",
   "mimetype": "text/x-python",
   "name": "python",
   "nbconvert_exporter": "python",
   "pygments_lexer": "ipython3",
   "version": "3.7.12"
  },
  "papermill": {
   "default_parameters": {},
   "duration": 16.148058,
   "end_time": "2022-09-14T14:07:46.742520",
   "environment_variables": {},
   "exception": null,
   "input_path": "__notebook__.ipynb",
   "output_path": "__notebook__.ipynb",
   "parameters": {},
   "start_time": "2022-09-14T14:07:30.594462",
   "version": "2.3.4"
  }
 },
 "nbformat": 4,
 "nbformat_minor": 5
}
