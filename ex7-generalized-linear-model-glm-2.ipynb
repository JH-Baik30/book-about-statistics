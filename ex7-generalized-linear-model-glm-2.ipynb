{
 "cells": [
  {
   "cell_type": "code",
   "execution_count": 1,
   "id": "b11e777f",
   "metadata": {
    "_cell_guid": "b1076dfc-b9ad-4769-8c92-a6c4dae69d19",
    "_uuid": "8f2839f25d086af736a60e9eeb907d3b93b6e0e5",
    "execution": {
     "iopub.execute_input": "2022-09-15T15:00:04.033168Z",
     "iopub.status.busy": "2022-09-15T15:00:04.032714Z",
     "iopub.status.idle": "2022-09-15T15:00:05.990823Z",
     "shell.execute_reply": "2022-09-15T15:00:05.989657Z"
    },
    "papermill": {
     "duration": 1.973388,
     "end_time": "2022-09-15T15:00:05.993741",
     "exception": false,
     "start_time": "2022-09-15T15:00:04.020353",
     "status": "completed"
    },
    "tags": []
   },
   "outputs": [],
   "source": [
    "import numpy as np\n",
    "import pandas as pd\n",
    "import scipy as sp\n",
    "from scipy.stats import pearsonr\n",
    "import matplotlib.pyplot as plt\n",
    "import seaborn as sns\n",
    "sns.set()\n",
    "\n",
    "# 선형모델을 추정하는 라이브러리\n",
    "import statsmodels.formula.api as smf\n",
    "import statsmodels.api as sm"
   ]
  },
  {
   "cell_type": "code",
   "execution_count": 2,
   "id": "ea5ebef5",
   "metadata": {
    "execution": {
     "iopub.execute_input": "2022-09-15T15:00:06.015063Z",
     "iopub.status.busy": "2022-09-15T15:00:06.014047Z",
     "iopub.status.idle": "2022-09-15T15:00:06.024219Z",
     "shell.execute_reply": "2022-09-15T15:00:06.022883Z"
    },
    "papermill": {
     "duration": 0.023626,
     "end_time": "2022-09-15T15:00:06.026882",
     "exception": false,
     "start_time": "2022-09-15T15:00:06.003256",
     "status": "completed"
    },
    "tags": []
   },
   "outputs": [],
   "source": [
    "beer = pd.DataFrame({'beer' :[45.3, 59.3, 40.4, 38.0, 37.0, 40.9, 60.2, 63.3, 51.1, 44.9, 47.0, 53.2,\n",
    "                              43.5, 53.2, 37.4, 59.9, 41.5, 75.1, 55.6, 57.2, 46.5, 35.8, 51.9, 38.2,\n",
    "                              66.0, 55.3, 55.3, 43.3, 70.5, 38.8],\n",
    "                     'temperature' : [20.5, 25.0, 10.0, 26.9, 15.8, 4.2, 13.5, 26.0, 23.3, 8.5, 26.2, 19.1,\n",
    "                                      24.3, 23.3, 8.4, 23.5, 13.9, 35.5, 27.2, 20.5, 10.2, 20.5, 21.6, 7.9,\n",
    "                                      42.2, 23.9, 36.9, 8.9, 36.4, 6.4]})"
   ]
  },
  {
   "cell_type": "code",
   "execution_count": 3,
   "id": "a0789e8b",
   "metadata": {
    "execution": {
     "iopub.execute_input": "2022-09-15T15:00:06.046687Z",
     "iopub.status.busy": "2022-09-15T15:00:06.046311Z",
     "iopub.status.idle": "2022-09-15T15:00:06.075859Z",
     "shell.execute_reply": "2022-09-15T15:00:06.074788Z"
    },
    "papermill": {
     "duration": 0.042406,
     "end_time": "2022-09-15T15:00:06.078377",
     "exception": false,
     "start_time": "2022-09-15T15:00:06.035971",
     "status": "completed"
    },
    "tags": []
   },
   "outputs": [],
   "source": [
    "lm_model = smf.ols(formula='beer~temperature', data=beer).fit()\n",
    "resid = lm_model.resid"
   ]
  },
  {
   "cell_type": "markdown",
   "id": "987ebd90",
   "metadata": {
    "papermill": {
     "duration": 0.009214,
     "end_time": "2022-09-15T15:00:06.097230",
     "exception": false,
     "start_time": "2022-09-15T15:00:06.088016",
     "status": "completed"
    },
    "tags": []
   },
   "source": [
    "### 5.1.15 Q-Q Plot\n",
    "- Quantile - Quantile Plot $\\Rightarrow$ 이론상의 분위점과 실제 데이터의 분위점을 산포도 그래프로 그린 것\\\n",
    "- 이론상의 분위점과 실제 데이터의 분위점을 구해서 그 둘을 비교하는 것으로 잔차가 정규분포에 근접하는지 여부를 시각적으로 판단\\\n",
    "- Q-Q Plot 은 statsmodels.api 의 qqplot 함수를 사용해서 그릴 수 있다.\\\n",
    "- line = 's' $\\rightarrow$ 잔차가 정규분포를 따르면 이 선상에 위치한다는 기준을 표시\n"
   ]
  },
  {
   "cell_type": "code",
   "execution_count": 4,
   "id": "12cdbaf3",
   "metadata": {
    "execution": {
     "iopub.execute_input": "2022-09-15T15:00:06.118002Z",
     "iopub.status.busy": "2022-09-15T15:00:06.117618Z",
     "iopub.status.idle": "2022-09-15T15:00:06.444110Z",
     "shell.execute_reply": "2022-09-15T15:00:06.442927Z"
    },
    "papermill": {
     "duration": 0.340214,
     "end_time": "2022-09-15T15:00:06.447524",
     "exception": false,
     "start_time": "2022-09-15T15:00:06.107310",
     "status": "completed"
    },
    "tags": []
   },
   "outputs": [
    {
     "data": {
      "image/png": "[encoded data removed]",
      "text/plain": [
       "<Figure size 432x288 with 1 Axes>"
      ]
     },
     "metadata": {},
     "output_type": "display_data"
    }
   ],
   "source": [
    "fig = sm.qqplot(resid, line='s');"
   ]
  },
  {
   "cell_type": "markdown",
   "id": "1d9acc6c",
   "metadata": {
    "papermill": {
     "duration": 0.009352,
     "end_time": "2022-09-15T15:00:06.466685",
     "exception": false,
     "start_time": "2022-09-15T15:00:06.457333",
     "status": "completed"
    },
    "tags": []
   },
   "source": [
    "- Q-Q plot 직접만들기"
   ]
  },
  {
   "cell_type": "code",
   "execution_count": 5,
   "id": "14ee7c34",
   "metadata": {
    "execution": {
     "iopub.execute_input": "2022-09-15T15:00:06.488569Z",
     "iopub.status.busy": "2022-09-15T15:00:06.488103Z",
     "iopub.status.idle": "2022-09-15T15:00:06.495624Z",
     "shell.execute_reply": "2022-09-15T15:00:06.494710Z"
    },
    "papermill": {
     "duration": 0.020682,
     "end_time": "2022-09-15T15:00:06.497633",
     "exception": false,
     "start_time": "2022-09-15T15:00:06.476951",
     "status": "completed"
    },
    "tags": []
   },
   "outputs": [],
   "source": [
    "# 1. 데이터를 순서대로 졍렬 (세로축에 쓸 데이터)\n",
    "resid_sort = resid.sort_values()"
   ]
  },
  {
   "cell_type": "code",
   "execution_count": 6,
   "id": "e173030d",
   "metadata": {
    "execution": {
     "iopub.execute_input": "2022-09-15T15:00:06.519971Z",
     "iopub.status.busy": "2022-09-15T15:00:06.519112Z",
     "iopub.status.idle": "2022-09-15T15:00:06.527245Z",
     "shell.execute_reply": "2022-09-15T15:00:06.526221Z"
    },
    "papermill": {
     "duration": 0.021848,
     "end_time": "2022-09-15T15:00:06.529513",
     "exception": false,
     "start_time": "2022-09-15T15:00:06.507665",
     "status": "completed"
    },
    "tags": []
   },
   "outputs": [
    {
     "data": {
      "text/plain": [
       "array([0.03225806, 0.06451613, 0.09677419, 0.12903226, 0.16129032,\n",
       "       0.19354839, 0.22580645, 0.25806452, 0.29032258, 0.32258065,\n",
       "       0.35483871, 0.38709677, 0.41935484, 0.4516129 , 0.48387097,\n",
       "       0.51612903, 0.5483871 , 0.58064516, 0.61290323, 0.64516129,\n",
       "       0.67741935, 0.70967742, 0.74193548, 0.77419355, 0.80645161,\n",
       "       0.83870968, 0.87096774, 0.90322581, 0.93548387, 0.96774194])"
      ]
     },
     "execution_count": 6,
     "metadata": {},
     "output_type": "execute_result"
    }
   ],
   "source": [
    "# 2-1. 가로축에 사용할 이론상 분위점 만들기\n",
    "# sample size = 30\n",
    "# 가장 작은 데이터는 1/31로 계산한다. (1부터 시작한다)\n",
    "# 30개의 데이터를 모두 계산한다. (결과 이론상의 누적확률이 됨)\n",
    "nobs = len(resid_sort)\n",
    "cdf = np.arange(1, nobs + 1) / (nobs + 1)\n",
    "cdf"
   ]
  },
  {
   "cell_type": "code",
   "execution_count": 7,
   "id": "b4585c2b",
   "metadata": {
    "execution": {
     "iopub.execute_input": "2022-09-15T15:00:06.551844Z",
     "iopub.status.busy": "2022-09-15T15:00:06.551038Z",
     "iopub.status.idle": "2022-09-15T15:00:06.558123Z",
     "shell.execute_reply": "2022-09-15T15:00:06.557370Z"
    },
    "papermill": {
     "duration": 0.020744,
     "end_time": "2022-09-15T15:00:06.560290",
     "exception": false,
     "start_time": "2022-09-15T15:00:06.539546",
     "status": "completed"
    },
    "tags": []
   },
   "outputs": [
    {
     "data": {
      "text/plain": [
       "array([-1.84859629, -1.51792916, -1.30015343, -1.13097761, -0.98916863,\n",
       "       -0.86489436, -0.75272879, -0.64932391, -0.55244258, -0.46049454,\n",
       "       -0.37228936, -0.28689392, -0.20354423, -0.12158738, -0.04044051,\n",
       "        0.04044051,  0.12158738,  0.20354423,  0.28689392,  0.37228936,\n",
       "        0.46049454,  0.55244258,  0.64932391,  0.75272879,  0.86489436,\n",
       "        0.98916863,  1.13097761,  1.30015343,  1.51792916,  1.84859629])"
      ]
     },
     "execution_count": 7,
     "metadata": {},
     "output_type": "execute_result"
    }
   ],
   "source": [
    "# 2-2. Percent point function 이론상 분위점의 정규분포의 퍼센트포인트\n",
    "ppf = sp.stats.norm.ppf(cdf)\n",
    "ppf"
   ]
  },
  {
   "cell_type": "markdown",
   "id": "1418a8bb",
   "metadata": {
    "papermill": {
     "duration": 0.009821,
     "end_time": "2022-09-15T15:00:06.580285",
     "exception": false,
     "start_time": "2022-09-15T15:00:06.570464",
     "status": "completed"
    },
    "tags": []
   },
   "source": [
    "가로축에 사용할 ppd 와 세로축에 사용할 resid_sort 를 만들었다.\\\n",
    "수작업으로 Q-Q plot을 만들 수 있다."
   ]
  },
  {
   "cell_type": "markdown",
   "id": "9f2e657b",
   "metadata": {
    "papermill": {
     "duration": 0.009669,
     "end_time": "2022-09-15T15:00:06.600094",
     "exception": false,
     "start_time": "2022-09-15T15:00:06.590425",
     "status": "completed"
    },
    "tags": []
   },
   "source": [
    "### "
   ]
  },
  {
   "cell_type": "code",
   "execution_count": 8,
   "id": "de221f52",
   "metadata": {
    "execution": {
     "iopub.execute_input": "2022-09-15T15:00:06.622444Z",
     "iopub.status.busy": "2022-09-15T15:00:06.621677Z",
     "iopub.status.idle": "2022-09-15T15:00:06.638996Z",
     "shell.execute_reply": "2022-09-15T15:00:06.638087Z"
    },
    "papermill": {
     "duration": 0.030852,
     "end_time": "2022-09-15T15:00:06.641131",
     "exception": false,
     "start_time": "2022-09-15T15:00:06.610279",
     "status": "completed"
    },
    "tags": []
   },
   "outputs": [
    {
     "data": {
      "text/html": [
       "<table class=\"simpletable\">\n",
       "<caption>OLS Regression Results</caption>\n",
       "<tr>\n",
       "  <th>Dep. Variable:</th>          <td>beer</td>       <th>  R-squared:         </th> <td>   0.504</td>\n",
       "</tr>\n",
       "<tr>\n",
       "  <th>Model:</th>                   <td>OLS</td>       <th>  Adj. R-squared:    </th> <td>   0.486</td>\n",
       "</tr>\n",
       "<tr>\n",
       "  <th>Method:</th>             <td>Least Squares</td>  <th>  F-statistic:       </th> <td>   28.45</td>\n",
       "</tr>\n",
       "<tr>\n",
       "  <th>Date:</th>             <td>Thu, 15 Sep 2022</td> <th>  Prob (F-statistic):</th> <td>1.11e-05</td>\n",
       "</tr>\n",
       "<tr>\n",
       "  <th>Time:</th>                 <td>15:00:06</td>     <th>  Log-Likelihood:    </th> <td> -102.45</td>\n",
       "</tr>\n",
       "<tr>\n",
       "  <th>No. Observations:</th>      <td>    30</td>      <th>  AIC:               </th> <td>   208.9</td>\n",
       "</tr>\n",
       "<tr>\n",
       "  <th>Df Residuals:</th>          <td>    28</td>      <th>  BIC:               </th> <td>   211.7</td>\n",
       "</tr>\n",
       "<tr>\n",
       "  <th>Df Model:</th>              <td>     1</td>      <th>                     </th>     <td> </td>   \n",
       "</tr>\n",
       "<tr>\n",
       "  <th>Covariance Type:</th>      <td>nonrobust</td>    <th>                     </th>     <td> </td>   \n",
       "</tr>\n",
       "</table>\n",
       "<table class=\"simpletable\">\n",
       "<tr>\n",
       "       <td></td>          <th>coef</th>     <th>std err</th>      <th>t</th>      <th>P>|t|</th>  <th>[0.025</th>    <th>0.975]</th>  \n",
       "</tr>\n",
       "<tr>\n",
       "  <th>Intercept</th>   <td>   34.6102</td> <td>    3.235</td> <td>   10.699</td> <td> 0.000</td> <td>   27.984</td> <td>   41.237</td>\n",
       "</tr>\n",
       "<tr>\n",
       "  <th>temperature</th> <td>    0.7654</td> <td>    0.144</td> <td>    5.334</td> <td> 0.000</td> <td>    0.471</td> <td>    1.059</td>\n",
       "</tr>\n",
       "</table>\n",
       "<table class=\"simpletable\">\n",
       "<tr>\n",
       "  <th>Omnibus:</th>       <td> 0.587</td> <th>  Durbin-Watson:     </th> <td>   1.960</td>\n",
       "</tr>\n",
       "<tr>\n",
       "  <th>Prob(Omnibus):</th> <td> 0.746</td> <th>  Jarque-Bera (JB):  </th> <td>   0.290</td>\n",
       "</tr>\n",
       "<tr>\n",
       "  <th>Skew:</th>          <td>-0.240</td> <th>  Prob(JB):          </th> <td>   0.865</td>\n",
       "</tr>\n",
       "<tr>\n",
       "  <th>Kurtosis:</th>      <td> 2.951</td> <th>  Cond. No.          </th> <td>    52.5</td>\n",
       "</tr>\n",
       "</table><br/><br/>Notes:<br/>[1] Standard Errors assume that the covariance matrix of the errors is correctly specified."
      ],
      "text/plain": [
       "<class 'statsmodels.iolib.summary.Summary'>\n",
       "\"\"\"\n",
       "                            OLS Regression Results                            \n",
       "==============================================================================\n",
       "Dep. Variable:                   beer   R-squared:                       0.504\n",
       "Model:                            OLS   Adj. R-squared:                  0.486\n",
       "Method:                 Least Squares   F-statistic:                     28.45\n",
       "Date:                Thu, 15 Sep 2022   Prob (F-statistic):           1.11e-05\n",
       "Time:                        15:00:06   Log-Likelihood:                -102.45\n",
       "No. Observations:                  30   AIC:                             208.9\n",
       "Df Residuals:                      28   BIC:                             211.7\n",
       "Df Model:                           1                                         \n",
       "Covariance Type:            nonrobust                                         \n",
       "===============================================================================\n",
       "                  coef    std err          t      P>|t|      [0.025      0.975]\n",
       "-------------------------------------------------------------------------------\n",
       "Intercept      34.6102      3.235     10.699      0.000      27.984      41.237\n",
       "temperature     0.7654      0.144      5.334      0.000       0.471       1.059\n",
       "==============================================================================\n",
       "Omnibus:                        0.587   Durbin-Watson:                   1.960\n",
       "Prob(Omnibus):                  0.746   Jarque-Bera (JB):                0.290\n",
       "Skew:                          -0.240   Prob(JB):                        0.865\n",
       "Kurtosis:                       2.951   Cond. No.                         52.5\n",
       "==============================================================================\n",
       "\n",
       "Notes:\n",
       "[1] Standard Errors assume that the covariance matrix of the errors is correctly specified.\n",
       "\"\"\""
      ]
     },
     "execution_count": 8,
     "metadata": {},
     "output_type": "execute_result"
    }
   ],
   "source": [
    "lm_model.summary()"
   ]
  },
  {
   "cell_type": "markdown",
   "id": "a8157962",
   "metadata": {
    "papermill": {
     "duration": 0.010136,
     "end_time": "2022-09-15T15:00:06.661787",
     "exception": false,
     "start_time": "2022-09-15T15:00:06.651651",
     "status": "completed"
    },
    "tags": []
   },
   "source": [
    "- Prob(Omnibus), Prob(JB): 는 잔차의 정규성에 대한 검정 결과\n",
    " - 귀무가설: 잔차가 정규분포를 따른다.\n",
    " - 대립가설: 잔차가 정규분포를 따르지 않는다.\n",
    "- **p값이 0.05보다 크다고해서 정규분포라고 주장할 수 없다.**\n",
    "- 정규분포와 다른지 여부를 판단할 때 *Skew(왜도)*나 *Kurtosis(첨도)*라는 지표를 사용한다.\n",
    "- **왜도** 는 히스토그램의 좌우비대칭 방향과 그 정도를 측정하는 지표이다.\n",
    "- **왜도** 는 다음과 같이 계산할 수 있다. ($E()$ 는 기댓값을 받는 함수, $x$ 는 확률변수(이 경우 잔차), $\\mu$ 는 $x$ 의 평균, $\\sigma$ 는 $x$ 의 표본표준편차)\\\n",
    "#### $$ Skew = E \\left( \\frac{(x-\\mu)^{3}}{\\sigma^{3}} \\right)$$\n",
    "- **첨도** 는 히스토그램 중심부의 뾰족함을 측정하는 지표이다. (값이 클수록 가운데 부분이 뾰족해진다.)\n",
    "#### $$ Kurtosis = E \\left( \\frac{(x-\\mu)^{4}}{\\sigma^{4}} \\right)$$\n",
    "- Durbin-Watson: 잔차의 자기상관을 체크하는 지표이다. (2전후라면 문제없다고 판단 **시계열 데이터** 대상으로 분석하는 경우 반드시 확인해야함)"
   ]
  },
  {
   "cell_type": "markdown",
   "id": "0f6f0da1",
   "metadata": {
    "papermill": {
     "duration": 0.010263,
     "end_time": "2022-09-15T15:00:06.682881",
     "exception": false,
     "start_time": "2022-09-15T15:00:06.672618",
     "status": "completed"
    },
    "tags": []
   },
   "source": [
    "## 5.2 ANOVA (Analysis of variance) 분산분석\n",
    "### 5.2.2 분산분석이 필요한 시기\n",
    "**분산분석**은 평균값의 차이를 검정하는 방법이다.\\\n",
    "3개 이상의 수준 간의 평균값에 차이가 있는지 검정할 때쓰는 분석이다.\\\n",
    "2개 수준간의 평균값의 차이를 검정할때는 t-test 를 사용한다.\n",
    "\n",
    "*분산분석은 모집단이 정규분포를 따르는 데이터에 대해서만 적용할 수 있다. 또한 수준 사이의 분산값이 다르지 않다는 조건도 충족해야한다.*\n",
    "\n",
    "### 5.2.3 검정의 다중성\n",
    "검정을 반복함으로써 유의미한 결과를 얻기 쉬워지는 문제를 **검정의 다중성** 이라고 부른다.\\\n",
    "유의수준 0.05에서 검정을 2회 연속 했다, 이때 어느 한쪽의 검정에 대해서라도 귀무가설을 기각할 수 있다면 대립가설을 채택한다는 규칙으로 검정을 시행했다. 그러면 제 1종 오류를 저지를 확률은 1-(0.95$\\times$0.95)=0.0975가 되어 10%에 가까워진다. 이것은 검정을 반복하면 귀무가설이 기각되기 쉬워지고 제 1종 오류를 저지를 확률이 높아진다.\n",
    "\n",
    "분산분석을 하게 되면 개별 카테고리를 보는 것이 아니라 카테고리에따라 다른지 어떤지를 한 번의 검정으로 판단할 수 있게 된다.\n",
    "\n",
    "### 5.2.4 분산분석의 직감적 사고방식: $F$비\n",
    "분산분석의 귀무가설과 대립가설\n",
    "- $H_{0}:$ 수준간의 평균값에 차이가 없다.\n",
    "- $H_{1}:$ 수준간의 평균값에 차이가 있다.\n",
    "이란 날씨, 물고기 종류 등과 같은 카테고리형 변수를 가르킨다.\\\n",
    "분산분석에서는 데이터의 변동을 오차와 효과로 분리한다. 그리고 **$F$비** 라 부르는 통계량을 계산한다.\\\n",
    "$F$비 $= \\frac{효과의 분산 크기}{오차의 분산 크기}$\n",
    "예제에서 효과는 날씨에 따른 매상의 변동이다. 오차는 날씨라는 변수를 이용해서 설명할 수 없는 맥주 매상의 변동이다.\\\n",
    "영향의 크기는 분산을 이용해서 정량화한다. 날씨에 따른 매상 변동은 '날씨가 변함에 따른 데이터의 흩어짐 크기'로 표현됩니다.\\\n",
    "오차영향의 크기도 잔차의 분산을 계산함으로써 구할 수 있다.\\\n",
    "분산의 비율을 취한 통계량으로 검정을 시행하기 때문에 분산분석이라고 불린다.\\\n",
    "\n",
    "$F$비가 크면 오차에 비해 효과의 영향이 클 것이라고 판단할 수 있다.\\\n",
    "모집단분포가 등분산 정규분포일 때의 $F$비의 표본분포는 $\\rightarrow$ $F$분포라고 부른다.\n",
    "$F$분포의 누적분포함수를 사용해서 $p-value$를 계산, 0.05가 되면 귀무가설 기각한다는 흐름은 $t-test$와 같다.\n",
    "\n",
    "### 5.2.5 유의미한 차이가 있을 때와 없을 때의 violin plot\n",
    "그래프를 보는 것만으로도 유의미한 차이를 판정할 수 있을 것 같지만, *정량적인 기준을 이용해서 판단을 하는 경우*에는 **분산분석**이 필요하다.\n",
    "\n",
    "### 5.2.6 분산분석의 직감적 사고방식: 오차 및 효과의 분리\n",
    "### 5.2.7 군간변동과 군내변동\n",
    "- 효과의 크기를 **군간변동**\n",
    "- 오차의 크기를 **군내변동**\n",
    "- 분산분석에서는 데이터의 분산을 군간변동과 군내변동 2개로 나눈 뒤 그 비율을 취한 것을 통계량으로 사용하여 검정을 시행한다."
   ]
  },
  {
   "cell_type": "markdown",
   "id": "69846954",
   "metadata": {
    "papermill": {
     "duration": 0.010437,
     "end_time": "2022-09-15T15:00:06.704020",
     "exception": false,
     "start_time": "2022-09-15T15:00:06.693583",
     "status": "completed"
    },
    "tags": []
   },
   "source": [
    "### 5.2.9 데이터 작성과 표시\n",
    "작은 데이터로 계산 결과 쉽게 보기"
   ]
  },
  {
   "cell_type": "code",
   "execution_count": 9,
   "id": "9aef2760",
   "metadata": {
    "execution": {
     "iopub.execute_input": "2022-09-15T15:00:06.727331Z",
     "iopub.status.busy": "2022-09-15T15:00:06.726867Z",
     "iopub.status.idle": "2022-09-15T15:00:06.743322Z",
     "shell.execute_reply": "2022-09-15T15:00:06.742026Z"
    },
    "papermill": {
     "duration": 0.030865,
     "end_time": "2022-09-15T15:00:06.745796",
     "exception": false,
     "start_time": "2022-09-15T15:00:06.714931",
     "status": "completed"
    },
    "tags": []
   },
   "outputs": [
    {
     "data": {
      "text/html": [
       "<div>\n",
       "<style scoped>\n",
       "    .dataframe tbody tr th:only-of-type {\n",
       "        vertical-align: middle;\n",
       "    }\n",
       "\n",
       "    .dataframe tbody tr th {\n",
       "        vertical-align: top;\n",
       "    }\n",
       "\n",
       "    .dataframe thead th {\n",
       "        text-align: right;\n",
       "    }\n",
       "</style>\n",
       "<table border=\"1\" class=\"dataframe\">\n",
       "  <thead>\n",
       "    <tr style=\"text-align: right;\">\n",
       "      <th></th>\n",
       "      <th>beer</th>\n",
       "      <th>weather</th>\n",
       "    </tr>\n",
       "  </thead>\n",
       "  <tbody>\n",
       "    <tr>\n",
       "      <th>0</th>\n",
       "      <td>6</td>\n",
       "      <td>cloudy</td>\n",
       "    </tr>\n",
       "    <tr>\n",
       "      <th>1</th>\n",
       "      <td>8</td>\n",
       "      <td>cloudy</td>\n",
       "    </tr>\n",
       "    <tr>\n",
       "      <th>2</th>\n",
       "      <td>2</td>\n",
       "      <td>rainy</td>\n",
       "    </tr>\n",
       "    <tr>\n",
       "      <th>3</th>\n",
       "      <td>4</td>\n",
       "      <td>rainy</td>\n",
       "    </tr>\n",
       "    <tr>\n",
       "      <th>4</th>\n",
       "      <td>10</td>\n",
       "      <td>sunny</td>\n",
       "    </tr>\n",
       "    <tr>\n",
       "      <th>5</th>\n",
       "      <td>12</td>\n",
       "      <td>sunny</td>\n",
       "    </tr>\n",
       "  </tbody>\n",
       "</table>\n",
       "</div>"
      ],
      "text/plain": [
       "   beer weather\n",
       "0     6  cloudy\n",
       "1     8  cloudy\n",
       "2     2   rainy\n",
       "3     4   rainy\n",
       "4    10   sunny\n",
       "5    12   sunny"
      ]
     },
     "execution_count": 9,
     "metadata": {},
     "output_type": "execute_result"
    }
   ],
   "source": [
    "# 샘플 데이터 데이터프레임\n",
    "weather_beer = pd.DataFrame({\"beer\"   : [6,8,2,4,10,12],\n",
    "                             \"weather\": [\"cloudy\",\"cloudy\", \"rainy\",\"rainy\", \"sunny\",\"sunny\"]})\n",
    "weather_beer"
   ]
  },
  {
   "cell_type": "code",
   "execution_count": 10,
   "id": "7c55d499",
   "metadata": {
    "execution": {
     "iopub.execute_input": "2022-09-15T15:00:06.769462Z",
     "iopub.status.busy": "2022-09-15T15:00:06.768620Z",
     "iopub.status.idle": "2022-09-15T15:00:07.019873Z",
     "shell.execute_reply": "2022-09-15T15:00:07.018700Z"
    },
    "papermill": {
     "duration": 0.266189,
     "end_time": "2022-09-15T15:00:07.022820",
     "exception": false,
     "start_time": "2022-09-15T15:00:06.756631",
     "status": "completed"
    },
    "tags": []
   },
   "outputs": [
    {
     "data": {
      "image/png": "[encoded data removed]",
      "text/plain": [
       "<Figure size 432x288 with 1 Axes>"
      ]
     },
     "metadata": {},
     "output_type": "display_data"
    }
   ],
   "source": [
    "# 샘플사이즈가 작기 때문에 boxplot으로 그린다.\n",
    "sns.boxenplot(x='weather', y='beer', data=weather_beer);"
   ]
  },
  {
   "cell_type": "code",
   "execution_count": 11,
   "id": "85a70b62",
   "metadata": {
    "execution": {
     "iopub.execute_input": "2022-09-15T15:00:07.047117Z",
     "iopub.status.busy": "2022-09-15T15:00:07.046442Z",
     "iopub.status.idle": "2022-09-15T15:00:07.064700Z",
     "shell.execute_reply": "2022-09-15T15:00:07.063865Z"
    },
    "papermill": {
     "duration": 0.033328,
     "end_time": "2022-09-15T15:00:07.067392",
     "exception": false,
     "start_time": "2022-09-15T15:00:07.034064",
     "status": "completed"
    },
    "tags": []
   },
   "outputs": [
    {
     "data": {
      "text/html": [
       "<div>\n",
       "<style scoped>\n",
       "    .dataframe tbody tr th:only-of-type {\n",
       "        vertical-align: middle;\n",
       "    }\n",
       "\n",
       "    .dataframe tbody tr th {\n",
       "        vertical-align: top;\n",
       "    }\n",
       "\n",
       "    .dataframe thead th {\n",
       "        text-align: right;\n",
       "    }\n",
       "</style>\n",
       "<table border=\"1\" class=\"dataframe\">\n",
       "  <thead>\n",
       "    <tr style=\"text-align: right;\">\n",
       "      <th></th>\n",
       "      <th>beer</th>\n",
       "    </tr>\n",
       "    <tr>\n",
       "      <th>weather</th>\n",
       "      <th></th>\n",
       "    </tr>\n",
       "  </thead>\n",
       "  <tbody>\n",
       "    <tr>\n",
       "      <th>cloudy</th>\n",
       "      <td>7.0</td>\n",
       "    </tr>\n",
       "    <tr>\n",
       "      <th>rainy</th>\n",
       "      <td>3.0</td>\n",
       "    </tr>\n",
       "    <tr>\n",
       "      <th>sunny</th>\n",
       "      <td>11.0</td>\n",
       "    </tr>\n",
       "  </tbody>\n",
       "</table>\n",
       "</div>"
      ],
      "text/plain": [
       "         beer\n",
       "weather      \n",
       "cloudy    7.0\n",
       "rainy     3.0\n",
       "sunny    11.0"
      ]
     },
     "execution_count": 11,
     "metadata": {},
     "output_type": "execute_result"
    }
   ],
   "source": [
    "# 날씨별 평균\n",
    "weather_beer.groupby('weather').mean()"
   ]
  },
  {
   "cell_type": "markdown",
   "id": "e6ca4a8f",
   "metadata": {
    "papermill": {
     "duration": 0.010884,
     "end_time": "2022-09-15T15:00:07.089601",
     "exception": false,
     "start_time": "2022-09-15T15:00:07.078717",
     "status": "completed"
    },
    "tags": []
   },
   "source": [
    "### 5.2.10 분산분석(1): 군간 제곱과 군내 제곱 계산\n",
    "일원배치 분산분석(One-Way Anova) 수작업으로 구현"
   ]
  },
  {
   "cell_type": "code",
   "execution_count": 12,
   "id": "56b4cb7b",
   "metadata": {
    "execution": {
     "iopub.execute_input": "2022-09-15T15:00:07.114246Z",
     "iopub.status.busy": "2022-09-15T15:00:07.113809Z",
     "iopub.status.idle": "2022-09-15T15:00:07.118437Z",
     "shell.execute_reply": "2022-09-15T15:00:07.117422Z"
    },
    "papermill": {
     "duration": 0.019537,
     "end_time": "2022-09-15T15:00:07.120678",
     "exception": false,
     "start_time": "2022-09-15T15:00:07.101141",
     "status": "completed"
    },
    "tags": []
   },
   "outputs": [],
   "source": [
    "# 효과의 크기, 즉 군간변동을 계산한다.\n",
    "# 날씨에 의한 영향\n",
    "effect = [7, 7, 3, 3, 11, 11]"
   ]
  },
  {
   "cell_type": "code",
   "execution_count": 13,
   "id": "99f0eea8",
   "metadata": {
    "execution": {
     "iopub.execute_input": "2022-09-15T15:00:07.146038Z",
     "iopub.status.busy": "2022-09-15T15:00:07.145348Z",
     "iopub.status.idle": "2022-09-15T15:00:07.152993Z",
     "shell.execute_reply": "2022-09-15T15:00:07.151750Z"
    },
    "papermill": {
     "duration": 0.023136,
     "end_time": "2022-09-15T15:00:07.155543",
     "exception": false,
     "start_time": "2022-09-15T15:00:07.132407",
     "status": "completed"
    },
    "tags": []
   },
   "outputs": [
    {
     "data": {
      "text/plain": [
       "64.0"
      ]
     },
     "execution_count": 13,
     "metadata": {},
     "output_type": "execute_result"
    }
   ],
   "source": [
    "# effect 의 흩어진 정도를 구함으로 군간변동을 구할 수 있다.\n",
    "# 군간 제곱합\n",
    "mu_effect = np.mean(effect)\n",
    "squares_model = np.sum((effect-mu_effect)**2)\n",
    "squares_model"
   ]
  },
  {
   "cell_type": "code",
   "execution_count": 14,
   "id": "6f19dfbe",
   "metadata": {
    "execution": {
     "iopub.execute_input": "2022-09-15T15:00:07.180252Z",
     "iopub.status.busy": "2022-09-15T15:00:07.179798Z",
     "iopub.status.idle": "2022-09-15T15:00:07.187633Z",
     "shell.execute_reply": "2022-09-15T15:00:07.186816Z"
    },
    "papermill": {
     "duration": 0.022715,
     "end_time": "2022-09-15T15:00:07.189753",
     "exception": false,
     "start_time": "2022-09-15T15:00:07.167038",
     "status": "completed"
    },
    "tags": []
   },
   "outputs": [
    {
     "data": {
      "text/plain": [
       "0   -1\n",
       "1    1\n",
       "2   -1\n",
       "3    1\n",
       "4   -1\n",
       "5    1\n",
       "Name: beer, dtype: int64"
      ]
     },
     "execution_count": 14,
     "metadata": {},
     "output_type": "execute_result"
    }
   ],
   "source": [
    "# 오차는 원래 데이터에서 효과를 빼는 것으로 계산할 수 있다.\n",
    "resid = weather_beer.beer-effect\n",
    "resid"
   ]
  },
  {
   "cell_type": "code",
   "execution_count": 15,
   "id": "48e91911",
   "metadata": {
    "execution": {
     "iopub.execute_input": "2022-09-15T15:00:07.215208Z",
     "iopub.status.busy": "2022-09-15T15:00:07.214457Z",
     "iopub.status.idle": "2022-09-15T15:00:07.221712Z",
     "shell.execute_reply": "2022-09-15T15:00:07.220668Z"
    },
    "papermill": {
     "duration": 0.022513,
     "end_time": "2022-09-15T15:00:07.223848",
     "exception": false,
     "start_time": "2022-09-15T15:00:07.201335",
     "status": "completed"
    },
    "tags": []
   },
   "outputs": [
    {
     "data": {
      "text/plain": [
       "6"
      ]
     },
     "execution_count": 15,
     "metadata": {},
     "output_type": "execute_result"
    }
   ],
   "source": [
    "# 군내 편차제곱합을 구한다. !!주의!! 오차의 평균값은 0\n",
    "squares_resid = np.sum(resid**2)\n",
    "squares_resid"
   ]
  },
  {
   "cell_type": "markdown",
   "id": "eddd544a",
   "metadata": {
    "papermill": {
     "duration": 0.011853,
     "end_time": "2022-09-15T15:00:07.247494",
     "exception": false,
     "start_time": "2022-09-15T15:00:07.235641",
     "status": "completed"
    },
    "tags": []
   },
   "source": [
    "### 5.2.11 분산분석(2): 군간 분산과 군내 분산 계산\n",
    "표본분산을 계산할때와 마찬가지로 분산분석에서도 군간, 군내 분산을 계산할 때의 분모는 자유도라 불리는 값으로 나누어야 한다.\\\n",
    "- **군간변동**의 자유도는 수준의 종류 수에 따라 좌우된다.\\\n",
    "날씨는 흐림,비,맑음의 3가지 수준이다. 2을 빼면 군간변동의 자유도는 2가 된다.\\\n",
    "- **군내변동**의 자유도는 샘플사이즈와 수준의 종류 수로 좌우된다.\\\n",
    "샘플 사이즈가 6, 수준이 3이므로 6-3=*3*이 군내변동의 *자유도*가 된다. \n"
   ]
  },
  {
   "cell_type": "code",
   "execution_count": 16,
   "id": "bfd91f00",
   "metadata": {
    "execution": {
     "iopub.execute_input": "2022-09-15T15:00:07.275035Z",
     "iopub.status.busy": "2022-09-15T15:00:07.274552Z",
     "iopub.status.idle": "2022-09-15T15:00:07.281593Z",
     "shell.execute_reply": "2022-09-15T15:00:07.280662Z"
    },
    "papermill": {
     "duration": 0.025825,
     "end_time": "2022-09-15T15:00:07.285329",
     "exception": false,
     "start_time": "2022-09-15T15:00:07.259504",
     "status": "completed"
    },
    "tags": []
   },
   "outputs": [],
   "source": [
    "# 군간변동의 자유도\n",
    "df_model = 2\n",
    "# 군내변동의 자유도\n",
    "df_resid = 3"
   ]
  },
  {
   "cell_type": "code",
   "execution_count": 17,
   "id": "c23a3be3",
   "metadata": {
    "execution": {
     "iopub.execute_input": "2022-09-15T15:00:07.324456Z",
     "iopub.status.busy": "2022-09-15T15:00:07.323519Z",
     "iopub.status.idle": "2022-09-15T15:00:07.335711Z",
     "shell.execute_reply": "2022-09-15T15:00:07.334350Z"
    },
    "papermill": {
     "duration": 0.036723,
     "end_time": "2022-09-15T15:00:07.338618",
     "exception": false,
     "start_time": "2022-09-15T15:00:07.301895",
     "status": "completed"
    },
    "tags": []
   },
   "outputs": [
    {
     "data": {
      "text/plain": [
       "32.0"
      ]
     },
     "execution_count": 17,
     "metadata": {},
     "output_type": "execute_result"
    }
   ],
   "source": [
    "# 군간 평균제곱(분산)\n",
    "variance_model = squares_model / df_model\n",
    "variance_model"
   ]
  },
  {
   "cell_type": "code",
   "execution_count": 18,
   "id": "43081a60",
   "metadata": {
    "execution": {
     "iopub.execute_input": "2022-09-15T15:00:07.367542Z",
     "iopub.status.busy": "2022-09-15T15:00:07.366581Z",
     "iopub.status.idle": "2022-09-15T15:00:07.374305Z",
     "shell.execute_reply": "2022-09-15T15:00:07.373100Z"
    },
    "papermill": {
     "duration": 0.025463,
     "end_time": "2022-09-15T15:00:07.376730",
     "exception": false,
     "start_time": "2022-09-15T15:00:07.351267",
     "status": "completed"
    },
    "tags": []
   },
   "outputs": [
    {
     "data": {
      "text/plain": [
       "2.0"
      ]
     },
     "execution_count": 18,
     "metadata": {},
     "output_type": "execute_result"
    }
   ],
   "source": [
    "# 군내 평균제곱(분산)\n",
    "variance_resid = squares_resid / df_resid\n",
    "variance_resid"
   ]
  },
  {
   "cell_type": "markdown",
   "id": "6987632b",
   "metadata": {
    "papermill": {
     "duration": 0.013914,
     "end_time": "2022-09-15T15:00:07.406576",
     "exception": false,
     "start_time": "2022-09-15T15:00:07.392662",
     "status": "completed"
    },
    "tags": []
   },
   "source": [
    "### 5.2.12 분산분석(3): $p-value$ 계산\n",
    "마지막으로 $F$비와 $p-value$를 계산한다.\\\n",
    "$F$비는 군간 분산과 군내 분산의 비로 계산할 수 있다."
   ]
  },
  {
   "cell_type": "code",
   "execution_count": 19,
   "id": "cf45008d",
   "metadata": {
    "execution": {
     "iopub.execute_input": "2022-09-15T15:00:07.432799Z",
     "iopub.status.busy": "2022-09-15T15:00:07.432371Z",
     "iopub.status.idle": "2022-09-15T15:00:07.439654Z",
     "shell.execute_reply": "2022-09-15T15:00:07.438516Z"
    },
    "papermill": {
     "duration": 0.023163,
     "end_time": "2022-09-15T15:00:07.442036",
     "exception": false,
     "start_time": "2022-09-15T15:00:07.418873",
     "status": "completed"
    },
    "tags": []
   },
   "outputs": [
    {
     "data": {
      "text/plain": [
       "16.0"
      ]
     },
     "execution_count": 19,
     "metadata": {},
     "output_type": "execute_result"
    }
   ],
   "source": [
    "f_ratio = variance_model / variance_resid\n",
    "f_ratio"
   ]
  },
  {
   "cell_type": "markdown",
   "id": "4f05ee56",
   "metadata": {
    "papermill": {
     "duration": 0.012285,
     "end_time": "2022-09-15T15:00:07.466793",
     "exception": false,
     "start_time": "2022-09-15T15:00:07.454508",
     "status": "completed"
    },
    "tags": []
   },
   "source": [
    "$p-value$는 $F$분포의 누적분포함수에서 계산할 수 있다.\\\n",
    "sp.stats.f.cdf 함수를 사용한다.\\\n",
    "파라미터로 $F$비와 2개의 자유도를 넘긴다."
   ]
  },
  {
   "cell_type": "code",
   "execution_count": 20,
   "id": "13dfbbd1",
   "metadata": {
    "execution": {
     "iopub.execute_input": "2022-09-15T15:00:07.493446Z",
     "iopub.status.busy": "2022-09-15T15:00:07.492927Z",
     "iopub.status.idle": "2022-09-15T15:00:07.500393Z",
     "shell.execute_reply": "2022-09-15T15:00:07.499579Z"
    },
    "papermill": {
     "duration": 0.023083,
     "end_time": "2022-09-15T15:00:07.502432",
     "exception": false,
     "start_time": "2022-09-15T15:00:07.479349",
     "status": "completed"
    },
    "tags": []
   },
   "outputs": [
    {
     "data": {
      "text/plain": [
       "0.02509457330439091"
      ]
     },
     "execution_count": 20,
     "metadata": {},
     "output_type": "execute_result"
    }
   ],
   "source": [
    "1 - sp.stats.f.cdf(x=f_ratio, dfn=2, dfd=3)"
   ]
  },
  {
   "cell_type": "markdown",
   "id": "c811efe6",
   "metadata": {
    "papermill": {
     "duration": 0.012415,
     "end_time": "2022-09-15T15:00:07.527331",
     "exception": false,
     "start_time": "2022-09-15T15:00:07.514916",
     "status": "completed"
    },
    "tags": []
   },
   "source": [
    "### 5.2.13 독립변수가 카테고리형인 일반선형모델\n",
    "날씨에서 매상을 예측하는 일반선형모델은\n",
    "##### 맥주 매상~$\\mathcal{N}(\\beta_{0}+\\beta_{1}\\times비+\\beta_{2}\\times맑음,\\sigma^{2})$\n",
    "비도 아니고 맑음도 아닌 경우 절편만 남으므로 그게 흐림의 계수라고 해석할 수 있다."
   ]
  },
  {
   "cell_type": "markdown",
   "id": "0cbef79d",
   "metadata": {
    "papermill": {
     "duration": 0.012121,
     "end_time": "2022-09-15T15:00:07.551928",
     "exception": false,
     "start_time": "2022-09-15T15:00:07.539807",
     "status": "completed"
    },
    "tags": []
   },
   "source": [
    "### 5.2.14 더미변수\n",
    "카테고리형 변수를 넣을 때 사용하는 것 (비일때 1 그 외는 0인 변수)"
   ]
  },
  {
   "cell_type": "markdown",
   "id": "45df2f4f",
   "metadata": {
    "papermill": {
     "duration": 0.012154,
     "end_time": "2022-09-15T15:00:07.576596",
     "exception": false,
     "start_time": "2022-09-15T15:00:07.564442",
     "status": "completed"
    },
    "tags": []
   },
   "source": [
    "### 5.2.15 statsmodels를 이용한 분산분석"
   ]
  },
  {
   "cell_type": "code",
   "execution_count": 21,
   "id": "a2278139",
   "metadata": {
    "execution": {
     "iopub.execute_input": "2022-09-15T15:00:07.604219Z",
     "iopub.status.busy": "2022-09-15T15:00:07.602813Z",
     "iopub.status.idle": "2022-09-15T15:00:07.628399Z",
     "shell.execute_reply": "2022-09-15T15:00:07.627227Z"
    },
    "papermill": {
     "duration": 0.041784,
     "end_time": "2022-09-15T15:00:07.630876",
     "exception": false,
     "start_time": "2022-09-15T15:00:07.589092",
     "status": "completed"
    },
    "tags": []
   },
   "outputs": [
    {
     "data": {
      "text/html": [
       "<div>\n",
       "<style scoped>\n",
       "    .dataframe tbody tr th:only-of-type {\n",
       "        vertical-align: middle;\n",
       "    }\n",
       "\n",
       "    .dataframe tbody tr th {\n",
       "        vertical-align: top;\n",
       "    }\n",
       "\n",
       "    .dataframe thead th {\n",
       "        text-align: right;\n",
       "    }\n",
       "</style>\n",
       "<table border=\"1\" class=\"dataframe\">\n",
       "  <thead>\n",
       "    <tr style=\"text-align: right;\">\n",
       "      <th></th>\n",
       "      <th>sum_sq</th>\n",
       "      <th>df</th>\n",
       "      <th>F</th>\n",
       "      <th>PR(&gt;F)</th>\n",
       "    </tr>\n",
       "  </thead>\n",
       "  <tbody>\n",
       "    <tr>\n",
       "      <th>weather</th>\n",
       "      <td>64.0</td>\n",
       "      <td>2.0</td>\n",
       "      <td>16.0</td>\n",
       "      <td>0.025095</td>\n",
       "    </tr>\n",
       "    <tr>\n",
       "      <th>Residual</th>\n",
       "      <td>6.0</td>\n",
       "      <td>3.0</td>\n",
       "      <td>NaN</td>\n",
       "      <td>NaN</td>\n",
       "    </tr>\n",
       "  </tbody>\n",
       "</table>\n",
       "</div>"
      ],
      "text/plain": [
       "          sum_sq   df     F    PR(>F)\n",
       "weather     64.0  2.0  16.0  0.025095\n",
       "Residual     6.0  3.0   NaN       NaN"
      ]
     },
     "execution_count": 21,
     "metadata": {},
     "output_type": "execute_result"
    }
   ],
   "source": [
    "anova_model = smf.ols('beer~weather', data=weather_beer).fit()\n",
    "sm.stats.anova_lm(anova_model, typ=2)"
   ]
  },
  {
   "cell_type": "markdown",
   "id": "1b9f3a03",
   "metadata": {
    "papermill": {
     "duration": 0.01268,
     "end_time": "2022-09-15T15:00:07.656416",
     "exception": false,
     "start_time": "2022-09-15T15:00:07.643736",
     "status": "completed"
    },
    "tags": []
   },
   "source": [
    "### 5.3.16 분산분석표\n",
    "sm.stats.anova_lm 함수의 결과로 출력된 표의 형식을 분산분석표라 한다.\\\n",
    "군간과 군내 제곱합 sum_sq, 자유도, $F$비, $p-value$ 가 정리되어있다."
   ]
  },
  {
   "cell_type": "markdown",
   "id": "60ed8580",
   "metadata": {
    "papermill": {
     "duration": 0.01233,
     "end_time": "2022-09-15T15:00:07.681510",
     "exception": false,
     "start_time": "2022-09-15T15:00:07.669180",
     "status": "completed"
    },
    "tags": []
   },
   "source": [
    "### 5.3.17 모델의 계수 해석"
   ]
  },
  {
   "cell_type": "code",
   "execution_count": 22,
   "id": "80829a89",
   "metadata": {
    "execution": {
     "iopub.execute_input": "2022-09-15T15:00:07.709042Z",
     "iopub.status.busy": "2022-09-15T15:00:07.708640Z",
     "iopub.status.idle": "2022-09-15T15:00:07.717357Z",
     "shell.execute_reply": "2022-09-15T15:00:07.716125Z"
    },
    "papermill": {
     "duration": 0.024999,
     "end_time": "2022-09-15T15:00:07.719694",
     "exception": false,
     "start_time": "2022-09-15T15:00:07.694695",
     "status": "completed"
    },
    "tags": []
   },
   "outputs": [
    {
     "data": {
      "text/plain": [
       "Intercept           7.0\n",
       "weather[T.rainy]   -4.0\n",
       "weather[T.sunny]    4.0\n",
       "dtype: float64"
      ]
     },
     "execution_count": 22,
     "metadata": {},
     "output_type": "execute_result"
    }
   ],
   "source": [
    "# 추정된 모델의 계수 표시\n",
    "anova_model.params"
   ]
  },
  {
   "cell_type": "markdown",
   "id": "cb2e6c6c",
   "metadata": {
    "papermill": {
     "duration": 0.012613,
     "end_time": "2022-09-15T15:00:07.745660",
     "exception": false,
     "start_time": "2022-09-15T15:00:07.733047",
     "status": "completed"
    },
    "tags": []
   },
   "source": [
    "##### 맥주 매상~$\\mathcal{N}(\\beta_{0}+\\beta_{1}\\times비+\\beta_{2}\\times맑음,\\sigma^{2})$\n",
    "Intercept $\\rightarrow \\beta_{0}$\\\n",
    "- 흐린날 평균은 7\n",
    "- 비오는 날에는 7 - 4 + 0 = 3\n",
    "- 맑은 날에는 7 + 0 + 4 = 11 의 기댓값이 나온다."
   ]
  },
  {
   "cell_type": "markdown",
   "id": "e4789620",
   "metadata": {
    "papermill": {
     "duration": 0.012547,
     "end_time": "2022-09-15T15:00:07.771212",
     "exception": false,
     "start_time": "2022-09-15T15:00:07.758665",
     "status": "completed"
    },
    "tags": []
   },
   "source": [
    "### 5.2.18 모델을 사용해서 오차와 효과 분리하기"
   ]
  },
  {
   "cell_type": "code",
   "execution_count": 23,
   "id": "806a5233",
   "metadata": {
    "execution": {
     "iopub.execute_input": "2022-09-15T15:00:07.799499Z",
     "iopub.status.busy": "2022-09-15T15:00:07.798731Z",
     "iopub.status.idle": "2022-09-15T15:00:07.807652Z",
     "shell.execute_reply": "2022-09-15T15:00:07.806602Z"
    },
    "papermill": {
     "duration": 0.025303,
     "end_time": "2022-09-15T15:00:07.809856",
     "exception": false,
     "start_time": "2022-09-15T15:00:07.784553",
     "status": "completed"
    },
    "tags": []
   },
   "outputs": [
    {
     "data": {
      "text/plain": [
       "0     7.0\n",
       "1     7.0\n",
       "2     3.0\n",
       "3     3.0\n",
       "4    11.0\n",
       "5    11.0\n",
       "dtype: float64"
      ]
     },
     "execution_count": 23,
     "metadata": {},
     "output_type": "execute_result"
    }
   ],
   "source": [
    "# 추정된 모델의 계수를 이용한 훈련 데이터의 결과\n",
    "fitted = anova_model.fittedvalues\n",
    "fitted"
   ]
  },
  {
   "cell_type": "code",
   "execution_count": 24,
   "id": "3b055c73",
   "metadata": {
    "execution": {
     "iopub.execute_input": "2022-09-15T15:00:07.838180Z",
     "iopub.status.busy": "2022-09-15T15:00:07.837002Z",
     "iopub.status.idle": "2022-09-15T15:00:07.846374Z",
     "shell.execute_reply": "2022-09-15T15:00:07.845318Z"
    },
    "papermill": {
     "duration": 0.025956,
     "end_time": "2022-09-15T15:00:07.848746",
     "exception": false,
     "start_time": "2022-09-15T15:00:07.822790",
     "status": "completed"
    },
    "tags": []
   },
   "outputs": [
    {
     "data": {
      "text/plain": [
       "0   -1.0\n",
       "1    1.0\n",
       "2   -1.0\n",
       "3    1.0\n",
       "4   -1.0\n",
       "5    1.0\n",
       "dtype: float64"
      ]
     },
     "execution_count": 24,
     "metadata": {},
     "output_type": "execute_result"
    }
   ],
   "source": [
    "# 적용된 결괏값과 실제 데이터의 차이가 잔차이다.\n",
    "anova_model.resid"
   ]
  },
  {
   "cell_type": "markdown",
   "id": "42effa38",
   "metadata": {
    "papermill": {
     "duration": 0.012598,
     "end_time": "2022-09-15T15:00:07.874344",
     "exception": false,
     "start_time": "2022-09-15T15:00:07.861746",
     "status": "completed"
    },
    "tags": []
   },
   "source": [
    "통계모델을 적용한 값과 잔차를 이용함으로써 분산분석이라는 검정을 수행할 수 있다는 것을 알 수 있다."
   ]
  },
  {
   "cell_type": "markdown",
   "id": "c6666225",
   "metadata": {
    "papermill": {
     "duration": 0.012646,
     "end_time": "2022-09-15T15:00:07.900780",
     "exception": false,
     "start_time": "2022-09-15T15:00:07.888134",
     "status": "completed"
    },
    "tags": []
   },
   "source": [
    "### 5.2.19 회귀모델의 분산분석\n",
    "- 분산분석이라는 검정방법은 일반선형모델에서 일반적으로 사용 가능하다.\\\n",
    "- 독립변수가 연속형 데이터여도 변함이 없다."
   ]
  },
  {
   "cell_type": "code",
   "execution_count": 25,
   "id": "1f8bd4f1",
   "metadata": {
    "execution": {
     "iopub.execute_input": "2022-09-15T15:00:07.929813Z",
     "iopub.status.busy": "2022-09-15T15:00:07.929423Z",
     "iopub.status.idle": "2022-09-15T15:00:07.943610Z",
     "shell.execute_reply": "2022-09-15T15:00:07.942501Z"
    },
    "papermill": {
     "duration": 0.031051,
     "end_time": "2022-09-15T15:00:07.945939",
     "exception": false,
     "start_time": "2022-09-15T15:00:07.914888",
     "status": "completed"
    },
    "tags": []
   },
   "outputs": [],
   "source": [
    "# EX6)의 데이터를 사용한다.\n",
    "beer = pd.DataFrame({'beer' :[45.3, 59.3, 40.4, 38.0, 37.0, 40.9, 60.2, 63.3,\n",
    "                              51.1, 44.9, 47.0, 53.2, 43.5, 53.2, 37.4, 59.9,\n",
    "                              41.5, 75.1, 55.6, 57.2, 46.5, 35.8, 51.9, 38.2,\n",
    "                              66.0, 55.3, 55.3, 43.3, 70.5, 38.8],\n",
    "                     'temperature' : [20.5, 25.0, 10.0, 26.9, 15.8, 4.2, 13.5, 26.0,\n",
    "                                      23.3, 8.5, 26.2, 19.1, 24.3, 23.3, 8.4, 23.5,\n",
    "                                      13.9, 35.5, 27.2, 20.5, 10.2, 20.5, 21.6, 7.9,\n",
    "                                      42.2, 23.9, 36.9, 8.9, 36.4, 6.4]})\n",
    "lm_model = smf.ols(formula='beer~temperature', data=beer).fit()"
   ]
  },
  {
   "cell_type": "markdown",
   "id": "ad6f73e6",
   "metadata": {
    "papermill": {
     "duration": 0.012669,
     "end_time": "2022-09-15T15:00:07.971915",
     "exception": false,
     "start_time": "2022-09-15T15:00:07.959246",
     "status": "completed"
    },
    "tags": []
   },
   "source": [
    "- 독립변수가 카테고리형 변수라해도 모델의 적용값과 잔차를 사용해서 $F$비를 계산 할수 있다.\n",
    "- 독립변수가 연속형인경우\n",
    " - 군간변동의 자유도 $\\rightarrow$ 모델의 자유도\n",
    " - 군내변동의 자유도 $\\rightarrow$ 잔차의 자유도\n",
    "- **모델의 자유도**는 추정된 파라미터 수에서 1을 뺀것\n",
    "- **단순회귀모델의 계수**는 절편과 기울기 2개 뿐이므로 **자유도**는 1이 된다.\n",
    "- **잔차의 자유도**는 샘플사이즈에서 추정된 파라미터 수를 뺀 것이다."
   ]
  },
  {
   "cell_type": "code",
   "execution_count": 26,
   "id": "25ca06a6",
   "metadata": {
    "execution": {
     "iopub.execute_input": "2022-09-15T15:00:07.999944Z",
     "iopub.status.busy": "2022-09-15T15:00:07.999341Z",
     "iopub.status.idle": "2022-09-15T15:00:08.003757Z",
     "shell.execute_reply": "2022-09-15T15:00:08.002581Z"
    },
    "papermill": {
     "duration": 0.021618,
     "end_time": "2022-09-15T15:00:08.006579",
     "exception": false,
     "start_time": "2022-09-15T15:00:07.984961",
     "status": "completed"
    },
    "tags": []
   },
   "outputs": [],
   "source": [
    "# 모델의 자유도\n",
    "df_lm_model = 1\n",
    "# 잔차의 자유도\n",
    "df_lm_resid = 28"
   ]
  },
  {
   "cell_type": "markdown",
   "id": "42af9426",
   "metadata": {
    "papermill": {
     "duration": 0.012662,
     "end_time": "2022-09-15T15:00:08.032670",
     "exception": false,
     "start_time": "2022-09-15T15:00:08.020008",
     "status": "completed"
    },
    "tags": []
   },
   "source": [
    "$F$ 비 계산"
   ]
  },
  {
   "cell_type": "code",
   "execution_count": 27,
   "id": "f36a3a54",
   "metadata": {
    "execution": {
     "iopub.execute_input": "2022-09-15T15:00:08.061066Z",
     "iopub.status.busy": "2022-09-15T15:00:08.060408Z",
     "iopub.status.idle": "2022-09-15T15:00:08.070197Z",
     "shell.execute_reply": "2022-09-15T15:00:08.069337Z"
    },
    "papermill": {
     "duration": 0.026636,
     "end_time": "2022-09-15T15:00:08.072562",
     "exception": false,
     "start_time": "2022-09-15T15:00:08.045926",
     "status": "completed"
    },
    "tags": []
   },
   "outputs": [
    {
     "data": {
      "text/plain": [
       "28.446983688504634"
      ]
     },
     "execution_count": 27,
     "metadata": {},
     "output_type": "execute_result"
    }
   ],
   "source": [
    "# 모델을 적용한 값\n",
    "lm_effect = lm_model.fittedvalues\n",
    "# 잔차\n",
    "lm_resid = lm_model.resid\n",
    "# 기온의 효과의 크기\n",
    "mu = np.mean(lm_effect)\n",
    "squares_lm_model = np.sum((lm_effect-mu)**2)\n",
    "variance_lm_model = squares_lm_model / df_lm_model\n",
    "# 잔차의 크기\n",
    "squares_lm_resid = np.sum((lm_resid)**2)\n",
    "variance_lm_resid = squares_lm_resid / df_lm_resid\n",
    "# F비\n",
    "f_values_lm = variance_lm_model / variance_lm_resid\n",
    "f_values_lm"
   ]
  },
  {
   "cell_type": "code",
   "execution_count": 28,
   "id": "e06dc68a",
   "metadata": {
    "execution": {
     "iopub.execute_input": "2022-09-15T15:00:08.102384Z",
     "iopub.status.busy": "2022-09-15T15:00:08.101631Z",
     "iopub.status.idle": "2022-09-15T15:00:08.118330Z",
     "shell.execute_reply": "2022-09-15T15:00:08.116974Z"
    },
    "papermill": {
     "duration": 0.035206,
     "end_time": "2022-09-15T15:00:08.121042",
     "exception": false,
     "start_time": "2022-09-15T15:00:08.085836",
     "status": "completed"
    },
    "tags": []
   },
   "outputs": [
    {
     "data": {
      "text/html": [
       "<div>\n",
       "<style scoped>\n",
       "    .dataframe tbody tr th:only-of-type {\n",
       "        vertical-align: middle;\n",
       "    }\n",
       "\n",
       "    .dataframe tbody tr th {\n",
       "        vertical-align: top;\n",
       "    }\n",
       "\n",
       "    .dataframe thead th {\n",
       "        text-align: right;\n",
       "    }\n",
       "</style>\n",
       "<table border=\"1\" class=\"dataframe\">\n",
       "  <thead>\n",
       "    <tr style=\"text-align: right;\">\n",
       "      <th></th>\n",
       "      <th>sum_sq</th>\n",
       "      <th>df</th>\n",
       "      <th>F</th>\n",
       "      <th>PR(&gt;F)</th>\n",
       "    </tr>\n",
       "  </thead>\n",
       "  <tbody>\n",
       "    <tr>\n",
       "      <th>temperature</th>\n",
       "      <td>1651.532489</td>\n",
       "      <td>1.0</td>\n",
       "      <td>28.446984</td>\n",
       "      <td>0.000011</td>\n",
       "    </tr>\n",
       "    <tr>\n",
       "      <th>Residual</th>\n",
       "      <td>1625.582178</td>\n",
       "      <td>28.0</td>\n",
       "      <td>NaN</td>\n",
       "      <td>NaN</td>\n",
       "    </tr>\n",
       "  </tbody>\n",
       "</table>\n",
       "</div>"
      ],
      "text/plain": [
       "                  sum_sq    df          F    PR(>F)\n",
       "temperature  1651.532489   1.0  28.446984  0.000011\n",
       "Residual     1625.582178  28.0        NaN       NaN"
      ]
     },
     "execution_count": 28,
     "metadata": {},
     "output_type": "execute_result"
    }
   ],
   "source": [
    "sm.stats.anova_lm(lm_model, typ=2)"
   ]
  },
  {
   "cell_type": "code",
   "execution_count": 29,
   "id": "1184bef9",
   "metadata": {
    "execution": {
     "iopub.execute_input": "2022-09-15T15:00:08.150556Z",
     "iopub.status.busy": "2022-09-15T15:00:08.149488Z",
     "iopub.status.idle": "2022-09-15T15:00:08.166998Z",
     "shell.execute_reply": "2022-09-15T15:00:08.165813Z"
    },
    "papermill": {
     "duration": 0.034802,
     "end_time": "2022-09-15T15:00:08.169439",
     "exception": false,
     "start_time": "2022-09-15T15:00:08.134637",
     "status": "completed"
    },
    "tags": []
   },
   "outputs": [
    {
     "data": {
      "text/html": [
       "<table class=\"simpletable\">\n",
       "<caption>OLS Regression Results</caption>\n",
       "<tr>\n",
       "  <th>Dep. Variable:</th>          <td>beer</td>       <th>  R-squared:         </th> <td>   0.504</td>\n",
       "</tr>\n",
       "<tr>\n",
       "  <th>Model:</th>                   <td>OLS</td>       <th>  Adj. R-squared:    </th> <td>   0.486</td>\n",
       "</tr>\n",
       "<tr>\n",
       "  <th>Method:</th>             <td>Least Squares</td>  <th>  F-statistic:       </th> <td>   28.45</td>\n",
       "</tr>\n",
       "<tr>\n",
       "  <th>Date:</th>             <td>Thu, 15 Sep 2022</td> <th>  Prob (F-statistic):</th> <td>1.11e-05</td>\n",
       "</tr>\n",
       "<tr>\n",
       "  <th>Time:</th>                 <td>15:00:08</td>     <th>  Log-Likelihood:    </th> <td> -102.45</td>\n",
       "</tr>\n",
       "<tr>\n",
       "  <th>No. Observations:</th>      <td>    30</td>      <th>  AIC:               </th> <td>   208.9</td>\n",
       "</tr>\n",
       "<tr>\n",
       "  <th>Df Residuals:</th>          <td>    28</td>      <th>  BIC:               </th> <td>   211.7</td>\n",
       "</tr>\n",
       "<tr>\n",
       "  <th>Df Model:</th>              <td>     1</td>      <th>                     </th>     <td> </td>   \n",
       "</tr>\n",
       "<tr>\n",
       "  <th>Covariance Type:</th>      <td>nonrobust</td>    <th>                     </th>     <td> </td>   \n",
       "</tr>\n",
       "</table>\n",
       "<table class=\"simpletable\">\n",
       "<tr>\n",
       "       <td></td>          <th>coef</th>     <th>std err</th>      <th>t</th>      <th>P>|t|</th>  <th>[0.025</th>    <th>0.975]</th>  \n",
       "</tr>\n",
       "<tr>\n",
       "  <th>Intercept</th>   <td>   34.6102</td> <td>    3.235</td> <td>   10.699</td> <td> 0.000</td> <td>   27.984</td> <td>   41.237</td>\n",
       "</tr>\n",
       "<tr>\n",
       "  <th>temperature</th> <td>    0.7654</td> <td>    0.144</td> <td>    5.334</td> <td> 0.000</td> <td>    0.471</td> <td>    1.059</td>\n",
       "</tr>\n",
       "</table>\n",
       "<table class=\"simpletable\">\n",
       "<tr>\n",
       "  <th>Omnibus:</th>       <td> 0.587</td> <th>  Durbin-Watson:     </th> <td>   1.960</td>\n",
       "</tr>\n",
       "<tr>\n",
       "  <th>Prob(Omnibus):</th> <td> 0.746</td> <th>  Jarque-Bera (JB):  </th> <td>   0.290</td>\n",
       "</tr>\n",
       "<tr>\n",
       "  <th>Skew:</th>          <td>-0.240</td> <th>  Prob(JB):          </th> <td>   0.865</td>\n",
       "</tr>\n",
       "<tr>\n",
       "  <th>Kurtosis:</th>      <td> 2.951</td> <th>  Cond. No.          </th> <td>    52.5</td>\n",
       "</tr>\n",
       "</table><br/><br/>Notes:<br/>[1] Standard Errors assume that the covariance matrix of the errors is correctly specified."
      ],
      "text/plain": [
       "<class 'statsmodels.iolib.summary.Summary'>\n",
       "\"\"\"\n",
       "                            OLS Regression Results                            \n",
       "==============================================================================\n",
       "Dep. Variable:                   beer   R-squared:                       0.504\n",
       "Model:                            OLS   Adj. R-squared:                  0.486\n",
       "Method:                 Least Squares   F-statistic:                     28.45\n",
       "Date:                Thu, 15 Sep 2022   Prob (F-statistic):           1.11e-05\n",
       "Time:                        15:00:08   Log-Likelihood:                -102.45\n",
       "No. Observations:                  30   AIC:                             208.9\n",
       "Df Residuals:                      28   BIC:                             211.7\n",
       "Df Model:                           1                                         \n",
       "Covariance Type:            nonrobust                                         \n",
       "===============================================================================\n",
       "                  coef    std err          t      P>|t|      [0.025      0.975]\n",
       "-------------------------------------------------------------------------------\n",
       "Intercept      34.6102      3.235     10.699      0.000      27.984      41.237\n",
       "temperature     0.7654      0.144      5.334      0.000       0.471       1.059\n",
       "==============================================================================\n",
       "Omnibus:                        0.587   Durbin-Watson:                   1.960\n",
       "Prob(Omnibus):                  0.746   Jarque-Bera (JB):                0.290\n",
       "Skew:                          -0.240   Prob(JB):                        0.865\n",
       "Kurtosis:                       2.951   Cond. No.                         52.5\n",
       "==============================================================================\n",
       "\n",
       "Notes:\n",
       "[1] Standard Errors assume that the covariance matrix of the errors is correctly specified.\n",
       "\"\"\""
      ]
     },
     "execution_count": 29,
     "metadata": {},
     "output_type": "execute_result"
    }
   ],
   "source": [
    "lm_model.summary()"
   ]
  },
  {
   "cell_type": "code",
   "execution_count": null,
   "id": "a89540e2",
   "metadata": {
    "papermill": {
     "duration": 0.013426,
     "end_time": "2022-09-15T15:00:08.196774",
     "exception": false,
     "start_time": "2022-09-15T15:00:08.183348",
     "status": "completed"
    },
    "tags": []
   },
   "outputs": [],
   "source": []
  }
 ],
 "metadata": {
  "kernelspec": {
   "display_name": "Python 3",
   "language": "python",
   "name": "python3"
  },
  "language_info": {
   "codemirror_mode": {
    "name": "ipython",
    "version": 3
   },
   "file_extension": ".py",
   "mimetype": "text/x-python",
   "name": "python",
   "nbconvert_exporter": "python",
   "pygments_lexer": "ipython3",
   "version": "3.7.12"
  },
  "papermill": {
   "default_parameters": {},
   "duration": 14.076975,
   "end_time": "2022-09-15T15:00:09.033507",
   "environment_variables": {},
   "exception": null,
   "input_path": "__notebook__.ipynb",
   "output_path": "__notebook__.ipynb",
   "parameters": {},
   "start_time": "2022-09-15T14:59:54.956532",
   "version": "2.3.4"
  }
 },
 "nbformat": 4,
 "nbformat_minor": 5
}
