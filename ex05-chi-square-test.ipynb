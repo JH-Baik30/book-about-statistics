{
 "cells": [
  {
   "cell_type": "code",
   "execution_count": 1,
   "id": "4448420e",
   "metadata": {
    "_cell_guid": "b1076dfc-b9ad-4769-8c92-a6c4dae69d19",
    "_uuid": "8f2839f25d086af736a60e9eeb907d3b93b6e0e5",
    "execution": {
     "iopub.execute_input": "2022-09-06T15:18:14.748029Z",
     "iopub.status.busy": "2022-09-06T15:18:14.747607Z",
     "iopub.status.idle": "2022-09-06T15:18:15.437066Z",
     "shell.execute_reply": "2022-09-06T15:18:15.436084Z"
    },
    "papermill": {
     "duration": 0.696913,
     "end_time": "2022-09-06T15:18:15.439752",
     "exception": false,
     "start_time": "2022-09-06T15:18:14.742839",
     "status": "completed"
    },
    "tags": []
   },
   "outputs": [],
   "source": [
    "import numpy as np\n",
    "import pandas as pd\n",
    "import scipy as sp\n",
    "from scipy import stats"
   ]
  },
  {
   "cell_type": "code",
   "execution_count": 2,
   "id": "86ecab74",
   "metadata": {
    "execution": {
     "iopub.execute_input": "2022-09-06T15:18:15.446133Z",
     "iopub.status.busy": "2022-09-06T15:18:15.445804Z",
     "iopub.status.idle": "2022-09-06T15:18:15.617744Z",
     "shell.execute_reply": "2022-09-06T15:18:15.616743Z"
    },
    "papermill": {
     "duration": 0.177143,
     "end_time": "2022-09-06T15:18:15.619736",
     "exception": false,
     "start_time": "2022-09-06T15:18:15.442593",
     "status": "completed"
    },
    "tags": []
   },
   "outputs": [
    {
     "data": {
      "text/html": [
       "<div>\n",
       "<style scoped>\n",
       "    .dataframe tbody tr th:only-of-type {\n",
       "        vertical-align: middle;\n",
       "    }\n",
       "\n",
       "    .dataframe tbody tr th {\n",
       "        vertical-align: top;\n",
       "    }\n",
       "\n",
       "    .dataframe thead th {\n",
       "        text-align: right;\n",
       "    }\n",
       "</style>\n",
       "<table border=\"1\" class=\"dataframe\">\n",
       "  <thead>\n",
       "    <tr style=\"text-align: right;\">\n",
       "      <th>click</th>\n",
       "      <th>click</th>\n",
       "      <th>not</th>\n",
       "      <th>sum</th>\n",
       "    </tr>\n",
       "    <tr>\n",
       "      <th>color</th>\n",
       "      <th></th>\n",
       "      <th></th>\n",
       "      <th></th>\n",
       "    </tr>\n",
       "  </thead>\n",
       "  <tbody>\n",
       "    <tr>\n",
       "      <th>blue</th>\n",
       "      <td>20</td>\n",
       "      <td>230</td>\n",
       "      <td>250</td>\n",
       "    </tr>\n",
       "    <tr>\n",
       "      <th>red</th>\n",
       "      <td>10</td>\n",
       "      <td>40</td>\n",
       "      <td>50</td>\n",
       "    </tr>\n",
       "    <tr>\n",
       "      <th>sum</th>\n",
       "      <td>30</td>\n",
       "      <td>270</td>\n",
       "      <td>300</td>\n",
       "    </tr>\n",
       "  </tbody>\n",
       "</table>\n",
       "</div>"
      ],
      "text/plain": [
       "click  click  not  sum\n",
       "color                 \n",
       "blue      20  230  250\n",
       "red       10   40   50\n",
       "sum       30  270  300"
      ]
     },
     "execution_count": 2,
     "metadata": {},
     "output_type": "execute_result"
    }
   ],
   "source": [
    "click_data = pd.DataFrame({'color': ['blue', 'blue', 'red', 'red'],\n",
    "                           'click':['click', 'not', 'click', 'not'],\n",
    "                           'freq': [20, 230, 10, 40]})\n",
    "# 분할표 만들기\n",
    "cross_sum = click_data.pivot_table(index='color', columns='click', values='freq',\n",
    "                               aggfunc=np.sum, margins=True, margins_name='sum')\n",
    "cross_sum"
   ]
  },
  {
   "cell_type": "markdown",
   "id": "7a867e8b",
   "metadata": {
    "papermill": {
     "duration": 0.002324,
     "end_time": "2022-09-06T15:18:15.624770",
     "exception": false,
     "start_time": "2022-09-06T15:18:15.622446",
     "status": "completed"
    },
    "tags": []
   },
   "source": [
    "## 3.10 분할표 검정\n",
    "- 기대 도수 구하기\\\n",
    "해당 행, 해당 열의 곱 / 전체의 합\\\n",
    "ex) click, blue => 250 * 30 / 300\\\n",
    "ex)    no, blue => 250 * 270 / 300\n",
    "- 기대 도수 테이블\n",
    "|click|click|not|\n",
    "|:--:|:--:|:--:|\n",
    "|blue|25|225|\n",
    "|red|5|45|\n",
    "\n",
    "- 기대 도수와의 차이 구하기\n",
    "##### $\\chi^{2} = \\displaystyle\\sum_{i=1}^{2}\\sum_{j=1}^{2}\\frac{(O_{ij}-E_{ij})^{2}}{E_{ij}}$\n",
    "### $ \\chi^{2}=\\frac{(20-25)^{2}}{25}+\\frac{(230-225)^{2}}{225}+\\frac{(10-5)^{2}}{5}+\\frac{(40-45)^{2}}{45} =1+\\frac{1}{9}+5+\\frac{5}{9} = 6.667$"
   ]
  },
  {
   "cell_type": "markdown",
   "id": "65f1f04a",
   "metadata": {
    "papermill": {
     "duration": 0.002214,
     "end_time": "2022-09-06T15:18:15.629422",
     "exception": false,
     "start_time": "2022-09-06T15:18:15.627208",
     "status": "completed"
    },
    "tags": []
   },
   "source": [
    "### 3.10.5 p value 계산\n",
    "자유도가 $1$ 인 $\\chi^{2}$ 분포의 누적밀도함수를 사용해서 $p-value$ 계산하기"
   ]
  },
  {
   "cell_type": "code",
   "execution_count": 3,
   "id": "42347478",
   "metadata": {
    "execution": {
     "iopub.execute_input": "2022-09-06T15:18:15.635397Z",
     "iopub.status.busy": "2022-09-06T15:18:15.635087Z",
     "iopub.status.idle": "2022-09-06T15:18:15.641753Z",
     "shell.execute_reply": "2022-09-06T15:18:15.640954Z"
    },
    "papermill": {
     "duration": 0.011702,
     "end_time": "2022-09-06T15:18:15.643556",
     "exception": false,
     "start_time": "2022-09-06T15:18:15.631854",
     "status": "completed"
    },
    "tags": []
   },
   "outputs": [
    {
     "data": {
      "text/plain": [
       "0.009821437357809604"
      ]
     },
     "execution_count": 3,
     "metadata": {},
     "output_type": "execute_result"
    }
   ],
   "source": [
    "1 - sp.stats.chi2.cdf(x=6.667, df=1)"
   ]
  },
  {
   "cell_type": "code",
   "execution_count": 4,
   "id": "395230cb",
   "metadata": {
    "execution": {
     "iopub.execute_input": "2022-09-06T15:18:15.649866Z",
     "iopub.status.busy": "2022-09-06T15:18:15.649270Z",
     "iopub.status.idle": "2022-09-06T15:18:15.668000Z",
     "shell.execute_reply": "2022-09-06T15:18:15.667231Z"
    },
    "papermill": {
     "duration": 0.023724,
     "end_time": "2022-09-06T15:18:15.669789",
     "exception": false,
     "start_time": "2022-09-06T15:18:15.646065",
     "status": "completed"
    },
    "tags": []
   },
   "outputs": [
    {
     "data": {
      "text/html": [
       "<div>\n",
       "<style scoped>\n",
       "    .dataframe tbody tr th:only-of-type {\n",
       "        vertical-align: middle;\n",
       "    }\n",
       "\n",
       "    .dataframe tbody tr th {\n",
       "        vertical-align: top;\n",
       "    }\n",
       "\n",
       "    .dataframe thead th {\n",
       "        text-align: right;\n",
       "    }\n",
       "</style>\n",
       "<table border=\"1\" class=\"dataframe\">\n",
       "  <thead>\n",
       "    <tr style=\"text-align: right;\">\n",
       "      <th>click</th>\n",
       "      <th>click</th>\n",
       "      <th>not</th>\n",
       "    </tr>\n",
       "    <tr>\n",
       "      <th>color</th>\n",
       "      <th></th>\n",
       "      <th></th>\n",
       "    </tr>\n",
       "  </thead>\n",
       "  <tbody>\n",
       "    <tr>\n",
       "      <th>blue</th>\n",
       "      <td>20</td>\n",
       "      <td>230</td>\n",
       "    </tr>\n",
       "    <tr>\n",
       "      <th>red</th>\n",
       "      <td>10</td>\n",
       "      <td>40</td>\n",
       "    </tr>\n",
       "  </tbody>\n",
       "</table>\n",
       "</div>"
      ],
      "text/plain": [
       "click  click  not\n",
       "color            \n",
       "blue      20  230\n",
       "red       10   40"
      ]
     },
     "execution_count": 4,
     "metadata": {},
     "output_type": "execute_result"
    }
   ],
   "source": [
    "cross = click_data.pivot_table(index='color', columns='click', values='freq')\n",
    "cross"
   ]
  },
  {
   "cell_type": "markdown",
   "id": "a8f07f30",
   "metadata": {
    "papermill": {
     "duration": 0.002642,
     "end_time": "2022-09-06T15:18:15.675254",
     "exception": false,
     "start_time": "2022-09-06T15:18:15.672612",
     "status": "completed"
    },
    "tags": []
   },
   "source": [
    "**sp.stats.chi2_contingency()** 함수를 사용, 파라미터로 보정 여부를 지정하지 않게 **correction=False**"
   ]
  },
  {
   "cell_type": "code",
   "execution_count": 5,
   "id": "21d561c5",
   "metadata": {
    "execution": {
     "iopub.execute_input": "2022-09-06T15:18:15.681848Z",
     "iopub.status.busy": "2022-09-06T15:18:15.681540Z",
     "iopub.status.idle": "2022-09-06T15:18:15.689216Z",
     "shell.execute_reply": "2022-09-06T15:18:15.688115Z"
    },
    "papermill": {
     "duration": 0.013301,
     "end_time": "2022-09-06T15:18:15.691180",
     "exception": false,
     "start_time": "2022-09-06T15:18:15.677879",
     "status": "completed"
    },
    "tags": []
   },
   "outputs": [
    {
     "data": {
      "text/plain": [
       "(6.666666666666666,\n",
       " 0.009823274507519247,\n",
       " 1,\n",
       " array([[ 25., 225.],\n",
       "        [  5.,  45.]]))"
      ]
     },
     "execution_count": 5,
     "metadata": {},
     "output_type": "execute_result"
    }
   ],
   "source": [
    "sp.stats.chi2_contingency(cross, correction=False)"
   ]
  },
  {
   "cell_type": "markdown",
   "id": "947381c5",
   "metadata": {
    "papermill": {
     "duration": 0.002539,
     "end_time": "2022-09-06T15:18:15.696535",
     "exception": false,
     "start_time": "2022-09-06T15:18:15.693996",
     "status": "completed"
    },
    "tags": []
   },
   "source": [
    "$\\chi^{2}$ 통계량, $p-value$, dof(자유도), expected_freq(기대도수) 순으로 출력된다."
   ]
  }
 ],
 "metadata": {
  "kernelspec": {
   "display_name": "Python 3",
   "language": "python",
   "name": "python3"
  },
  "language_info": {
   "codemirror_mode": {
    "name": "ipython",
    "version": 3
   },
   "file_extension": ".py",
   "mimetype": "text/x-python",
   "name": "python",
   "nbconvert_exporter": "python",
   "pygments_lexer": "ipython3",
   "version": "3.7.12"
  },
  "papermill": {
   "default_parameters": {},
   "duration": 8.862848,
   "end_time": "2022-09-06T15:18:16.318373",
   "environment_variables": {},
   "exception": null,
   "input_path": "__notebook__.ipynb",
   "output_path": "__notebook__.ipynb",
   "parameters": {},
   "start_time": "2022-09-06T15:18:07.455525",
   "version": "2.3.4"
  }
 },
 "nbformat": 4,
 "nbformat_minor": 5
}
