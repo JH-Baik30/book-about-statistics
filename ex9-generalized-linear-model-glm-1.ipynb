{
 "cells": [
  {
   "cell_type": "markdown",
   "id": "b79efb43",
   "metadata": {
    "papermill": {
     "duration": 0.005081,
     "end_time": "2022-09-16T12:06:50.585218",
     "exception": false,
     "start_time": "2022-09-16T12:06:50.580137",
     "status": "completed"
    },
    "tags": []
   },
   "source": [
    "## 6.1 여러가지 확률 분포"
   ]
  },
  {
   "cell_type": "code",
   "execution_count": 1,
   "id": "3b5ab87e",
   "metadata": {
    "_cell_guid": "b1076dfc-b9ad-4769-8c92-a6c4dae69d19",
    "_uuid": "8f2839f25d086af736a60e9eeb907d3b93b6e0e5",
    "execution": {
     "iopub.execute_input": "2022-09-16T12:06:50.595398Z",
     "iopub.status.busy": "2022-09-16T12:06:50.594939Z",
     "iopub.status.idle": "2022-09-16T12:06:51.771510Z",
     "shell.execute_reply": "2022-09-16T12:06:51.769253Z"
    },
    "papermill": {
     "duration": 1.185627,
     "end_time": "2022-09-16T12:06:51.774984",
     "exception": false,
     "start_time": "2022-09-16T12:06:50.589357",
     "status": "completed"
    },
    "tags": []
   },
   "outputs": [],
   "source": [
    "import numpy as np\n",
    "import pandas as pd\n",
    "import scipy as sp\n",
    "from scipy import stats\n",
    "import matplotlib.pyplot as plt\n",
    "import seaborn as sns\n",
    "sns.set()"
   ]
  },
  {
   "cell_type": "markdown",
   "id": "39fd3ce3",
   "metadata": {
    "papermill": {
     "duration": 0.005479,
     "end_time": "2022-09-16T12:06:51.786489",
     "exception": false,
     "start_time": "2022-09-16T12:06:51.781010",
     "status": "completed"
    },
    "tags": []
   },
   "source": [
    "### 6.1.6 이항분포 (Binomial distribution)\n",
    "**이항분포** 는 성공확률이 $p$ 면서 $N$ 회의 독립 베르누이 시행을 했을 때 성공한 횟수 $m$ 이 따르는 이상형 확률분포이다.\n",
    "- 이항분포의 모수(파라미터)는 성공확률 $p$ 와 시행횟수 $N$ 이다.\n",
    "- scipy.stats 에서 확률질량함수 **pmf** (Probability Mass Function) 파라미터는 성공횟수, 시행횟수, 성공확률"
   ]
  },
  {
   "cell_type": "code",
   "execution_count": 2,
   "id": "612c216a",
   "metadata": {
    "execution": {
     "iopub.execute_input": "2022-09-16T12:06:51.796320Z",
     "iopub.status.busy": "2022-09-16T12:06:51.795901Z",
     "iopub.status.idle": "2022-09-16T12:06:51.806302Z",
     "shell.execute_reply": "2022-09-16T12:06:51.805308Z"
    },
    "papermill": {
     "duration": 0.018562,
     "end_time": "2022-09-16T12:06:51.809204",
     "exception": false,
     "start_time": "2022-09-16T12:06:51.790642",
     "status": "completed"
    },
    "tags": []
   },
   "outputs": [
    {
     "data": {
      "text/plain": [
       "0.5000000000000002"
      ]
     },
     "execution_count": 2,
     "metadata": {},
     "output_type": "execute_result"
    }
   ],
   "source": [
    "# 앞이 나올 확률이 50%인 동전을 2번 던져서 그중 1번 앞면일 확률을 계산.\n",
    "stats.binom.pmf(k=1, n=2, p=0.5)"
   ]
  },
  {
   "cell_type": "code",
   "execution_count": 3,
   "id": "6fb6d154",
   "metadata": {
    "execution": {
     "iopub.execute_input": "2022-09-16T12:06:51.819995Z",
     "iopub.status.busy": "2022-09-16T12:06:51.819030Z",
     "iopub.status.idle": "2022-09-16T12:06:51.827276Z",
     "shell.execute_reply": "2022-09-16T12:06:51.826109Z"
    },
    "papermill": {
     "duration": 0.017333,
     "end_time": "2022-09-16T12:06:51.830844",
     "exception": false,
     "start_time": "2022-09-16T12:06:51.813511",
     "status": "completed"
    },
    "tags": []
   },
   "outputs": [
    {
     "data": {
      "text/plain": [
       "array([2, 3, 0, 1, 1])"
      ]
     },
     "execution_count": 3,
     "metadata": {},
     "output_type": "execute_result"
    }
   ],
   "source": [
    "# rvs 함수로 이항 분포를 따르는 난수 생성, 성공률 20%, 시행 10, 성공수를 세는 시행 5회\n",
    "np.random.seed(1)\n",
    "stats.binom.rvs(n=10, p=0.2, size=5)"
   ]
  },
  {
   "cell_type": "code",
   "execution_count": 4,
   "id": "a685c5a5",
   "metadata": {
    "execution": {
     "iopub.execute_input": "2022-09-16T12:06:51.843184Z",
     "iopub.status.busy": "2022-09-16T12:06:51.842378Z",
     "iopub.status.idle": "2022-09-16T12:06:52.247257Z",
     "shell.execute_reply": "2022-09-16T12:06:52.246031Z"
    },
    "papermill": {
     "duration": 0.413681,
     "end_time": "2022-09-16T12:06:52.250343",
     "exception": false,
     "start_time": "2022-09-16T12:06:51.836662",
     "status": "completed"
    },
    "tags": []
   },
   "outputs": [
    {
     "data": {
      "image/png": "[encoded data removed]",
      "text/plain": [
       "<Figure size 576x288 with 1 Axes>"
      ]
     },
     "metadata": {},
     "output_type": "display_data"
    }
   ],
   "source": [
    "# N=10, p=0.2 인 이항분포\n",
    "binomial = stats.binom(n=10, p=0.2)\n",
    "# 난수 생성\n",
    "np.random.seed(1)\n",
    "rvs_binomial = binomial.rvs(size=10000)\n",
    "# 확률밀도함수\n",
    "m = np.arange(0, 10, 1)\n",
    "pmf_binomial = binomial.pmf(k=m)\n",
    "# 난수의 히스토그램과 확률질량함수를 겹쳐서 그리기\n",
    "sns.displot(rvs_binomial, bins=m, stat='density', height=4, aspect=2)\n",
    "plt.plot(m, pmf_binomial);"
   ]
  },
  {
   "cell_type": "markdown",
   "id": "dae3e2b6",
   "metadata": {
    "papermill": {
     "duration": 0.012147,
     "end_time": "2022-09-16T12:06:52.269856",
     "exception": false,
     "start_time": "2022-09-16T12:06:52.257709",
     "status": "completed"
    },
    "tags": []
   },
   "source": [
    "정규분포와는 달리 좌우비대칭 히스토그램이다."
   ]
  },
  {
   "cell_type": "markdown",
   "id": "123441d7",
   "metadata": {
    "papermill": {
     "duration": 0.007023,
     "end_time": "2022-09-16T12:06:52.282246",
     "exception": false,
     "start_time": "2022-09-16T12:06:52.275223",
     "status": "completed"
    },
    "tags": []
   },
   "source": [
    "### 6.1.7 푸아송 분포\n",
    "- **푸아송 분포** 는 1개 또는 2개, 1회 또는 2회 등의 **카운트 데이터** 가 따라는 이상형 확률분포이다.\n",
    "- 카운트 데이터의 특징 $\\rightarrow $ 0 이상의 정수\n",
    "- 푸아송 분포의 모수는 강도(일이 일어날 횟수에 대한 기댓값, 발생 강도) $\\lambda$ 밖에 없다.\n",
    "- 푸아송 분포를 따르는 확률변수는 기댓값과 분산도 $\\lambda$ 값고 같다.\n",
    "\n",
    "### 6.1.8 푸아송 분포의 사용\n",
    "- 예\n",
    " - 낚시대를 바꾸면 잡는 물고기 수가 달라지는지\n",
    " - 주변 환경에 따라 조사 구획내의 생물의 개체수가 변하는지\n",
    " - 날씨에 따라 상품 판매 개수가 얼마나 달라지는지...\n",
    " \n",
    "### 6.1.9 푸아송 분포의 확률질량함수\n",
    "$x$ 는 카운트 데이터 등의 이산형 확률변수이고, $\\lambda$ 는 푸아송 분포의 강도이다.\\\n",
    "### Pois$(x|\\lambda) = \\frac{e^{-\\lambda}\\lambda^{x}}{x!}$\n",
    "\n",
    "### 6.1.10 이항분포와 푸아송 분포의 관계\n",
    "- 푸아송 분포는 $p \\rightarrow 0, N \\rightarrow \\infty$ 라는 조건에서 이항분포가 $Np = \\lambda$ 인 결과라고 볼 수 있다.\n",
    "- 풀어쓰면 '*성공확률이 한없이 0에 가깝지만 시행횟수가 무한히 많은 이항분포*' 이다.\n",
    "- 일어나기 어려운 사건($p \\rightarrow 0$) 이지만 샘플이 굉장히 많을때($N\\rightarrow\\infty$) 의 발생건수가 푸아송분포를 따르는 것이 된다."
   ]
  },
  {
   "cell_type": "markdown",
   "id": "78f77744",
   "metadata": {
    "papermill": {
     "duration": 0.004463,
     "end_time": "2022-09-16T12:06:52.291763",
     "exception": false,
     "start_time": "2022-09-16T12:06:52.287300",
     "status": "completed"
    },
    "tags": []
   },
   "source": [
    "### 6.1.11 푸아송 분포\n",
    "stats.poisson.pmf 로 푸아송 분포의 확률질량함수를 얻을 수 있다."
   ]
  },
  {
   "cell_type": "code",
   "execution_count": 5,
   "id": "f3b8734e",
   "metadata": {
    "execution": {
     "iopub.execute_input": "2022-09-16T12:06:52.302984Z",
     "iopub.status.busy": "2022-09-16T12:06:52.302544Z",
     "iopub.status.idle": "2022-09-16T12:06:52.310317Z",
     "shell.execute_reply": "2022-09-16T12:06:52.309118Z"
    },
    "papermill": {
     "duration": 0.01631,
     "end_time": "2022-09-16T12:06:52.312815",
     "exception": false,
     "start_time": "2022-09-16T12:06:52.296505",
     "status": "completed"
    },
    "tags": []
   },
   "outputs": [
    {
     "data": {
      "text/plain": [
       "0.08422433748856832"
      ]
     },
     "execution_count": 5,
     "metadata": {},
     "output_type": "execute_result"
    }
   ],
   "source": [
    "# 강도가 5인 푸아송 분포에서 어떤값(k) 2를 얻을 확률\n",
    "stats.poisson.pmf(k=2, mu=5)"
   ]
  },
  {
   "cell_type": "code",
   "execution_count": 6,
   "id": "ed713db7",
   "metadata": {
    "execution": {
     "iopub.execute_input": "2022-09-16T12:06:52.326138Z",
     "iopub.status.busy": "2022-09-16T12:06:52.325263Z",
     "iopub.status.idle": "2022-09-16T12:06:52.333481Z",
     "shell.execute_reply": "2022-09-16T12:06:52.332387Z"
    },
    "papermill": {
     "duration": 0.017948,
     "end_time": "2022-09-16T12:06:52.335860",
     "exception": false,
     "start_time": "2022-09-16T12:06:52.317912",
     "status": "completed"
    },
    "tags": []
   },
   "outputs": [
    {
     "data": {
      "text/plain": [
       "array([2, 1, 0, 1, 2])"
      ]
     },
     "execution_count": 6,
     "metadata": {},
     "output_type": "execute_result"
    }
   ],
   "source": [
    "# 푸아송 분포를 따르는 난수 생성\n",
    "np.random.seed(1)\n",
    "stats.poisson.rvs(mu=2, size=5)"
   ]
  },
  {
   "cell_type": "code",
   "execution_count": 7,
   "id": "ecd674d6",
   "metadata": {
    "execution": {
     "iopub.execute_input": "2022-09-16T12:06:52.347943Z",
     "iopub.status.busy": "2022-09-16T12:06:52.347536Z",
     "iopub.status.idle": "2022-09-16T12:06:52.744099Z",
     "shell.execute_reply": "2022-09-16T12:06:52.742745Z"
    },
    "papermill": {
     "duration": 0.405887,
     "end_time": "2022-09-16T12:06:52.746833",
     "exception": false,
     "start_time": "2022-09-16T12:06:52.340946",
     "status": "completed"
    },
    "tags": []
   },
   "outputs": [
    {
     "data": {
      "image/png": "[encoded data removed]",
      "text/plain": [
       "<Figure size 288x288 with 1 Axes>"
      ]
     },
     "metadata": {},
     "output_type": "display_data"
    }
   ],
   "source": [
    "# 람다(기대값) = 2인 푸아송 분포\n",
    "poisson = stats.poisson(mu=2)\n",
    "# 난수\n",
    "np.random.seed(1)\n",
    "rvs_poisson = poisson.rvs(size=10000)\n",
    "# 확률질량함수\n",
    "pmf_poisson = poisson.pmf(k=m)\n",
    "# 난수의 히스토그램과 확률질량함수\n",
    "sns.displot(rvs_poisson, bins=m, stat='density', height=4)\n",
    "plt.plot(m, pmf_poisson);"
   ]
  },
  {
   "cell_type": "markdown",
   "id": "e030aa9a",
   "metadata": {
    "papermill": {
     "duration": 0.005209,
     "end_time": "2022-09-16T12:06:52.757771",
     "exception": false,
     "start_time": "2022-09-16T12:06:52.752562",
     "status": "completed"
    },
    "tags": []
   },
   "source": []
  },
  {
   "cell_type": "markdown",
   "id": "3c01fdc5",
   "metadata": {
    "papermill": {
     "duration": 0.005161,
     "end_time": "2022-09-16T12:06:52.768431",
     "exception": false,
     "start_time": "2022-09-16T12:06:52.763270",
     "status": "completed"
    },
    "tags": []
   },
   "source": [
    "푸아송 분포와 이항분포의 관계 확인.\\\n",
    "시행횟수를 100000000회, 성공확률을 0.00000002로 한 이항분포의 확률질량함수를 강도 2인 푸아송 분포의 확률질량함수와 비교."
   ]
  },
  {
   "cell_type": "code",
   "execution_count": 8,
   "id": "e94e2ada",
   "metadata": {
    "execution": {
     "iopub.execute_input": "2022-09-16T12:06:52.783023Z",
     "iopub.status.busy": "2022-09-16T12:06:52.781731Z",
     "iopub.status.idle": "2022-09-16T12:06:53.046514Z",
     "shell.execute_reply": "2022-09-16T12:06:53.045293Z"
    },
    "papermill": {
     "duration": 0.274324,
     "end_time": "2022-09-16T12:06:53.049288",
     "exception": false,
     "start_time": "2022-09-16T12:06:52.774964",
     "status": "completed"
    },
    "tags": []
   },
   "outputs": [
    {
     "data": {
      "image/png": "[encoded data removed]",
      "text/plain": [
       "<Figure size 432x288 with 1 Axes>"
      ]
     },
     "metadata": {},
     "output_type": "display_data"
    }
   ],
   "source": [
    "# N 이 크고 p 가 작은 이항분포\n",
    "N = 100000000\n",
    "p = 0.00000002\n",
    "binomial_2 = stats.binom(n=N, p=p)\n",
    "# 확률질량함수\n",
    "pmf_binomial_2 = binomial.pmf(k=m)\n",
    "# 확률질량함수 그래프\n",
    "plt.plot(m, pmf_poisson)\n",
    "plt.plot(m, pmf_binomial_2);"
   ]
  },
  {
   "cell_type": "markdown",
   "id": "00f6ffc0",
   "metadata": {
    "papermill": {
     "duration": 0.005702,
     "end_time": "2022-09-16T12:06:53.061112",
     "exception": false,
     "start_time": "2022-09-16T12:06:53.055410",
     "status": "completed"
    },
    "tags": []
   },
   "source": [
    "결과는 거의 비슷하다는 것"
   ]
  },
  {
   "cell_type": "markdown",
   "id": "97bd2b95",
   "metadata": {
    "papermill": {
     "duration": 0.005677,
     "end_time": "2022-09-16T12:06:53.072822",
     "exception": false,
     "start_time": "2022-09-16T12:06:53.067145",
     "status": "completed"
    },
    "tags": []
   },
   "source": [
    "### 6.1.12 그 외의 확률분포\n",
    "- **음이항분포**\n",
    " - 푸아송분포처럼 카운트 데이터가 따르는 확률분포\n",
    " - 푸아송분포보다 분산이 크다.\n",
    " - 샘플의 분산이 푸아송 분포로는 상정 할 수 없이 큰경우, 이문제를 **과분산** 이라하며, 이때 음이항분포를 사용하면 잘 모델링되기도 한다.\n",
    "\n",
    "- **감마분포**\n",
    " - 0 이상의 값을 취하는 연속형 확률변수가 따르는 확률분포.\n",
    " - 정규분포와 달리 0 이상의 값만 취하며, 분산값도 평균값에 따라 변한다. (*등분산이 아님*)"
   ]
  },
  {
   "cell_type": "code",
   "execution_count": null,
   "id": "96eff0f7",
   "metadata": {
    "papermill": {
     "duration": 0.005754,
     "end_time": "2022-09-16T12:06:53.084719",
     "exception": false,
     "start_time": "2022-09-16T12:06:53.078965",
     "status": "completed"
    },
    "tags": []
   },
   "outputs": [],
   "source": []
  }
 ],
 "metadata": {
  "kernelspec": {
   "display_name": "Python 3",
   "language": "python",
   "name": "python3"
  },
  "language_info": {
   "codemirror_mode": {
    "name": "ipython",
    "version": 3
   },
   "file_extension": ".py",
   "mimetype": "text/x-python",
   "name": "python",
   "nbconvert_exporter": "python",
   "pygments_lexer": "ipython3",
   "version": "3.7.12"
  },
  "papermill": {
   "default_parameters": {},
   "duration": 12.630433,
   "end_time": "2022-09-16T12:06:53.813453",
   "environment_variables": {},
   "exception": null,
   "input_path": "__notebook__.ipynb",
   "output_path": "__notebook__.ipynb",
   "parameters": {},
   "start_time": "2022-09-16T12:06:41.183020",
   "version": "2.3.4"
  }
 },
 "nbformat": 4,
 "nbformat_minor": 5
}
