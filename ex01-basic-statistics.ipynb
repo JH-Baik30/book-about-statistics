{
 "cells": [
  {
   "cell_type": "markdown",
   "id": "3955abe5",
   "metadata": {
    "papermill": {
     "duration": 0.009726,
     "end_time": "2022-09-02T05:16:06.625923",
     "exception": false,
     "start_time": "2022-09-02T05:16:06.616197",
     "status": "completed"
    },
    "tags": []
   },
   "source": [
    "### 1. mean\n",
    "$\\mu = \\frac{1}{N} \\displaystyle\\sum_{i=1}^{N} x{_i}$"
   ]
  },
  {
   "cell_type": "code",
   "execution_count": 1,
   "id": "f225d273",
   "metadata": {
    "execution": {
     "iopub.execute_input": "2022-09-02T05:16:06.643653Z",
     "iopub.status.busy": "2022-09-02T05:16:06.643014Z",
     "iopub.status.idle": "2022-09-02T05:16:06.675922Z",
     "shell.execute_reply": "2022-09-02T05:16:06.675086Z"
    },
    "papermill": {
     "duration": 0.044717,
     "end_time": "2022-09-02T05:16:06.678474",
     "exception": false,
     "start_time": "2022-09-02T05:16:06.633757",
     "status": "completed"
    },
    "tags": []
   },
   "outputs": [],
   "source": [
    "import numpy as np\n",
    "import scipy as sp\n",
    "import pandas as pd"
   ]
  },
  {
   "cell_type": "code",
   "execution_count": 2,
   "id": "631b8399",
   "metadata": {
    "execution": {
     "iopub.execute_input": "2022-09-02T05:16:06.695702Z",
     "iopub.status.busy": "2022-09-02T05:16:06.695282Z",
     "iopub.status.idle": "2022-09-02T05:16:06.703943Z",
     "shell.execute_reply": "2022-09-02T05:16:06.703102Z"
    },
    "papermill": {
     "duration": 0.020502,
     "end_time": "2022-09-02T05:16:06.706775",
     "exception": false,
     "start_time": "2022-09-02T05:16:06.686273",
     "status": "completed"
    },
    "tags": []
   },
   "outputs": [
    {
     "data": {
      "text/plain": [
       "4.0"
      ]
     },
     "execution_count": 2,
     "metadata": {},
     "output_type": "execute_result"
    }
   ],
   "source": [
    "data = np.array([2, 3, 3, 4, 4, 4, 4, 5, 5, 6])\n",
    "np.mean(data)"
   ]
  },
  {
   "cell_type": "markdown",
   "id": "7c63dfd3",
   "metadata": {
    "execution": {
     "iopub.execute_input": "2022-09-02T03:37:45.426878Z",
     "iopub.status.busy": "2022-09-02T03:37:45.426067Z",
     "iopub.status.idle": "2022-09-02T03:37:45.435109Z",
     "shell.execute_reply": "2022-09-02T03:37:45.434258Z",
     "shell.execute_reply.started": "2022-09-02T03:37:45.426835Z"
    },
    "papermill": {
     "duration": 0.007481,
     "end_time": "2022-09-02T05:16:06.722074",
     "exception": false,
     "start_time": "2022-09-02T05:16:06.714593",
     "status": "completed"
    },
    "tags": []
   },
   "source": [
    "### sample variance\n",
    "$ \\sigma^{2} = \\frac{1}{N-1} \\displaystyle\\sum_{i=1}^{N} (x{_i} - \\mu)^{2}$"
   ]
  },
  {
   "cell_type": "code",
   "execution_count": 3,
   "id": "cff09eba",
   "metadata": {
    "execution": {
     "iopub.execute_input": "2022-09-02T05:16:06.739571Z",
     "iopub.status.busy": "2022-09-02T05:16:06.738898Z",
     "iopub.status.idle": "2022-09-02T05:16:06.747364Z",
     "shell.execute_reply": "2022-09-02T05:16:06.746187Z"
    },
    "papermill": {
     "duration": 0.019849,
     "end_time": "2022-09-02T05:16:06.749630",
     "exception": false,
     "start_time": "2022-09-02T05:16:06.729781",
     "status": "completed"
    },
    "tags": []
   },
   "outputs": [
    {
     "data": {
      "text/plain": [
       "1.3333333333333333"
      ]
     },
     "execution_count": 3,
     "metadata": {},
     "output_type": "execute_result"
    }
   ],
   "source": [
    "np.var(data, ddof=1)"
   ]
  },
  {
   "cell_type": "markdown",
   "id": "4c279cda",
   "metadata": {
    "papermill": {
     "duration": 0.007537,
     "end_time": "2022-09-02T05:16:06.764974",
     "exception": false,
     "start_time": "2022-09-02T05:16:06.757437",
     "status": "completed"
    },
    "tags": []
   },
   "source": [
    "### standard diviation\n",
    "$ \\sigma = \\sqrt{{\\sigma}^{2}} = \\sqrt{\\frac{1}{N-1} \\displaystyle\\sum_{i=1}^{N} (x{_i} - \\mu)^{2}} $"
   ]
  },
  {
   "cell_type": "code",
   "execution_count": 4,
   "id": "aff772aa",
   "metadata": {
    "execution": {
     "iopub.execute_input": "2022-09-02T05:16:06.783044Z",
     "iopub.status.busy": "2022-09-02T05:16:06.782621Z",
     "iopub.status.idle": "2022-09-02T05:16:06.789604Z",
     "shell.execute_reply": "2022-09-02T05:16:06.788413Z"
    },
    "papermill": {
     "duration": 0.019048,
     "end_time": "2022-09-02T05:16:06.791836",
     "exception": false,
     "start_time": "2022-09-02T05:16:06.772788",
     "status": "completed"
    },
    "tags": []
   },
   "outputs": [
    {
     "data": {
      "text/plain": [
       "1.1547005383792515"
      ]
     },
     "execution_count": 4,
     "metadata": {},
     "output_type": "execute_result"
    }
   ],
   "source": [
    "np.std(data, ddof=1)"
   ]
  },
  {
   "cell_type": "markdown",
   "id": "d82de986",
   "metadata": {
    "papermill": {
     "duration": 0.007724,
     "end_time": "2022-09-02T05:16:06.808423",
     "exception": false,
     "start_time": "2022-09-02T05:16:06.800699",
     "status": "completed"
    },
    "tags": []
   },
   "source": [
    "### Standardization\n",
    "mean 0, std(variance) 1"
   ]
  },
  {
   "cell_type": "code",
   "execution_count": 5,
   "id": "452bc8fb",
   "metadata": {
    "execution": {
     "iopub.execute_input": "2022-09-02T05:16:06.826212Z",
     "iopub.status.busy": "2022-09-02T05:16:06.825710Z",
     "iopub.status.idle": "2022-09-02T05:16:06.834073Z",
     "shell.execute_reply": "2022-09-02T05:16:06.833266Z"
    },
    "papermill": {
     "duration": 0.019857,
     "end_time": "2022-09-02T05:16:06.836173",
     "exception": false,
     "start_time": "2022-09-02T05:16:06.816316",
     "status": "completed"
    },
    "tags": []
   },
   "outputs": [
    {
     "data": {
      "text/plain": [
       "(array([-2., -1., -1.,  0.,  0.,  0.,  0.,  1.,  1.,  2.]), 0.0)"
      ]
     },
     "execution_count": 5,
     "metadata": {},
     "output_type": "execute_result"
    }
   ],
   "source": [
    "data - np.mean(data), np.mean(data - np.mean(data))"
   ]
  },
  {
   "cell_type": "code",
   "execution_count": 6,
   "id": "6afa0d4a",
   "metadata": {
    "execution": {
     "iopub.execute_input": "2022-09-02T05:16:06.855507Z",
     "iopub.status.busy": "2022-09-02T05:16:06.854325Z",
     "iopub.status.idle": "2022-09-02T05:16:06.861931Z",
     "shell.execute_reply": "2022-09-02T05:16:06.861089Z"
    },
    "papermill": {
     "duration": 0.019153,
     "end_time": "2022-09-02T05:16:06.863891",
     "exception": false,
     "start_time": "2022-09-02T05:16:06.844738",
     "status": "completed"
    },
    "tags": []
   },
   "outputs": [
    {
     "data": {
      "text/plain": [
       "(array([1.73205081, 2.59807621, 2.59807621, 3.46410162, 3.46410162,\n",
       "        3.46410162, 3.46410162, 4.33012702, 4.33012702, 5.19615242]),\n",
       " 1.0)"
      ]
     },
     "execution_count": 6,
     "metadata": {},
     "output_type": "execute_result"
    }
   ],
   "source": [
    "data / np.std(data, ddof=1), np.std(data / np.std(data, ddof=1), ddof=1)"
   ]
  },
  {
   "cell_type": "markdown",
   "id": "4c16a943",
   "metadata": {
    "papermill": {
     "duration": 0.007772,
     "end_time": "2022-09-02T05:16:06.879868",
     "exception": false,
     "start_time": "2022-09-02T05:16:06.872096",
     "status": "completed"
    },
    "tags": []
   },
   "source": [
    "### statistic etc"
   ]
  },
  {
   "cell_type": "code",
   "execution_count": 7,
   "id": "b1a42dc0",
   "metadata": {
    "execution": {
     "iopub.execute_input": "2022-09-02T05:16:06.898160Z",
     "iopub.status.busy": "2022-09-02T05:16:06.897695Z",
     "iopub.status.idle": "2022-09-02T05:16:06.905392Z",
     "shell.execute_reply": "2022-09-02T05:16:06.904082Z"
    },
    "papermill": {
     "duration": 0.019805,
     "end_time": "2022-09-02T05:16:06.907820",
     "exception": false,
     "start_time": "2022-09-02T05:16:06.888015",
     "status": "completed"
    },
    "tags": []
   },
   "outputs": [
    {
     "data": {
      "text/plain": [
       "(6, 2)"
      ]
     },
     "execution_count": 7,
     "metadata": {},
     "output_type": "execute_result"
    }
   ],
   "source": [
    "np.amax(data), np.amin(data)"
   ]
  },
  {
   "cell_type": "code",
   "execution_count": 8,
   "id": "e74ff0a9",
   "metadata": {
    "execution": {
     "iopub.execute_input": "2022-09-02T05:16:06.926150Z",
     "iopub.status.busy": "2022-09-02T05:16:06.925689Z",
     "iopub.status.idle": "2022-09-02T05:16:06.933171Z",
     "shell.execute_reply": "2022-09-02T05:16:06.932350Z"
    },
    "papermill": {
     "duration": 0.019062,
     "end_time": "2022-09-02T05:16:06.935287",
     "exception": false,
     "start_time": "2022-09-02T05:16:06.916225",
     "status": "completed"
    },
    "tags": []
   },
   "outputs": [
    {
     "data": {
      "text/plain": [
       "4.0"
      ]
     },
     "execution_count": 8,
     "metadata": {},
     "output_type": "execute_result"
    }
   ],
   "source": [
    "np.median(data)"
   ]
  },
  {
   "cell_type": "markdown",
   "id": "c4f2cf09",
   "metadata": {
    "papermill": {
     "duration": 0.00792,
     "end_time": "2022-09-02T05:16:06.951636",
     "exception": false,
     "start_time": "2022-09-02T05:16:06.943716",
     "status": "completed"
    },
    "tags": []
   },
   "source": [
    "### quantile"
   ]
  },
  {
   "cell_type": "code",
   "execution_count": 9,
   "id": "01dd439d",
   "metadata": {
    "execution": {
     "iopub.execute_input": "2022-09-02T05:16:06.970485Z",
     "iopub.status.busy": "2022-09-02T05:16:06.970011Z",
     "iopub.status.idle": "2022-09-02T05:16:07.792605Z",
     "shell.execute_reply": "2022-09-02T05:16:07.791608Z"
    },
    "papermill": {
     "duration": 0.835387,
     "end_time": "2022-09-02T05:16:07.795277",
     "exception": false,
     "start_time": "2022-09-02T05:16:06.959890",
     "status": "completed"
    },
    "tags": []
   },
   "outputs": [],
   "source": [
    "from scipy import stats"
   ]
  },
  {
   "cell_type": "code",
   "execution_count": 10,
   "id": "0edeebf4",
   "metadata": {
    "execution": {
     "iopub.execute_input": "2022-09-02T05:16:07.814254Z",
     "iopub.status.busy": "2022-09-02T05:16:07.813639Z",
     "iopub.status.idle": "2022-09-02T05:16:07.819973Z",
     "shell.execute_reply": "2022-09-02T05:16:07.819177Z"
    },
    "papermill": {
     "duration": 0.018315,
     "end_time": "2022-09-02T05:16:07.822110",
     "exception": false,
     "start_time": "2022-09-02T05:16:07.803795",
     "status": "completed"
    },
    "tags": []
   },
   "outputs": [
    {
     "data": {
      "text/plain": [
       "3.0"
      ]
     },
     "execution_count": 10,
     "metadata": {},
     "output_type": "execute_result"
    }
   ],
   "source": [
    "data = np.array([1, 2, 3, 4, 5, 6, 7, 8, 9])\n",
    "stats.scoreatpercentile(data, 25)"
   ]
  },
  {
   "cell_type": "code",
   "execution_count": 11,
   "id": "e19cb789",
   "metadata": {
    "execution": {
     "iopub.execute_input": "2022-09-02T05:16:07.841208Z",
     "iopub.status.busy": "2022-09-02T05:16:07.840751Z",
     "iopub.status.idle": "2022-09-02T05:16:07.848165Z",
     "shell.execute_reply": "2022-09-02T05:16:07.847024Z"
    },
    "papermill": {
     "duration": 0.019763,
     "end_time": "2022-09-02T05:16:07.850499",
     "exception": false,
     "start_time": "2022-09-02T05:16:07.830736",
     "status": "completed"
    },
    "tags": []
   },
   "outputs": [
    {
     "data": {
      "text/plain": [
       "7.0"
      ]
     },
     "execution_count": 11,
     "metadata": {},
     "output_type": "execute_result"
    }
   ],
   "source": [
    "stats.scoreatpercentile(data, 75)"
   ]
  },
  {
   "cell_type": "markdown",
   "id": "9fc90b79",
   "metadata": {
    "papermill": {
     "duration": 0.008225,
     "end_time": "2022-09-02T05:16:07.867547",
     "exception": false,
     "start_time": "2022-09-02T05:16:07.859322",
     "status": "completed"
    },
    "tags": []
   },
   "source": [
    "### multivariate data"
   ]
  },
  {
   "cell_type": "code",
   "execution_count": 12,
   "id": "0105472c",
   "metadata": {
    "execution": {
     "iopub.execute_input": "2022-09-02T05:16:07.886377Z",
     "iopub.status.busy": "2022-09-02T05:16:07.885924Z",
     "iopub.status.idle": "2022-09-02T05:16:07.908274Z",
     "shell.execute_reply": "2022-09-02T05:16:07.907123Z"
    },
    "papermill": {
     "duration": 0.034806,
     "end_time": "2022-09-02T05:16:07.910868",
     "exception": false,
     "start_time": "2022-09-02T05:16:07.876062",
     "status": "completed"
    },
    "tags": []
   },
   "outputs": [
    {
     "data": {
      "text/html": [
       "<div>\n",
       "<style scoped>\n",
       "    .dataframe tbody tr th:only-of-type {\n",
       "        vertical-align: middle;\n",
       "    }\n",
       "\n",
       "    .dataframe tbody tr th {\n",
       "        vertical-align: top;\n",
       "    }\n",
       "\n",
       "    .dataframe thead th {\n",
       "        text-align: right;\n",
       "    }\n",
       "</style>\n",
       "<table border=\"1\" class=\"dataframe\">\n",
       "  <thead>\n",
       "    <tr style=\"text-align: right;\">\n",
       "      <th></th>\n",
       "      <th>species</th>\n",
       "      <th>length</th>\n",
       "    </tr>\n",
       "  </thead>\n",
       "  <tbody>\n",
       "    <tr>\n",
       "      <th>0</th>\n",
       "      <td>A</td>\n",
       "      <td>2</td>\n",
       "    </tr>\n",
       "    <tr>\n",
       "      <th>1</th>\n",
       "      <td>A</td>\n",
       "      <td>3</td>\n",
       "    </tr>\n",
       "    <tr>\n",
       "      <th>2</th>\n",
       "      <td>A</td>\n",
       "      <td>4</td>\n",
       "    </tr>\n",
       "    <tr>\n",
       "      <th>3</th>\n",
       "      <td>B</td>\n",
       "      <td>6</td>\n",
       "    </tr>\n",
       "    <tr>\n",
       "      <th>4</th>\n",
       "      <td>B</td>\n",
       "      <td>8</td>\n",
       "    </tr>\n",
       "    <tr>\n",
       "      <th>5</th>\n",
       "      <td>B</td>\n",
       "      <td>10</td>\n",
       "    </tr>\n",
       "  </tbody>\n",
       "</table>\n",
       "</div>"
      ],
      "text/plain": [
       "  species  length\n",
       "0       A       2\n",
       "1       A       3\n",
       "2       A       4\n",
       "3       B       6\n",
       "4       B       8\n",
       "5       B      10"
      ]
     },
     "execution_count": 12,
     "metadata": {},
     "output_type": "execute_result"
    }
   ],
   "source": [
    "df = pd.DataFrame({'species': ['A', 'A', 'A', 'B', 'B', 'B'],\n",
    "                   'length' : [2, 3, 4, 6, 8, 10]})\n",
    "df"
   ]
  },
  {
   "cell_type": "markdown",
   "id": "faf5ccdf",
   "metadata": {
    "papermill": {
     "duration": 0.008381,
     "end_time": "2022-09-02T05:16:07.928302",
     "exception": false,
     "start_time": "2022-09-02T05:16:07.919921",
     "status": "completed"
    },
    "tags": []
   },
   "source": [
    "### Statistics by group"
   ]
  },
  {
   "cell_type": "code",
   "execution_count": 13,
   "id": "06a1ced7",
   "metadata": {
    "execution": {
     "iopub.execute_input": "2022-09-02T05:16:07.947543Z",
     "iopub.status.busy": "2022-09-02T05:16:07.947095Z",
     "iopub.status.idle": "2022-09-02T05:16:07.970056Z",
     "shell.execute_reply": "2022-09-02T05:16:07.969123Z"
    },
    "papermill": {
     "duration": 0.035223,
     "end_time": "2022-09-02T05:16:07.972295",
     "exception": false,
     "start_time": "2022-09-02T05:16:07.937072",
     "status": "completed"
    },
    "tags": []
   },
   "outputs": [
    {
     "data": {
      "text/html": [
       "<div>\n",
       "<style scoped>\n",
       "    .dataframe tbody tr th:only-of-type {\n",
       "        vertical-align: middle;\n",
       "    }\n",
       "\n",
       "    .dataframe tbody tr th {\n",
       "        vertical-align: top;\n",
       "    }\n",
       "\n",
       "    .dataframe thead th {\n",
       "        text-align: right;\n",
       "    }\n",
       "</style>\n",
       "<table border=\"1\" class=\"dataframe\">\n",
       "  <thead>\n",
       "    <tr style=\"text-align: right;\">\n",
       "      <th></th>\n",
       "      <th>length</th>\n",
       "    </tr>\n",
       "    <tr>\n",
       "      <th>species</th>\n",
       "      <th></th>\n",
       "    </tr>\n",
       "  </thead>\n",
       "  <tbody>\n",
       "    <tr>\n",
       "      <th>A</th>\n",
       "      <td>3.0</td>\n",
       "    </tr>\n",
       "    <tr>\n",
       "      <th>B</th>\n",
       "      <td>8.0</td>\n",
       "    </tr>\n",
       "  </tbody>\n",
       "</table>\n",
       "</div>"
      ],
      "text/plain": [
       "         length\n",
       "species        \n",
       "A           3.0\n",
       "B           8.0"
      ]
     },
     "execution_count": 13,
     "metadata": {},
     "output_type": "execute_result"
    }
   ],
   "source": [
    "# mean by group\n",
    "df.groupby('species').mean()"
   ]
  },
  {
   "cell_type": "code",
   "execution_count": 14,
   "id": "38871671",
   "metadata": {
    "execution": {
     "iopub.execute_input": "2022-09-02T05:16:07.992623Z",
     "iopub.status.busy": "2022-09-02T05:16:07.991658Z",
     "iopub.status.idle": "2022-09-02T05:16:08.132435Z",
     "shell.execute_reply": "2022-09-02T05:16:08.131109Z"
    },
    "papermill": {
     "duration": 0.153516,
     "end_time": "2022-09-02T05:16:08.134999",
     "exception": false,
     "start_time": "2022-09-02T05:16:07.981483",
     "status": "completed"
    },
    "tags": []
   },
   "outputs": [
    {
     "data": {
      "text/html": [
       "<div>\n",
       "<style scoped>\n",
       "    .dataframe tbody tr th:only-of-type {\n",
       "        vertical-align: middle;\n",
       "    }\n",
       "\n",
       "    .dataframe tbody tr th {\n",
       "        vertical-align: top;\n",
       "    }\n",
       "\n",
       "    .dataframe thead th {\n",
       "        text-align: right;\n",
       "    }\n",
       "</style>\n",
       "<table border=\"1\" class=\"dataframe\">\n",
       "  <thead>\n",
       "    <tr style=\"text-align: right;\">\n",
       "      <th></th>\n",
       "      <th>length</th>\n",
       "    </tr>\n",
       "    <tr>\n",
       "      <th>species</th>\n",
       "      <th></th>\n",
       "    </tr>\n",
       "  </thead>\n",
       "  <tbody>\n",
       "    <tr>\n",
       "      <th>A</th>\n",
       "      <td>1.0</td>\n",
       "    </tr>\n",
       "    <tr>\n",
       "      <th>B</th>\n",
       "      <td>2.0</td>\n",
       "    </tr>\n",
       "  </tbody>\n",
       "</table>\n",
       "</div>"
      ],
      "text/plain": [
       "         length\n",
       "species        \n",
       "A           1.0\n",
       "B           2.0"
      ]
     },
     "execution_count": 14,
     "metadata": {},
     "output_type": "execute_result"
    }
   ],
   "source": [
    "# standard diviation by group\n",
    "df.groupby('species').std(ddof=1)"
   ]
  },
  {
   "cell_type": "code",
   "execution_count": 15,
   "id": "9d31dd82",
   "metadata": {
    "execution": {
     "iopub.execute_input": "2022-09-02T05:16:08.156728Z",
     "iopub.status.busy": "2022-09-02T05:16:08.155688Z",
     "iopub.status.idle": "2022-09-02T05:16:08.195768Z",
     "shell.execute_reply": "2022-09-02T05:16:08.194508Z"
    },
    "papermill": {
     "duration": 0.053752,
     "end_time": "2022-09-02T05:16:08.198469",
     "exception": false,
     "start_time": "2022-09-02T05:16:08.144717",
     "status": "completed"
    },
    "tags": []
   },
   "outputs": [
    {
     "data": {
      "text/html": [
       "<div>\n",
       "<style scoped>\n",
       "    .dataframe tbody tr th:only-of-type {\n",
       "        vertical-align: middle;\n",
       "    }\n",
       "\n",
       "    .dataframe tbody tr th {\n",
       "        vertical-align: top;\n",
       "    }\n",
       "\n",
       "    .dataframe thead tr th {\n",
       "        text-align: left;\n",
       "    }\n",
       "\n",
       "    .dataframe thead tr:last-of-type th {\n",
       "        text-align: right;\n",
       "    }\n",
       "</style>\n",
       "<table border=\"1\" class=\"dataframe\">\n",
       "  <thead>\n",
       "    <tr>\n",
       "      <th></th>\n",
       "      <th colspan=\"8\" halign=\"left\">length</th>\n",
       "    </tr>\n",
       "    <tr>\n",
       "      <th></th>\n",
       "      <th>count</th>\n",
       "      <th>mean</th>\n",
       "      <th>std</th>\n",
       "      <th>min</th>\n",
       "      <th>25%</th>\n",
       "      <th>50%</th>\n",
       "      <th>75%</th>\n",
       "      <th>max</th>\n",
       "    </tr>\n",
       "    <tr>\n",
       "      <th>species</th>\n",
       "      <th></th>\n",
       "      <th></th>\n",
       "      <th></th>\n",
       "      <th></th>\n",
       "      <th></th>\n",
       "      <th></th>\n",
       "      <th></th>\n",
       "      <th></th>\n",
       "    </tr>\n",
       "  </thead>\n",
       "  <tbody>\n",
       "    <tr>\n",
       "      <th>A</th>\n",
       "      <td>3.0</td>\n",
       "      <td>3.0</td>\n",
       "      <td>1.0</td>\n",
       "      <td>2.0</td>\n",
       "      <td>2.5</td>\n",
       "      <td>3.0</td>\n",
       "      <td>3.5</td>\n",
       "      <td>4.0</td>\n",
       "    </tr>\n",
       "    <tr>\n",
       "      <th>B</th>\n",
       "      <td>3.0</td>\n",
       "      <td>8.0</td>\n",
       "      <td>2.0</td>\n",
       "      <td>6.0</td>\n",
       "      <td>7.0</td>\n",
       "      <td>8.0</td>\n",
       "      <td>9.0</td>\n",
       "      <td>10.0</td>\n",
       "    </tr>\n",
       "  </tbody>\n",
       "</table>\n",
       "</div>"
      ],
      "text/plain": [
       "        length                                    \n",
       "         count mean  std  min  25%  50%  75%   max\n",
       "species                                           \n",
       "A          3.0  3.0  1.0  2.0  2.5  3.0  3.5   4.0\n",
       "B          3.0  8.0  2.0  6.0  7.0  8.0  9.0  10.0"
      ]
     },
     "execution_count": 15,
     "metadata": {},
     "output_type": "execute_result"
    }
   ],
   "source": [
    "df.groupby('species').describe()"
   ]
  },
  {
   "cell_type": "markdown",
   "id": "5101293e",
   "metadata": {
    "papermill": {
     "duration": 0.008997,
     "end_time": "2022-09-02T05:16:08.216789",
     "exception": false,
     "start_time": "2022-09-02T05:16:08.207792",
     "status": "completed"
    },
    "tags": []
   },
   "source": [
    "### crosstabulation table"
   ]
  },
  {
   "cell_type": "code",
   "execution_count": 16,
   "id": "c59196dc",
   "metadata": {
    "execution": {
     "iopub.execute_input": "2022-09-02T05:16:08.237315Z",
     "iopub.status.busy": "2022-09-02T05:16:08.236887Z",
     "iopub.status.idle": "2022-09-02T05:16:08.248802Z",
     "shell.execute_reply": "2022-09-02T05:16:08.247941Z"
    },
    "papermill": {
     "duration": 0.024784,
     "end_time": "2022-09-02T05:16:08.250854",
     "exception": false,
     "start_time": "2022-09-02T05:16:08.226070",
     "status": "completed"
    },
    "tags": []
   },
   "outputs": [
    {
     "data": {
      "text/html": [
       "<div>\n",
       "<style scoped>\n",
       "    .dataframe tbody tr th:only-of-type {\n",
       "        vertical-align: middle;\n",
       "    }\n",
       "\n",
       "    .dataframe tbody tr th {\n",
       "        vertical-align: top;\n",
       "    }\n",
       "\n",
       "    .dataframe thead th {\n",
       "        text-align: right;\n",
       "    }\n",
       "</style>\n",
       "<table border=\"1\" class=\"dataframe\">\n",
       "  <thead>\n",
       "    <tr style=\"text-align: right;\">\n",
       "      <th></th>\n",
       "      <th>store</th>\n",
       "      <th>color</th>\n",
       "      <th>sales</th>\n",
       "    </tr>\n",
       "  </thead>\n",
       "  <tbody>\n",
       "    <tr>\n",
       "      <th>0</th>\n",
       "      <td>tokyo</td>\n",
       "      <td>blue</td>\n",
       "      <td>10</td>\n",
       "    </tr>\n",
       "    <tr>\n",
       "      <th>1</th>\n",
       "      <td>tokyo</td>\n",
       "      <td>red</td>\n",
       "      <td>15</td>\n",
       "    </tr>\n",
       "    <tr>\n",
       "      <th>2</th>\n",
       "      <td>osaka</td>\n",
       "      <td>blue</td>\n",
       "      <td>13</td>\n",
       "    </tr>\n",
       "    <tr>\n",
       "      <th>3</th>\n",
       "      <td>osaka</td>\n",
       "      <td>red</td>\n",
       "      <td>9</td>\n",
       "    </tr>\n",
       "  </tbody>\n",
       "</table>\n",
       "</div>"
      ],
      "text/plain": [
       "   store color  sales\n",
       "0  tokyo  blue     10\n",
       "1  tokyo   red     15\n",
       "2  osaka  blue     13\n",
       "3  osaka   red      9"
      ]
     },
     "execution_count": 16,
     "metadata": {},
     "output_type": "execute_result"
    }
   ],
   "source": [
    "shoes = pd.DataFrame({'store': ['tokyo', 'tokyo', 'osaka', 'osaka'],\n",
    "                     'color': ['blue',  'red', 'blue',  'red'],\n",
    "                     'sales': [10, 15, 13, 9]})\n",
    "shoes"
   ]
  },
  {
   "cell_type": "code",
   "execution_count": 17,
   "id": "0c904ddd",
   "metadata": {
    "execution": {
     "iopub.execute_input": "2022-09-02T05:16:08.272800Z",
     "iopub.status.busy": "2022-09-02T05:16:08.271684Z",
     "iopub.status.idle": "2022-09-02T05:16:08.296654Z",
     "shell.execute_reply": "2022-09-02T05:16:08.295535Z"
    },
    "papermill": {
     "duration": 0.038957,
     "end_time": "2022-09-02T05:16:08.299281",
     "exception": false,
     "start_time": "2022-09-02T05:16:08.260324",
     "status": "completed"
    },
    "tags": []
   },
   "outputs": [
    {
     "data": {
      "text/html": [
       "<div>\n",
       "<style scoped>\n",
       "    .dataframe tbody tr th:only-of-type {\n",
       "        vertical-align: middle;\n",
       "    }\n",
       "\n",
       "    .dataframe tbody tr th {\n",
       "        vertical-align: top;\n",
       "    }\n",
       "\n",
       "    .dataframe thead th {\n",
       "        text-align: right;\n",
       "    }\n",
       "</style>\n",
       "<table border=\"1\" class=\"dataframe\">\n",
       "  <thead>\n",
       "    <tr style=\"text-align: right;\">\n",
       "      <th>color</th>\n",
       "      <th>blue</th>\n",
       "      <th>red</th>\n",
       "    </tr>\n",
       "    <tr>\n",
       "      <th>store</th>\n",
       "      <th></th>\n",
       "      <th></th>\n",
       "    </tr>\n",
       "  </thead>\n",
       "  <tbody>\n",
       "    <tr>\n",
       "      <th>osaka</th>\n",
       "      <td>13</td>\n",
       "      <td>9</td>\n",
       "    </tr>\n",
       "    <tr>\n",
       "      <th>tokyo</th>\n",
       "      <td>10</td>\n",
       "      <td>15</td>\n",
       "    </tr>\n",
       "  </tbody>\n",
       "</table>\n",
       "</div>"
      ],
      "text/plain": [
       "color  blue  red\n",
       "store           \n",
       "osaka    13    9\n",
       "tokyo    10   15"
      ]
     },
     "execution_count": 17,
     "metadata": {},
     "output_type": "execute_result"
    }
   ],
   "source": [
    "pd.pivot_table(data=shoes, values='sales', columns='color', index='store')"
   ]
  },
  {
   "cell_type": "markdown",
   "id": "3db8fdf4",
   "metadata": {
    "papermill": {
     "duration": 0.009391,
     "end_time": "2022-09-02T05:16:08.318506",
     "exception": false,
     "start_time": "2022-09-02T05:16:08.309115",
     "status": "completed"
    },
    "tags": []
   },
   "source": [
    "### Covariance\n",
    "covariance formula\\\n",
    "$ Cov(x,y) = \\frac{1}{N}\\displaystyle\\sum_{i=1}^{N}(x_{i}-\\mu_{x})(y_{i}-\\mu_{y}) $\\\n",
    "$ Cov(x,y) = \\frac{1}{N-1}\\displaystyle\\sum_{i=1}^{N}(x_{i}-\\mu_{x})(y_{i}-\\mu_{y}) $"
   ]
  },
  {
   "cell_type": "markdown",
   "id": "0afa9da3",
   "metadata": {
    "papermill": {
     "duration": 0.009357,
     "end_time": "2022-09-02T05:16:08.337526",
     "exception": false,
     "start_time": "2022-09-02T05:16:08.328169",
     "status": "completed"
    },
    "tags": []
   },
   "source": [
    "### variance covariance matrix\n",
    "$Cov(x, y)\\begin{bmatrix}\\sigma_{x}^{2}&Cov(x, y)\\\\Cov(x, y)&\\sigma_{y}^{2}\\\\ \\end{bmatrix}$"
   ]
  },
  {
   "cell_type": "code",
   "execution_count": 18,
   "id": "31225395",
   "metadata": {
    "execution": {
     "iopub.execute_input": "2022-09-02T05:16:08.358711Z",
     "iopub.status.busy": "2022-09-02T05:16:08.358330Z",
     "iopub.status.idle": "2022-09-02T05:16:08.371524Z",
     "shell.execute_reply": "2022-09-02T05:16:08.370240Z"
    },
    "papermill": {
     "duration": 0.026726,
     "end_time": "2022-09-02T05:16:08.373879",
     "exception": false,
     "start_time": "2022-09-02T05:16:08.347153",
     "status": "completed"
    },
    "tags": []
   },
   "outputs": [
    {
     "data": {
      "text/html": [
       "<div>\n",
       "<style scoped>\n",
       "    .dataframe tbody tr th:only-of-type {\n",
       "        vertical-align: middle;\n",
       "    }\n",
       "\n",
       "    .dataframe tbody tr th {\n",
       "        vertical-align: top;\n",
       "    }\n",
       "\n",
       "    .dataframe thead th {\n",
       "        text-align: right;\n",
       "    }\n",
       "</style>\n",
       "<table border=\"1\" class=\"dataframe\">\n",
       "  <thead>\n",
       "    <tr style=\"text-align: right;\">\n",
       "      <th></th>\n",
       "      <th>x</th>\n",
       "      <th>y</th>\n",
       "    </tr>\n",
       "  </thead>\n",
       "  <tbody>\n",
       "    <tr>\n",
       "      <th>0</th>\n",
       "      <td>18.5</td>\n",
       "      <td>34</td>\n",
       "    </tr>\n",
       "    <tr>\n",
       "      <th>1</th>\n",
       "      <td>18.7</td>\n",
       "      <td>39</td>\n",
       "    </tr>\n",
       "    <tr>\n",
       "      <th>2</th>\n",
       "      <td>19.1</td>\n",
       "      <td>41</td>\n",
       "    </tr>\n",
       "    <tr>\n",
       "      <th>3</th>\n",
       "      <td>19.7</td>\n",
       "      <td>38</td>\n",
       "    </tr>\n",
       "    <tr>\n",
       "      <th>4</th>\n",
       "      <td>21.5</td>\n",
       "      <td>45</td>\n",
       "    </tr>\n",
       "    <tr>\n",
       "      <th>5</th>\n",
       "      <td>21.7</td>\n",
       "      <td>41</td>\n",
       "    </tr>\n",
       "    <tr>\n",
       "      <th>6</th>\n",
       "      <td>21.8</td>\n",
       "      <td>52</td>\n",
       "    </tr>\n",
       "    <tr>\n",
       "      <th>7</th>\n",
       "      <td>22.0</td>\n",
       "      <td>44</td>\n",
       "    </tr>\n",
       "    <tr>\n",
       "      <th>8</th>\n",
       "      <td>23.4</td>\n",
       "      <td>44</td>\n",
       "    </tr>\n",
       "    <tr>\n",
       "      <th>9</th>\n",
       "      <td>23.8</td>\n",
       "      <td>49</td>\n",
       "    </tr>\n",
       "  </tbody>\n",
       "</table>\n",
       "</div>"
      ],
      "text/plain": [
       "      x   y\n",
       "0  18.5  34\n",
       "1  18.7  39\n",
       "2  19.1  41\n",
       "3  19.7  38\n",
       "4  21.5  45\n",
       "5  21.7  41\n",
       "6  21.8  52\n",
       "7  22.0  44\n",
       "8  23.4  44\n",
       "9  23.8  49"
      ]
     },
     "execution_count": 18,
     "metadata": {},
     "output_type": "execute_result"
    }
   ],
   "source": [
    "cov_data = pd.DataFrame({'x': [18.5, 18.7, 19.1, 19.7, 21.5, 21.7, 21.8, 22.0, 23.4, 23.8],\n",
    "                         'y': [34, 39, 41, 38, 45, 41, 52, 44, 44, 49]})\n",
    "cov_data"
   ]
  },
  {
   "cell_type": "code",
   "execution_count": 19,
   "id": "e1b1f62f",
   "metadata": {
    "execution": {
     "iopub.execute_input": "2022-09-02T05:16:08.396434Z",
     "iopub.status.busy": "2022-09-02T05:16:08.395348Z",
     "iopub.status.idle": "2022-09-02T05:16:08.409598Z",
     "shell.execute_reply": "2022-09-02T05:16:08.408473Z"
    },
    "papermill": {
     "duration": 0.028029,
     "end_time": "2022-09-02T05:16:08.412051",
     "exception": false,
     "start_time": "2022-09-02T05:16:08.384022",
     "status": "completed"
    },
    "tags": []
   },
   "outputs": [
    {
     "data": {
      "text/html": [
       "<div>\n",
       "<style scoped>\n",
       "    .dataframe tbody tr th:only-of-type {\n",
       "        vertical-align: middle;\n",
       "    }\n",
       "\n",
       "    .dataframe tbody tr th {\n",
       "        vertical-align: top;\n",
       "    }\n",
       "\n",
       "    .dataframe thead th {\n",
       "        text-align: right;\n",
       "    }\n",
       "</style>\n",
       "<table border=\"1\" class=\"dataframe\">\n",
       "  <thead>\n",
       "    <tr style=\"text-align: right;\">\n",
       "      <th></th>\n",
       "      <th>x</th>\n",
       "      <th>y</th>\n",
       "    </tr>\n",
       "  </thead>\n",
       "  <tbody>\n",
       "    <tr>\n",
       "      <th>x</th>\n",
       "      <td>3.2816</td>\n",
       "      <td>6.906</td>\n",
       "    </tr>\n",
       "    <tr>\n",
       "      <th>y</th>\n",
       "      <td>6.9060</td>\n",
       "      <td>25.210</td>\n",
       "    </tr>\n",
       "  </tbody>\n",
       "</table>\n",
       "</div>"
      ],
      "text/plain": [
       "        x       y\n",
       "x  3.2816   6.906\n",
       "y  6.9060  25.210"
      ]
     },
     "execution_count": 19,
     "metadata": {},
     "output_type": "execute_result"
    }
   ],
   "source": [
    "# covariance\n",
    "cov_data.cov(ddof=0)"
   ]
  },
  {
   "cell_type": "code",
   "execution_count": 20,
   "id": "428bfc59",
   "metadata": {
    "execution": {
     "iopub.execute_input": "2022-09-02T05:16:08.434340Z",
     "iopub.status.busy": "2022-09-02T05:16:08.433548Z",
     "iopub.status.idle": "2022-09-02T05:16:08.444934Z",
     "shell.execute_reply": "2022-09-02T05:16:08.443835Z"
    },
    "papermill": {
     "duration": 0.025187,
     "end_time": "2022-09-02T05:16:08.447261",
     "exception": false,
     "start_time": "2022-09-02T05:16:08.422074",
     "status": "completed"
    },
    "tags": []
   },
   "outputs": [
    {
     "data": {
      "text/html": [
       "<div>\n",
       "<style scoped>\n",
       "    .dataframe tbody tr th:only-of-type {\n",
       "        vertical-align: middle;\n",
       "    }\n",
       "\n",
       "    .dataframe tbody tr th {\n",
       "        vertical-align: top;\n",
       "    }\n",
       "\n",
       "    .dataframe thead th {\n",
       "        text-align: right;\n",
       "    }\n",
       "</style>\n",
       "<table border=\"1\" class=\"dataframe\">\n",
       "  <thead>\n",
       "    <tr style=\"text-align: right;\">\n",
       "      <th></th>\n",
       "      <th>x</th>\n",
       "      <th>y</th>\n",
       "    </tr>\n",
       "  </thead>\n",
       "  <tbody>\n",
       "    <tr>\n",
       "      <th>x</th>\n",
       "      <td>3.646222</td>\n",
       "      <td>7.673333</td>\n",
       "    </tr>\n",
       "    <tr>\n",
       "      <th>y</th>\n",
       "      <td>7.673333</td>\n",
       "      <td>28.011111</td>\n",
       "    </tr>\n",
       "  </tbody>\n",
       "</table>\n",
       "</div>"
      ],
      "text/plain": [
       "          x          y\n",
       "x  3.646222   7.673333\n",
       "y  7.673333  28.011111"
      ]
     },
     "execution_count": 20,
     "metadata": {},
     "output_type": "execute_result"
    }
   ],
   "source": [
    "# covariance ddof=1\n",
    "cov_data.cov(ddof=1)"
   ]
  },
  {
   "cell_type": "markdown",
   "id": "65df758e",
   "metadata": {
    "papermill": {
     "duration": 0.010028,
     "end_time": "2022-09-02T05:16:08.467414",
     "exception": false,
     "start_time": "2022-09-02T05:16:08.457386",
     "status": "completed"
    },
    "tags": []
   },
   "source": [
    "### Pearson's Correlation Coefficient\n",
    "$ \\rho_{xy} = \\frac{Cov(x,y)}{\\sqrt{{\\sigma_{x}^{2}\\sigma_{y}^{2}}}} $\n",
    "### Correlation Matrix\n",
    "$Cov(x, y)\\begin{bmatrix}1&\\rho(x, y)\\\\\\rho(x, y)&2\\\\ \\end{bmatrix}$"
   ]
  },
  {
   "cell_type": "code",
   "execution_count": 21,
   "id": "c3c09015",
   "metadata": {
    "execution": {
     "iopub.execute_input": "2022-09-02T05:16:08.490597Z",
     "iopub.status.busy": "2022-09-02T05:16:08.489915Z",
     "iopub.status.idle": "2022-09-02T05:16:08.498641Z",
     "shell.execute_reply": "2022-09-02T05:16:08.497711Z"
    },
    "papermill": {
     "duration": 0.022794,
     "end_time": "2022-09-02T05:16:08.500987",
     "exception": false,
     "start_time": "2022-09-02T05:16:08.478193",
     "status": "completed"
    },
    "tags": []
   },
   "outputs": [
    {
     "data": {
      "text/plain": [
       "0.010859034985841936"
      ]
     },
     "execution_count": 21,
     "metadata": {},
     "output_type": "execute_result"
    }
   ],
   "source": [
    "# correlation coefficient\n",
    "stats.pearsonr(cov_data.x, cov_data.y)[0]\n",
    "\n",
    "# p-value\n",
    "stats.pearsonr(cov_data.x, cov_data.y)[1]"
   ]
  },
  {
   "cell_type": "code",
   "execution_count": 22,
   "id": "25953d01",
   "metadata": {
    "execution": {
     "iopub.execute_input": "2022-09-02T05:16:08.524699Z",
     "iopub.status.busy": "2022-09-02T05:16:08.523922Z",
     "iopub.status.idle": "2022-09-02T05:16:08.534441Z",
     "shell.execute_reply": "2022-09-02T05:16:08.533334Z"
    },
    "papermill": {
     "duration": 0.024882,
     "end_time": "2022-09-02T05:16:08.536848",
     "exception": false,
     "start_time": "2022-09-02T05:16:08.511966",
     "status": "completed"
    },
    "tags": []
   },
   "outputs": [
    {
     "data": {
      "text/html": [
       "<div>\n",
       "<style scoped>\n",
       "    .dataframe tbody tr th:only-of-type {\n",
       "        vertical-align: middle;\n",
       "    }\n",
       "\n",
       "    .dataframe tbody tr th {\n",
       "        vertical-align: top;\n",
       "    }\n",
       "\n",
       "    .dataframe thead th {\n",
       "        text-align: right;\n",
       "    }\n",
       "</style>\n",
       "<table border=\"1\" class=\"dataframe\">\n",
       "  <thead>\n",
       "    <tr style=\"text-align: right;\">\n",
       "      <th></th>\n",
       "      <th>x</th>\n",
       "      <th>y</th>\n",
       "    </tr>\n",
       "  </thead>\n",
       "  <tbody>\n",
       "    <tr>\n",
       "      <th>x</th>\n",
       "      <td>1.000000</td>\n",
       "      <td>0.759272</td>\n",
       "    </tr>\n",
       "    <tr>\n",
       "      <th>y</th>\n",
       "      <td>0.759272</td>\n",
       "      <td>1.000000</td>\n",
       "    </tr>\n",
       "  </tbody>\n",
       "</table>\n",
       "</div>"
      ],
      "text/plain": [
       "          x         y\n",
       "x  1.000000  0.759272\n",
       "y  0.759272  1.000000"
      ]
     },
     "execution_count": 22,
     "metadata": {},
     "output_type": "execute_result"
    }
   ],
   "source": [
    "cov_data.corr()"
   ]
  },
  {
   "cell_type": "code",
   "execution_count": null,
   "id": "7571f323",
   "metadata": {
    "papermill": {
     "duration": 0.010186,
     "end_time": "2022-09-02T05:16:08.557484",
     "exception": false,
     "start_time": "2022-09-02T05:16:08.547298",
     "status": "completed"
    },
    "tags": []
   },
   "outputs": [],
   "source": []
  }
 ],
 "metadata": {
  "kernelspec": {
   "display_name": "Python 3",
   "language": "python",
   "name": "python3"
  },
  "language_info": {
   "codemirror_mode": {
    "name": "ipython",
    "version": 3
   },
   "file_extension": ".py",
   "mimetype": "text/x-python",
   "name": "python",
   "nbconvert_exporter": "python",
   "pygments_lexer": "ipython3",
   "version": "3.7.12"
  },
  "papermill": {
   "default_parameters": {},
   "duration": 11.878347,
   "end_time": "2022-09-02T05:16:09.289485",
   "environment_variables": {},
   "exception": null,
   "input_path": "__notebook__.ipynb",
   "output_path": "__notebook__.ipynb",
   "parameters": {},
   "start_time": "2022-09-02T05:15:57.411138",
   "version": "2.3.4"
  }
 },
 "nbformat": 4,
 "nbformat_minor": 5
}
