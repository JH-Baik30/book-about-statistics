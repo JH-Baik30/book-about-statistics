{
 "cells": [
  {
   "cell_type": "markdown",
   "id": "474eb21d",
   "metadata": {
    "papermill": {
     "duration": 0.007216,
     "end_time": "2022-09-17T15:39:31.213632",
     "exception": false,
     "start_time": "2022-09-17T15:39:31.206416",
     "status": "completed"
    },
    "tags": []
   },
   "source": [
    "# 정리를 하다가 말다가 해서 자세한건 책에 다 나와 았습니다."
   ]
  },
  {
   "cell_type": "markdown",
   "id": "e193babc",
   "metadata": {
    "papermill": {
     "duration": 0.005692,
     "end_time": "2022-09-17T15:39:31.225595",
     "exception": false,
     "start_time": "2022-09-17T15:39:31.219903",
     "status": "completed"
    },
    "tags": []
   },
   "source": [
    "## 6.3 로지스틱 회귀\n",
    "**로지스틱 회귀** 는 확률분포에서 이항분포를 사용, 링크함수로 *로짓함수*를 사용한 일반선형모델이다.\\\n",
    "독립변수는 여러여도, 연속형, 카테고리형 섞여있어도 상관없다.\n",
    "\n",
    "### 6.3.3 로짓함수\n",
    "**로짓함수** 로그의 밑은 $e$ 이다.\\\n",
    "#### $f(x) = \\log\\left(\\frac{x}{1-x}\\right)$\n",
    "\n",
    "### 6.3.4 역함수\n",
    "$f(a)=b$ 가 있다고 예를 들면, 이때 $a$와 $b$를 반대로 해서 $g(b)=a$가 되는 함수$g(x)$를 $f(x)$의 **역함수** 라고 한다.\\\n",
    "$ex)$ 지수함수의 역함수는 로그함수이다.\n",
    "\n",
    "### 6.3.5 로지스틱함수\n",
    "**로지스틱함수**는 로짓함수의 역함수이다.\\\n",
    "로짓함수를 $f(x)$라고 하면 $g(f(x))=x$가 된다.\n",
    "#### $g(y)=\\frac{1}{1+exp(-y)}$"
   ]
  },
  {
   "cell_type": "code",
   "execution_count": 1,
   "id": "5126c527",
   "metadata": {
    "execution": {
     "iopub.execute_input": "2022-09-17T15:39:31.240372Z",
     "iopub.status.busy": "2022-09-17T15:39:31.239333Z",
     "iopub.status.idle": "2022-09-17T15:39:33.178234Z",
     "shell.execute_reply": "2022-09-17T15:39:33.177126Z"
    },
    "papermill": {
     "duration": 1.94932,
     "end_time": "2022-09-17T15:39:33.181224",
     "exception": false,
     "start_time": "2022-09-17T15:39:31.231904",
     "status": "completed"
    },
    "tags": []
   },
   "outputs": [],
   "source": [
    "import numpy as np\n",
    "import pandas as pd\n",
    "import scipy as sp\n",
    "from scipy import stats\n",
    "import matplotlib.pyplot as plt\n",
    "import seaborn as sns\n",
    "sns.set()\n",
    "\n",
    "import statsmodels.formula.api as smf\n",
    "import statsmodels.api as sm"
   ]
  },
  {
   "cell_type": "markdown",
   "id": "1155a744",
   "metadata": {
    "papermill": {
     "duration": 0.005624,
     "end_time": "2022-09-17T15:39:33.193006",
     "exception": false,
     "start_time": "2022-09-17T15:39:33.187382",
     "status": "completed"
    },
    "tags": []
   },
   "source": [
    "### 6.3.10 데이터 일고 그래프 그리기\n",
    "데이터는 가공의 시험 합격 여부 데이터이다.\n",
    "hours가 공부시간, result가 시험의 합격여부임 (합: 1, 불: 0)"
   ]
  },
  {
   "cell_type": "code",
   "execution_count": 2,
   "id": "01d31e7d",
   "metadata": {
    "execution": {
     "iopub.execute_input": "2022-09-17T15:39:33.206747Z",
     "iopub.status.busy": "2022-09-17T15:39:33.206301Z",
     "iopub.status.idle": "2022-09-17T15:39:33.236667Z",
     "shell.execute_reply": "2022-09-17T15:39:33.235493Z"
    },
    "papermill": {
     "duration": 0.040165,
     "end_time": "2022-09-17T15:39:33.239162",
     "exception": false,
     "start_time": "2022-09-17T15:39:33.198997",
     "status": "completed"
    },
    "tags": []
   },
   "outputs": [
    {
     "data": {
      "text/html": [
       "<div>\n",
       "<style scoped>\n",
       "    .dataframe tbody tr th:only-of-type {\n",
       "        vertical-align: middle;\n",
       "    }\n",
       "\n",
       "    .dataframe tbody tr th {\n",
       "        vertical-align: top;\n",
       "    }\n",
       "\n",
       "    .dataframe thead th {\n",
       "        text-align: right;\n",
       "    }\n",
       "</style>\n",
       "<table border=\"1\" class=\"dataframe\">\n",
       "  <thead>\n",
       "    <tr style=\"text-align: right;\">\n",
       "      <th></th>\n",
       "      <th>hours</th>\n",
       "      <th>result</th>\n",
       "    </tr>\n",
       "  </thead>\n",
       "  <tbody>\n",
       "    <tr>\n",
       "      <th>0</th>\n",
       "      <td>0</td>\n",
       "      <td>0</td>\n",
       "    </tr>\n",
       "    <tr>\n",
       "      <th>1</th>\n",
       "      <td>0</td>\n",
       "      <td>0</td>\n",
       "    </tr>\n",
       "    <tr>\n",
       "      <th>2</th>\n",
       "      <td>0</td>\n",
       "      <td>0</td>\n",
       "    </tr>\n",
       "    <tr>\n",
       "      <th>3</th>\n",
       "      <td>0</td>\n",
       "      <td>0</td>\n",
       "    </tr>\n",
       "    <tr>\n",
       "      <th>4</th>\n",
       "      <td>0</td>\n",
       "      <td>0</td>\n",
       "    </tr>\n",
       "  </tbody>\n",
       "</table>\n",
       "</div>"
      ],
      "text/plain": [
       "   hours  result\n",
       "0      0       0\n",
       "1      0       0\n",
       "2      0       0\n",
       "3      0       0\n",
       "4      0       0"
      ]
     },
     "execution_count": 2,
     "metadata": {},
     "output_type": "execute_result"
    }
   ],
   "source": [
    "test_result = pd.read_csv('../input/lm-model/6-3-1-logistic-regression.csv')\n",
    "test_result.head()"
   ]
  },
  {
   "cell_type": "code",
   "execution_count": 3,
   "id": "305ede0e",
   "metadata": {
    "execution": {
     "iopub.execute_input": "2022-09-17T15:39:33.253187Z",
     "iopub.status.busy": "2022-09-17T15:39:33.252781Z",
     "iopub.status.idle": "2022-09-17T15:39:33.827651Z",
     "shell.execute_reply": "2022-09-17T15:39:33.826457Z"
    },
    "papermill": {
     "duration": 0.584706,
     "end_time": "2022-09-17T15:39:33.830158",
     "exception": false,
     "start_time": "2022-09-17T15:39:33.245452",
     "status": "completed"
    },
    "tags": []
   },
   "outputs": [
    {
     "data": {
      "image/png": "[encoded data removed]",
      "text/plain": [
       "<Figure size 432x288 with 1 Axes>"
      ]
     },
     "metadata": {},
     "output_type": "display_data"
    }
   ],
   "source": [
    "# 합:1, 불합:0 이므로 평균이 합격률이라고 볼 수 있다.\n",
    "sns.barplot(x='hours', y='result', data=test_result);"
   ]
  },
  {
   "cell_type": "code",
   "execution_count": 4,
   "id": "5c045ccc",
   "metadata": {
    "execution": {
     "iopub.execute_input": "2022-09-17T15:39:33.845616Z",
     "iopub.status.busy": "2022-09-17T15:39:33.844858Z",
     "iopub.status.idle": "2022-09-17T15:39:33.861109Z",
     "shell.execute_reply": "2022-09-17T15:39:33.859643Z"
    },
    "papermill": {
     "duration": 0.026754,
     "end_time": "2022-09-17T15:39:33.863584",
     "exception": false,
     "start_time": "2022-09-17T15:39:33.836830",
     "status": "completed"
    },
    "tags": []
   },
   "outputs": [
    {
     "data": {
      "text/html": [
       "<div>\n",
       "<style scoped>\n",
       "    .dataframe tbody tr th:only-of-type {\n",
       "        vertical-align: middle;\n",
       "    }\n",
       "\n",
       "    .dataframe tbody tr th {\n",
       "        vertical-align: top;\n",
       "    }\n",
       "\n",
       "    .dataframe thead th {\n",
       "        text-align: right;\n",
       "    }\n",
       "</style>\n",
       "<table border=\"1\" class=\"dataframe\">\n",
       "  <thead>\n",
       "    <tr style=\"text-align: right;\">\n",
       "      <th></th>\n",
       "      <th>result</th>\n",
       "    </tr>\n",
       "    <tr>\n",
       "      <th>hours</th>\n",
       "      <th></th>\n",
       "    </tr>\n",
       "  </thead>\n",
       "  <tbody>\n",
       "    <tr>\n",
       "      <th>0</th>\n",
       "      <td>0.0</td>\n",
       "    </tr>\n",
       "    <tr>\n",
       "      <th>1</th>\n",
       "      <td>0.0</td>\n",
       "    </tr>\n",
       "    <tr>\n",
       "      <th>2</th>\n",
       "      <td>0.1</td>\n",
       "    </tr>\n",
       "    <tr>\n",
       "      <th>3</th>\n",
       "      <td>0.1</td>\n",
       "    </tr>\n",
       "    <tr>\n",
       "      <th>4</th>\n",
       "      <td>0.4</td>\n",
       "    </tr>\n",
       "    <tr>\n",
       "      <th>5</th>\n",
       "      <td>0.4</td>\n",
       "    </tr>\n",
       "    <tr>\n",
       "      <th>6</th>\n",
       "      <td>0.9</td>\n",
       "    </tr>\n",
       "    <tr>\n",
       "      <th>7</th>\n",
       "      <td>0.8</td>\n",
       "    </tr>\n",
       "    <tr>\n",
       "      <th>8</th>\n",
       "      <td>0.9</td>\n",
       "    </tr>\n",
       "    <tr>\n",
       "      <th>9</th>\n",
       "      <td>1.0</td>\n",
       "    </tr>\n",
       "  </tbody>\n",
       "</table>\n",
       "</div>"
      ],
      "text/plain": [
       "       result\n",
       "hours        \n",
       "0         0.0\n",
       "1         0.0\n",
       "2         0.1\n",
       "3         0.1\n",
       "4         0.4\n",
       "5         0.4\n",
       "6         0.9\n",
       "7         0.8\n",
       "8         0.9\n",
       "9         1.0"
      ]
     },
     "execution_count": 4,
     "metadata": {},
     "output_type": "execute_result"
    }
   ],
   "source": [
    "# 공부시간이 길어지면 합격률이 높아지는것 같다.\n",
    "# 공부시간마다의 합격률을 계산해본다.\n",
    "test_result.groupby('hours').mean()"
   ]
  },
  {
   "cell_type": "markdown",
   "id": "6a6b4ae5",
   "metadata": {
    "papermill": {
     "duration": 0.006324,
     "end_time": "2022-09-17T15:39:33.876649",
     "exception": false,
     "start_time": "2022-09-17T15:39:33.870325",
     "status": "completed"
    },
    "tags": []
   },
   "source": [
    "### 6.3.11 로지스틱 회귀\n",
    "로지스틱 회귀모델 추정"
   ]
  },
  {
   "cell_type": "code",
   "execution_count": 5,
   "id": "60798ec7",
   "metadata": {
    "execution": {
     "iopub.execute_input": "2022-09-17T15:39:33.891955Z",
     "iopub.status.busy": "2022-09-17T15:39:33.891133Z",
     "iopub.status.idle": "2022-09-17T15:39:33.919518Z",
     "shell.execute_reply": "2022-09-17T15:39:33.918288Z"
    },
    "papermill": {
     "duration": 0.038889,
     "end_time": "2022-09-17T15:39:33.922136",
     "exception": false,
     "start_time": "2022-09-17T15:39:33.883247",
     "status": "completed"
    },
    "tags": []
   },
   "outputs": [],
   "source": [
    "mod_glm = smf.glm(formula='result~hours', data=test_result, family=sm.families.Binomial()).fit()"
   ]
  },
  {
   "cell_type": "markdown",
   "id": "46406f66",
   "metadata": {
    "papermill": {
     "duration": 0.006359,
     "end_time": "2022-09-17T15:39:33.935356",
     "exception": false,
     "start_time": "2022-09-17T15:39:33.928997",
     "status": "completed"
    },
    "tags": []
   },
   "source": [
    "- 일반선형모델(로지스틱이든 아니든)을 추정하는 경우 smf.glm 을 사용한다.\n",
    "- 파라미터\n",
    " - 첫번째 'result~hours' 는 공식. 정규선형모델과 똑같이 사용.\n",
    " - 두번째 대상이 되는 **DataFrame** 사용\n",
    " - 세번째 확률분포 지정. 이항분포로 지정했으므로 sm.families.Binomial()이 된다.\n",
    "\n",
    "- 푸아송 분포로 지정시 sm.families.Possion()이 된다.\n",
    "- 링크함수 미지정시 \n",
    " - 이항분포는 기본으로 **logit함수**가 지정된다.\n",
    " - 푸아송 분포는 자동으로 **log**함수가 지정된다.\n",
    " - 기본 링크함수는 확률분포에 따라 자동 선택된다.\n",
    "\n",
    "- family=sm.families.Binomial(link=sm.families.links.logit) 이라고 명시적으로 지정할 수도 있다."
   ]
  },
  {
   "cell_type": "code",
   "execution_count": 6,
   "id": "463ad0ab",
   "metadata": {
    "execution": {
     "iopub.execute_input": "2022-09-17T15:39:33.951139Z",
     "iopub.status.busy": "2022-09-17T15:39:33.950691Z",
     "iopub.status.idle": "2022-09-17T15:39:33.966404Z",
     "shell.execute_reply": "2022-09-17T15:39:33.965255Z"
    },
    "papermill": {
     "duration": 0.02612,
     "end_time": "2022-09-17T15:39:33.968738",
     "exception": false,
     "start_time": "2022-09-17T15:39:33.942618",
     "status": "completed"
    },
    "tags": []
   },
   "outputs": [
    {
     "data": {
      "text/html": [
       "<table class=\"simpletable\">\n",
       "<caption>Generalized Linear Model Regression Results</caption>\n",
       "<tr>\n",
       "  <th>Dep. Variable:</th>        <td>result</td>      <th>  No. Observations:  </th>  <td>   100</td> \n",
       "</tr>\n",
       "<tr>\n",
       "  <th>Model:</th>                  <td>GLM</td>       <th>  Df Residuals:      </th>  <td>    98</td> \n",
       "</tr>\n",
       "<tr>\n",
       "  <th>Model Family:</th>        <td>Binomial</td>     <th>  Df Model:          </th>  <td>     1</td> \n",
       "</tr>\n",
       "<tr>\n",
       "  <th>Link Function:</th>         <td>Logit</td>      <th>  Scale:             </th> <td>  1.0000</td>\n",
       "</tr>\n",
       "<tr>\n",
       "  <th>Method:</th>                <td>IRLS</td>       <th>  Log-Likelihood:    </th> <td> -34.014</td>\n",
       "</tr>\n",
       "<tr>\n",
       "  <th>Date:</th>            <td>Sat, 17 Sep 2022</td> <th>  Deviance:          </th> <td>  68.028</td>\n",
       "</tr>\n",
       "<tr>\n",
       "  <th>Time:</th>                <td>15:39:33</td>     <th>  Pearson chi2:      </th>  <td>  84.9</td> \n",
       "</tr>\n",
       "<tr>\n",
       "  <th>No. Iterations:</th>          <td>6</td>        <th>  Pseudo R-squ. (CS):</th>  <td>0.5032</td> \n",
       "</tr>\n",
       "<tr>\n",
       "  <th>Covariance Type:</th>     <td>nonrobust</td>    <th>                     </th>     <td> </td>   \n",
       "</tr>\n",
       "</table>\n",
       "<table class=\"simpletable\">\n",
       "<tr>\n",
       "      <td></td>         <th>coef</th>     <th>std err</th>      <th>z</th>      <th>P>|z|</th>  <th>[0.025</th>    <th>0.975]</th>  \n",
       "</tr>\n",
       "<tr>\n",
       "  <th>Intercept</th> <td>   -4.5587</td> <td>    0.901</td> <td>   -5.061</td> <td> 0.000</td> <td>   -6.324</td> <td>   -2.793</td>\n",
       "</tr>\n",
       "<tr>\n",
       "  <th>hours</th>     <td>    0.9289</td> <td>    0.174</td> <td>    5.345</td> <td> 0.000</td> <td>    0.588</td> <td>    1.270</td>\n",
       "</tr>\n",
       "</table>"
      ],
      "text/plain": [
       "<class 'statsmodels.iolib.summary.Summary'>\n",
       "\"\"\"\n",
       "                 Generalized Linear Model Regression Results                  \n",
       "==============================================================================\n",
       "Dep. Variable:                 result   No. Observations:                  100\n",
       "Model:                            GLM   Df Residuals:                       98\n",
       "Model Family:                Binomial   Df Model:                            1\n",
       "Link Function:                  Logit   Scale:                          1.0000\n",
       "Method:                          IRLS   Log-Likelihood:                -34.014\n",
       "Date:                Sat, 17 Sep 2022   Deviance:                       68.028\n",
       "Time:                        15:39:33   Pearson chi2:                     84.9\n",
       "No. Iterations:                     6   Pseudo R-squ. (CS):             0.5032\n",
       "Covariance Type:            nonrobust                                         \n",
       "==============================================================================\n",
       "                 coef    std err          z      P>|z|      [0.025      0.975]\n",
       "------------------------------------------------------------------------------\n",
       "Intercept     -4.5587      0.901     -5.061      0.000      -6.324      -2.793\n",
       "hours          0.9289      0.174      5.345      0.000       0.588       1.270\n",
       "==============================================================================\n",
       "\"\"\""
      ]
     },
     "execution_count": 6,
     "metadata": {},
     "output_type": "execute_result"
    }
   ],
   "source": [
    "mod_glm.summary()"
   ]
  },
  {
   "cell_type": "markdown",
   "id": "a4d84e1c",
   "metadata": {
    "papermill": {
     "duration": 0.006553,
     "end_time": "2022-09-17T15:39:33.983677",
     "exception": false,
     "start_time": "2022-09-17T15:39:33.977124",
     "status": "completed"
    },
    "tags": []
   },
   "source": [
    "- Method: IRLS $rightarrow$ 반복적인 Iterative Reweigted Least Square(최소제곱법)의 약자이다.\n",
    "- No. Iterations: 6 $rightarrow$ 내부에서 계산한 반복수\n",
    "- Deviance 와 Pearson chi2 $rightarrow$ 이 모델의 적합도를 나타내는 지표\n",
    "- 계수에 대해서는 t-test 대신 Wald-test 검정 결과가 출력됨"
   ]
  },
  {
   "cell_type": "markdown",
   "id": "5da1e712",
   "metadata": {
    "papermill": {
     "duration": 0.006499,
     "end_time": "2022-09-17T15:39:33.996961",
     "exception": false,
     "start_time": "2022-09-17T15:39:33.990462",
     "status": "completed"
    },
    "tags": []
   },
   "source": [
    "### 6.3.13 모델 선택\n",
    "AIC를 사용 Null 모델과 독립변수 공부시간이 있는 모델 중 좋은 모델을 비교"
   ]
  },
  {
   "cell_type": "code",
   "execution_count": 7,
   "id": "d9e7ab88",
   "metadata": {
    "execution": {
     "iopub.execute_input": "2022-09-17T15:39:34.012835Z",
     "iopub.status.busy": "2022-09-17T15:39:34.012153Z",
     "iopub.status.idle": "2022-09-17T15:39:34.026652Z",
     "shell.execute_reply": "2022-09-17T15:39:34.025234Z"
    },
    "papermill": {
     "duration": 0.025051,
     "end_time": "2022-09-17T15:39:34.028902",
     "exception": false,
     "start_time": "2022-09-17T15:39:34.003851",
     "status": "completed"
    },
    "tags": []
   },
   "outputs": [
    {
     "name": "stdout",
     "output_type": "stream",
     "text": [
      "Null 모델      :  139.989\n",
      "변수가 있는 모델:  72.028\n"
     ]
    }
   ],
   "source": [
    "# 1. null 모델 추정\n",
    "mod_glm_null = smf.glm('result~1', data=test_result, family=sm.families.Binomial()).fit()\n",
    "\n",
    "# AIC 비교\n",
    "print('Null 모델      : ', mod_glm_null.aic.round(3))\n",
    "print('변수가 있는 모델: ', mod_glm.aic.round(3))"
   ]
  },
  {
   "cell_type": "markdown",
   "id": "a149e691",
   "metadata": {
    "papermill": {
     "duration": 0.00652,
     "end_time": "2022-09-17T15:39:34.042368",
     "exception": false,
     "start_time": "2022-09-17T15:39:34.035848",
     "status": "completed"
    },
    "tags": []
   },
   "source": [
    "그래프와 평균합격률, AIC 와 Null모델의 비교에서도 공부시간이라는 변수는 합격률을 예측하는데 도움이 된다고 얘기하고 있다.\\\n",
    "공부시간 계수가 양수였던 점도 감안하면 공부시간을 늘리면 합격률이 오른다고 판단해도 괜찮을 것 같다."
   ]
  },
  {
   "cell_type": "markdown",
   "id": "8fbbe60b",
   "metadata": {
    "papermill": {
     "duration": 0.006393,
     "end_time": "2022-09-17T15:39:34.055559",
     "exception": false,
     "start_time": "2022-09-17T15:39:34.049166",
     "status": "completed"
    },
    "tags": []
   },
   "source": [
    "### 6.3.14 로지스틱 회귀곡선 그래프\n",
    "가로축에 공부시간, 세로축에 합격 여부의 이항확률변수를 지정한 산포도를 그리고, 이론상의 합격률을 겹쳐본다."
   ]
  },
  {
   "cell_type": "code",
   "execution_count": 8,
   "id": "db308c0f",
   "metadata": {
    "execution": {
     "iopub.execute_input": "2022-09-17T15:39:34.071918Z",
     "iopub.status.busy": "2022-09-17T15:39:34.070582Z",
     "iopub.status.idle": "2022-09-17T15:39:38.001186Z",
     "shell.execute_reply": "2022-09-17T15:39:37.999838Z"
    },
    "papermill": {
     "duration": 3.941691,
     "end_time": "2022-09-17T15:39:38.004183",
     "exception": false,
     "start_time": "2022-09-17T15:39:34.062492",
     "status": "completed"
    },
    "tags": []
   },
   "outputs": [
    {
     "data": {
      "image/png": "[encoded data removed]",
      "text/plain": [
       "<Figure size 360x360 with 1 Axes>"
      ]
     },
     "metadata": {},
     "output_type": "display_data"
    }
   ],
   "source": [
    "# seaborn.lmplot의 파라미터를 logistic=True로 넘긴다.\n",
    "sns.lmplot(x='hours', y='result', data=test_result, logistic=True,\n",
    "           # x_jitter, y_jitter 는 산포도를 그리는 데이터의 점을 조금 위아래로 흩어지게 하는 설정\n",
    "           x_jitter=0.1, y_jitter=0.02);"
   ]
  },
  {
   "cell_type": "markdown",
   "id": "1a9b9532",
   "metadata": {
    "papermill": {
     "duration": 0.007185,
     "end_time": "2022-09-17T15:39:38.019477",
     "exception": false,
     "start_time": "2022-09-17T15:39:38.012292",
     "status": "completed"
    },
    "tags": []
   },
   "source": [
    "### 6.3.15 성공확률 예측\n",
    "합격률을 수치로 얻을 수도 있다."
   ]
  },
  {
   "cell_type": "code",
   "execution_count": 9,
   "id": "2d8cbb0f",
   "metadata": {
    "execution": {
     "iopub.execute_input": "2022-09-17T15:39:38.036631Z",
     "iopub.status.busy": "2022-09-17T15:39:38.035716Z",
     "iopub.status.idle": "2022-09-17T15:39:38.048872Z",
     "shell.execute_reply": "2022-09-17T15:39:38.047515Z"
    },
    "papermill": {
     "duration": 0.024522,
     "end_time": "2022-09-17T15:39:38.051386",
     "exception": false,
     "start_time": "2022-09-17T15:39:38.026864",
     "status": "completed"
    },
    "tags": []
   },
   "outputs": [
    {
     "data": {
      "text/plain": [
       "0    0.010367\n",
       "1    0.025836\n",
       "2    0.062920\n",
       "3    0.145291\n",
       "4    0.300876\n",
       "5    0.521427\n",
       "6    0.733929\n",
       "7    0.874741\n",
       "8    0.946467\n",
       "9    0.978147\n",
       "dtype: float64"
      ]
     },
     "execution_count": 9,
     "metadata": {},
     "output_type": "execute_result"
    }
   ],
   "source": [
    "# 0~9까지 1씩 증가시키는 등차수열\n",
    "exp_val = pd.DataFrame({'hours': np.arange(0,10,1)})\n",
    "\n",
    "# 성공확률의 예측치\n",
    "pred = mod_glm.predict(exp_val) # round(0) 으로 하면 0.5 이상 반올림  0,1로 예측값이 나온다.\n",
    "pred"
   ]
  },
  {
   "cell_type": "markdown",
   "id": "f1ea9781",
   "metadata": {
    "papermill": {
     "duration": 0.007232,
     "end_time": "2022-09-17T15:39:38.066218",
     "exception": false,
     "start_time": "2022-09-17T15:39:38.058986",
     "status": "completed"
    },
    "tags": []
   },
   "source": [
    "### 6.3.16 용어 설명\n",
    "- **오즈(odds)**\n",
    " 실패보다 성공이 몇 배 더 쉬운가를 나타내는 것.\\\n",
    " $p$ 는 성공확률이다.\n",
    " #### $ odds = \\frac{p}{1-p} $\n",
    " $p$=0.5 일때 오즈는 1이 되어 성공과 실패의 쉬움이 변하지 않는다.\\\n",
    " $p$=0.75일때 오즈는 3이 되어 성공이 실패보다 3배 쉬워진다.\\\n",
    " 오즈에 로그를 취한것을 **로그오즈**라 부른다.\\\n",
    "\n",
    "- **오즈비(odds ratio)**\n",
    " 오즈간에 비율을 취한것\n",
    " 오즈비에 로그를 취한 것을 **로그오즈비**라 한다."
   ]
  },
  {
   "cell_type": "markdown",
   "id": "35547bd2",
   "metadata": {
    "papermill": {
     "duration": 0.00707,
     "end_time": "2022-09-17T15:39:38.080920",
     "exception": false,
     "start_time": "2022-09-17T15:39:38.073850",
     "status": "completed"
    },
    "tags": []
   },
   "source": [
    "### 6.3.17 로지스틱 회귀계수와 오즈비의 관계\n",
    "로지스틱 회귀의 계수와 오즈는 밀접한 관계가 있다.\\\n",
    "구체적으로 회귀계수는 독립변수를 1단위 변화시켰을 때의 로그오즈비라고 해석할 수 있다.\\\n",
    "ex) 공부시간이 1시간일 때의 합격률과 2시간일 때의 합격률을 각각 구한다."
   ]
  },
  {
   "cell_type": "code",
   "execution_count": 10,
   "id": "835b442a",
   "metadata": {
    "execution": {
     "iopub.execute_input": "2022-09-17T15:39:38.097807Z",
     "iopub.status.busy": "2022-09-17T15:39:38.096953Z",
     "iopub.status.idle": "2022-09-17T15:39:38.109813Z",
     "shell.execute_reply": "2022-09-17T15:39:38.108561Z"
    },
    "papermill": {
     "duration": 0.023887,
     "end_time": "2022-09-17T15:39:38.112205",
     "exception": false,
     "start_time": "2022-09-17T15:39:38.088318",
     "status": "completed"
    },
    "tags": []
   },
   "outputs": [],
   "source": [
    "# 공부시간이 1시간일 때의 합격률\n",
    "exp_val_1 = pd.DataFrame({'hours': [1]})\n",
    "pred_1 = mod_glm.predict(exp_val_1)\n",
    "\n",
    "# 공부시간이 2시간일 때의 합격률\n",
    "exp_val_2 = pd.DataFrame({'hours': [2]})\n",
    "pred_2 = mod_glm.predict(exp_val_2)"
   ]
  },
  {
   "cell_type": "code",
   "execution_count": 11,
   "id": "507a4af1",
   "metadata": {
    "execution": {
     "iopub.execute_input": "2022-09-17T15:39:38.129634Z",
     "iopub.status.busy": "2022-09-17T15:39:38.128853Z",
     "iopub.status.idle": "2022-09-17T15:39:38.139110Z",
     "shell.execute_reply": "2022-09-17T15:39:38.137968Z"
    },
    "papermill": {
     "duration": 0.021374,
     "end_time": "2022-09-17T15:39:38.141192",
     "exception": false,
     "start_time": "2022-09-17T15:39:38.119818",
     "status": "completed"
    },
    "tags": []
   },
   "outputs": [
    {
     "data": {
      "text/plain": [
       "0    0.92889\n",
       "dtype: float64"
      ]
     },
     "execution_count": 11,
     "metadata": {},
     "output_type": "execute_result"
    }
   ],
   "source": [
    "# 합격률을 이용, 로그오즈비를 계산한다.\n",
    "odds_1 = pred_1 / (1-pred_1)\n",
    "odds_2 = pred_2 / (1-pred_2)\n",
    "\n",
    "# 로그오즈비\n",
    "np.log(odds_2 / odds_1)"
   ]
  },
  {
   "cell_type": "code",
   "execution_count": 12,
   "id": "4efee3e7",
   "metadata": {
    "execution": {
     "iopub.execute_input": "2022-09-17T15:39:38.158318Z",
     "iopub.status.busy": "2022-09-17T15:39:38.157941Z",
     "iopub.status.idle": "2022-09-17T15:39:38.164896Z",
     "shell.execute_reply": "2022-09-17T15:39:38.164086Z"
    },
    "papermill": {
     "duration": 0.018138,
     "end_time": "2022-09-17T15:39:38.167075",
     "exception": false,
     "start_time": "2022-09-17T15:39:38.148937",
     "status": "completed"
    },
    "tags": []
   },
   "outputs": [
    {
     "data": {
      "text/plain": [
       "Intercept   -4.558691\n",
       "hours        0.928890\n",
       "dtype: float64"
      ]
     },
     "execution_count": 12,
     "metadata": {},
     "output_type": "execute_result"
    }
   ],
   "source": [
    "# 로그오즈비는 공부시간의 계수와 일치한다.\n",
    "mod_glm.params"
   ]
  },
  {
   "cell_type": "code",
   "execution_count": 13,
   "id": "af02cc68",
   "metadata": {
    "execution": {
     "iopub.execute_input": "2022-09-17T15:39:38.184280Z",
     "iopub.status.busy": "2022-09-17T15:39:38.183867Z",
     "iopub.status.idle": "2022-09-17T15:39:38.191524Z",
     "shell.execute_reply": "2022-09-17T15:39:38.190440Z"
    },
    "papermill": {
     "duration": 0.018675,
     "end_time": "2022-09-17T15:39:38.193684",
     "exception": false,
     "start_time": "2022-09-17T15:39:38.175009",
     "status": "completed"
    },
    "tags": []
   },
   "outputs": [
    {
     "data": {
      "text/plain": [
       "2.5316978778757737"
      ]
     },
     "execution_count": 13,
     "metadata": {},
     "output_type": "execute_result"
    }
   ],
   "source": [
    "# 즉, 계수에 exp를 취한 것이 오즈비이다.\n",
    "np.exp(mod_glm.params['hours'])"
   ]
  },
  {
   "cell_type": "code",
   "execution_count": 14,
   "id": "966d6ba7",
   "metadata": {
    "execution": {
     "iopub.execute_input": "2022-09-17T15:39:38.211887Z",
     "iopub.status.busy": "2022-09-17T15:39:38.210849Z",
     "iopub.status.idle": "2022-09-17T15:39:38.219777Z",
     "shell.execute_reply": "2022-09-17T15:39:38.218648Z"
    },
    "papermill": {
     "duration": 0.020327,
     "end_time": "2022-09-17T15:39:38.222044",
     "exception": false,
     "start_time": "2022-09-17T15:39:38.201717",
     "status": "completed"
    },
    "tags": []
   },
   "outputs": [
    {
     "data": {
      "text/plain": [
       "0    2.531698\n",
       "dtype: float64"
      ]
     },
     "execution_count": 14,
     "metadata": {},
     "output_type": "execute_result"
    }
   ],
   "source": [
    "# 정리하자면... (왜 이짓을 하나 했더니... ㅠㅠ)\n",
    "# 회귀계수에 exp 를 하면 승률이 나온다는 것을 알수 있다.\n",
    "# 승률 계산.\n",
    "odds_2/odds_1"
   ]
  },
  {
   "cell_type": "code",
   "execution_count": null,
   "id": "fc93309e",
   "metadata": {
    "papermill": {
     "duration": 0.007815,
     "end_time": "2022-09-17T15:39:38.238045",
     "exception": false,
     "start_time": "2022-09-17T15:39:38.230230",
     "status": "completed"
    },
    "tags": []
   },
   "outputs": [],
   "source": []
  }
 ],
 "metadata": {
  "kernelspec": {
   "display_name": "Python 3",
   "language": "python",
   "name": "python3"
  },
  "language_info": {
   "codemirror_mode": {
    "name": "ipython",
    "version": 3
   },
   "file_extension": ".py",
   "mimetype": "text/x-python",
   "name": "python",
   "nbconvert_exporter": "python",
   "pygments_lexer": "ipython3",
   "version": "3.7.12"
  },
  "papermill": {
   "default_parameters": {},
   "duration": 17.13514,
   "end_time": "2022-09-17T15:39:39.068243",
   "environment_variables": {},
   "exception": null,
   "input_path": "__notebook__.ipynb",
   "output_path": "__notebook__.ipynb",
   "parameters": {},
   "start_time": "2022-09-17T15:39:21.933103",
   "version": "2.3.4"
  }
 },
 "nbformat": 4,
 "nbformat_minor": 5
}
