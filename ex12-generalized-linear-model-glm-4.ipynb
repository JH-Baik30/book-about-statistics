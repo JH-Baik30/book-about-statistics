{
 "cells": [
  {
   "cell_type": "markdown",
   "id": "03820fe8",
   "metadata": {
    "papermill": {
     "duration": 0.005376,
     "end_time": "2022-09-18T01:54:54.714475",
     "exception": false,
     "start_time": "2022-09-18T01:54:54.709099",
     "status": "completed"
    },
    "tags": []
   },
   "source": [
    "정리를 하다가 말다가 해서 자세한건 책에 다 나와 았습니다."
   ]
  },
  {
   "cell_type": "markdown",
   "id": "b0c9fdc2",
   "metadata": {
    "papermill": {
     "duration": 0.004772,
     "end_time": "2022-09-18T01:54:54.726469",
     "exception": false,
     "start_time": "2022-09-18T01:54:54.721697",
     "status": "completed"
    },
    "tags": []
   },
   "source": [
    "## 6.5 푸아송 회귀"
   ]
  },
  {
   "cell_type": "code",
   "execution_count": 1,
   "id": "6cc7a407",
   "metadata": {
    "execution": {
     "iopub.execute_input": "2022-09-18T01:54:54.738033Z",
     "iopub.status.busy": "2022-09-18T01:54:54.737577Z",
     "iopub.status.idle": "2022-09-18T01:54:56.665106Z",
     "shell.execute_reply": "2022-09-18T01:54:56.663478Z"
    },
    "papermill": {
     "duration": 1.93826,
     "end_time": "2022-09-18T01:54:56.669224",
     "exception": false,
     "start_time": "2022-09-18T01:54:54.730964",
     "status": "completed"
    },
    "tags": []
   },
   "outputs": [],
   "source": [
    "import numpy as np\n",
    "import pandas as pd\n",
    "import scipy as sp\n",
    "from scipy import stats\n",
    "import matplotlib.pyplot as plt\n",
    "import seaborn as sns\n",
    "sns.set()\n",
    "\n",
    "import statsmodels.formula.api as smf\n",
    "import statsmodels.api as sm"
   ]
  },
  {
   "cell_type": "code",
   "execution_count": 2,
   "id": "86a8c238",
   "metadata": {
    "execution": {
     "iopub.execute_input": "2022-09-18T01:54:56.684817Z",
     "iopub.status.busy": "2022-09-18T01:54:56.684365Z",
     "iopub.status.idle": "2022-09-18T01:54:56.723711Z",
     "shell.execute_reply": "2022-09-18T01:54:56.722428Z"
    },
    "papermill": {
     "duration": 0.050812,
     "end_time": "2022-09-18T01:54:56.726487",
     "exception": false,
     "start_time": "2022-09-18T01:54:56.675675",
     "status": "completed"
    },
    "tags": []
   },
   "outputs": [
    {
     "data": {
      "text/html": [
       "<div>\n",
       "<style scoped>\n",
       "    .dataframe tbody tr th:only-of-type {\n",
       "        vertical-align: middle;\n",
       "    }\n",
       "\n",
       "    .dataframe tbody tr th {\n",
       "        vertical-align: top;\n",
       "    }\n",
       "\n",
       "    .dataframe thead th {\n",
       "        text-align: right;\n",
       "    }\n",
       "</style>\n",
       "<table border=\"1\" class=\"dataframe\">\n",
       "  <thead>\n",
       "    <tr style=\"text-align: right;\">\n",
       "      <th></th>\n",
       "      <th>beer_number</th>\n",
       "      <th>temperature</th>\n",
       "    </tr>\n",
       "  </thead>\n",
       "  <tbody>\n",
       "    <tr>\n",
       "      <th>0</th>\n",
       "      <td>6</td>\n",
       "      <td>17.5</td>\n",
       "    </tr>\n",
       "    <tr>\n",
       "      <th>1</th>\n",
       "      <td>11</td>\n",
       "      <td>26.6</td>\n",
       "    </tr>\n",
       "    <tr>\n",
       "      <th>2</th>\n",
       "      <td>2</td>\n",
       "      <td>5.0</td>\n",
       "    </tr>\n",
       "    <tr>\n",
       "      <th>3</th>\n",
       "      <td>4</td>\n",
       "      <td>14.1</td>\n",
       "    </tr>\n",
       "    <tr>\n",
       "      <th>4</th>\n",
       "      <td>2</td>\n",
       "      <td>9.4</td>\n",
       "    </tr>\n",
       "  </tbody>\n",
       "</table>\n",
       "</div>"
      ],
      "text/plain": [
       "   beer_number  temperature\n",
       "0            6         17.5\n",
       "1           11         26.6\n",
       "2            2          5.0\n",
       "3            4         14.1\n",
       "4            2          9.4"
      ]
     },
     "execution_count": 2,
     "metadata": {},
     "output_type": "execute_result"
    }
   ],
   "source": [
    "beer = pd.read_csv('../input/lm-model/6-5-1-poisson-regression.csv')\n",
    "beer.head()"
   ]
  },
  {
   "cell_type": "code",
   "execution_count": 3,
   "id": "4645b80c",
   "metadata": {
    "execution": {
     "iopub.execute_input": "2022-09-18T01:54:56.737897Z",
     "iopub.status.busy": "2022-09-18T01:54:56.737413Z",
     "iopub.status.idle": "2022-09-18T01:54:56.778278Z",
     "shell.execute_reply": "2022-09-18T01:54:56.777115Z"
    },
    "papermill": {
     "duration": 0.049186,
     "end_time": "2022-09-18T01:54:56.780589",
     "exception": false,
     "start_time": "2022-09-18T01:54:56.731403",
     "status": "completed"
    },
    "tags": []
   },
   "outputs": [
    {
     "data": {
      "text/html": [
       "<table class=\"simpletable\">\n",
       "<caption>Generalized Linear Model Regression Results</caption>\n",
       "<tr>\n",
       "  <th>Dep. Variable:</th>      <td>beer_number</td>   <th>  No. Observations:  </th>  <td>    30</td> \n",
       "</tr>\n",
       "<tr>\n",
       "  <th>Model:</th>                  <td>GLM</td>       <th>  Df Residuals:      </th>  <td>    28</td> \n",
       "</tr>\n",
       "<tr>\n",
       "  <th>Model Family:</th>         <td>Poisson</td>     <th>  Df Model:          </th>  <td>     1</td> \n",
       "</tr>\n",
       "<tr>\n",
       "  <th>Link Function:</th>          <td>Log</td>       <th>  Scale:             </th> <td>  1.0000</td>\n",
       "</tr>\n",
       "<tr>\n",
       "  <th>Method:</th>                <td>IRLS</td>       <th>  Log-Likelihood:    </th> <td> -57.672</td>\n",
       "</tr>\n",
       "<tr>\n",
       "  <th>Date:</th>            <td>Sun, 18 Sep 2022</td> <th>  Deviance:          </th> <td>  5.1373</td>\n",
       "</tr>\n",
       "<tr>\n",
       "  <th>Time:</th>                <td>01:54:56</td>     <th>  Pearson chi2:      </th>  <td>  5.40</td> \n",
       "</tr>\n",
       "<tr>\n",
       "  <th>No. Iterations:</th>          <td>4</td>        <th>  Pseudo R-squ. (CS):</th>  <td>0.9708</td> \n",
       "</tr>\n",
       "<tr>\n",
       "  <th>Covariance Type:</th>     <td>nonrobust</td>    <th>                     </th>     <td> </td>   \n",
       "</tr>\n",
       "</table>\n",
       "<table class=\"simpletable\">\n",
       "<tr>\n",
       "       <td></td>          <th>coef</th>     <th>std err</th>      <th>z</th>      <th>P>|z|</th>  <th>[0.025</th>    <th>0.975]</th>  \n",
       "</tr>\n",
       "<tr>\n",
       "  <th>Intercept</th>   <td>    0.4476</td> <td>    0.199</td> <td>    2.253</td> <td> 0.024</td> <td>    0.058</td> <td>    0.837</td>\n",
       "</tr>\n",
       "<tr>\n",
       "  <th>temperature</th> <td>    0.0761</td> <td>    0.008</td> <td>    9.784</td> <td> 0.000</td> <td>    0.061</td> <td>    0.091</td>\n",
       "</tr>\n",
       "</table>"
      ],
      "text/plain": [
       "<class 'statsmodels.iolib.summary.Summary'>\n",
       "\"\"\"\n",
       "                 Generalized Linear Model Regression Results                  \n",
       "==============================================================================\n",
       "Dep. Variable:            beer_number   No. Observations:                   30\n",
       "Model:                            GLM   Df Residuals:                       28\n",
       "Model Family:                 Poisson   Df Model:                            1\n",
       "Link Function:                    Log   Scale:                          1.0000\n",
       "Method:                          IRLS   Log-Likelihood:                -57.672\n",
       "Date:                Sun, 18 Sep 2022   Deviance:                       5.1373\n",
       "Time:                        01:54:56   Pearson chi2:                     5.40\n",
       "No. Iterations:                     4   Pseudo R-squ. (CS):             0.9708\n",
       "Covariance Type:            nonrobust                                         \n",
       "===============================================================================\n",
       "                  coef    std err          z      P>|z|      [0.025      0.975]\n",
       "-------------------------------------------------------------------------------\n",
       "Intercept       0.4476      0.199      2.253      0.024       0.058       0.837\n",
       "temperature     0.0761      0.008      9.784      0.000       0.061       0.091\n",
       "===============================================================================\n",
       "\"\"\""
      ]
     },
     "execution_count": 3,
     "metadata": {},
     "output_type": "execute_result"
    }
   ],
   "source": [
    "mod_pois = smf.glm('beer_number~temperature', data=beer, family=sm.families.Poisson()).fit()\n",
    "mod_pois.summary()"
   ]
  },
  {
   "cell_type": "markdown",
   "id": "5c609b50",
   "metadata": {
    "papermill": {
     "duration": 0.004532,
     "end_time": "2022-09-18T01:54:56.789975",
     "exception": false,
     "start_time": "2022-09-18T01:54:56.785443",
     "status": "completed"
    },
    "tags": []
   },
   "source": [
    "### 6.5.5 모델 선택"
   ]
  },
  {
   "cell_type": "code",
   "execution_count": 4,
   "id": "0c5001e1",
   "metadata": {
    "execution": {
     "iopub.execute_input": "2022-09-18T01:54:56.800900Z",
     "iopub.status.busy": "2022-09-18T01:54:56.800503Z",
     "iopub.status.idle": "2022-09-18T01:54:56.814203Z",
     "shell.execute_reply": "2022-09-18T01:54:56.812923Z"
    },
    "papermill": {
     "duration": 0.021946,
     "end_time": "2022-09-18T01:54:56.816623",
     "exception": false,
     "start_time": "2022-09-18T01:54:56.794677",
     "status": "completed"
    },
    "tags": []
   },
   "outputs": [
    {
     "name": "stdout",
     "output_type": "stream",
     "text": [
      "Null 모델        : 223.363\n",
      "변수가 있는 모델  : 119.343\n"
     ]
    }
   ],
   "source": [
    "# Null 모델 추정\n",
    "mod_pois_null = smf.glm('beer_number~1', data=beer, family=sm.families.Poisson()).fit()\n",
    "\n",
    "# AIC 비교\n",
    "print('Null 모델        :', mod_pois_null.aic.round(3))\n",
    "print('변수가 있는 모델  :', mod_pois.aic.round(3))"
   ]
  },
  {
   "cell_type": "markdown",
   "id": "e4703ca6",
   "metadata": {
    "papermill": {
     "duration": 0.004454,
     "end_time": "2022-09-18T01:54:56.826170",
     "exception": false,
     "start_time": "2022-09-18T01:54:56.821716",
     "status": "completed"
    },
    "tags": []
   },
   "source": [
    "### 6.5.6 회귀곡선 그래프\n",
    "seaborn 함수에 푸아송 회귀는 없다."
   ]
  },
  {
   "cell_type": "code",
   "execution_count": 5,
   "id": "6343bad4",
   "metadata": {
    "execution": {
     "iopub.execute_input": "2022-09-18T01:54:56.837693Z",
     "iopub.status.busy": "2022-09-18T01:54:56.837277Z",
     "iopub.status.idle": "2022-09-18T01:54:56.848347Z",
     "shell.execute_reply": "2022-09-18T01:54:56.847143Z"
    },
    "papermill": {
     "duration": 0.01976,
     "end_time": "2022-09-18T01:54:56.850727",
     "exception": false,
     "start_time": "2022-09-18T01:54:56.830967",
     "status": "completed"
    },
    "tags": []
   },
   "outputs": [],
   "source": [
    "# 추정된 모델의 예측값을 산포도 위에 덧그림\n",
    "# 예측값 작성\n",
    "x_plot = np.arange(0, 37)\n",
    "pred = mod_pois.predict(pd.DataFrame({'temperature':x_plot}))"
   ]
  },
  {
   "cell_type": "code",
   "execution_count": 6,
   "id": "b5e25a1a",
   "metadata": {
    "execution": {
     "iopub.execute_input": "2022-09-18T01:54:56.862222Z",
     "iopub.status.busy": "2022-09-18T01:54:56.861843Z",
     "iopub.status.idle": "2022-09-18T01:54:57.387269Z",
     "shell.execute_reply": "2022-09-18T01:54:57.386119Z"
    },
    "papermill": {
     "duration": 0.533832,
     "end_time": "2022-09-18T01:54:57.389482",
     "exception": false,
     "start_time": "2022-09-18T01:54:56.855650",
     "status": "completed"
    },
    "tags": []
   },
   "outputs": [
    {
     "data": {
      "image/png": "[encoded data removed]",
      "text/plain": [
       "<Figure size 360x360 with 1 Axes>"
      ]
     },
     "metadata": {},
     "output_type": "display_data"
    }
   ],
   "source": [
    "# 산점도 그리기\n",
    "sns.lmplot(y='beer_number', x='temperature', data=beer,\n",
    "           fit_reg=False)\n",
    "\n",
    "# (회귀)곡선 그리기\n",
    "plt.plot(x_plot, pred);"
   ]
  },
  {
   "cell_type": "markdown",
   "id": "06d20e18",
   "metadata": {
    "papermill": {
     "duration": 0.004717,
     "end_time": "2022-09-18T01:54:57.399496",
     "exception": false,
     "start_time": "2022-09-18T01:54:57.394779",
     "status": "completed"
    },
    "tags": []
   },
   "source": [
    "### 6.5.7 회귀계수 해석\n",
    "링크함수가 항등함수가 아닌 경우 회귀계수의 해석이 바뀜"
   ]
  },
  {
   "cell_type": "code",
   "execution_count": 7,
   "id": "ab93ce5b",
   "metadata": {
    "execution": {
     "iopub.execute_input": "2022-09-18T01:54:57.411568Z",
     "iopub.status.busy": "2022-09-18T01:54:57.410773Z",
     "iopub.status.idle": "2022-09-18T01:54:57.419279Z",
     "shell.execute_reply": "2022-09-18T01:54:57.418195Z"
    },
    "papermill": {
     "duration": 0.017307,
     "end_time": "2022-09-18T01:54:57.421761",
     "exception": false,
     "start_time": "2022-09-18T01:54:57.404454",
     "status": "completed"
    },
    "tags": []
   },
   "outputs": [],
   "source": [
    "# 기온이 1도 오를때 판매 계수의 기댓값\n",
    "exp_val_1 = pd.DataFrame({'temperature':[1]})\n",
    "pred_1 = mod_pois.predict(exp_val_1)"
   ]
  },
  {
   "cell_type": "code",
   "execution_count": 8,
   "id": "9ac8ea07",
   "metadata": {
    "execution": {
     "iopub.execute_input": "2022-09-18T01:54:57.434384Z",
     "iopub.status.busy": "2022-09-18T01:54:57.433327Z",
     "iopub.status.idle": "2022-09-18T01:54:57.442504Z",
     "shell.execute_reply": "2022-09-18T01:54:57.441460Z"
    },
    "papermill": {
     "duration": 0.017558,
     "end_time": "2022-09-18T01:54:57.444701",
     "exception": false,
     "start_time": "2022-09-18T01:54:57.427143",
     "status": "completed"
    },
    "tags": []
   },
   "outputs": [],
   "source": [
    "# 기온이 2도 오를때 판매 계수의 기댓값\n",
    "exp_val_2 = pd.DataFrame({'temperature':[2]})\n",
    "pred_2 = mod_pois.predict(exp_val_2)"
   ]
  },
  {
   "cell_type": "code",
   "execution_count": 9,
   "id": "c35fccba",
   "metadata": {
    "execution": {
     "iopub.execute_input": "2022-09-18T01:54:57.456638Z",
     "iopub.status.busy": "2022-09-18T01:54:57.456254Z",
     "iopub.status.idle": "2022-09-18T01:54:57.464368Z",
     "shell.execute_reply": "2022-09-18T01:54:57.463312Z"
    },
    "papermill": {
     "duration": 0.016544,
     "end_time": "2022-09-18T01:54:57.466534",
     "exception": false,
     "start_time": "2022-09-18T01:54:57.449990",
     "status": "completed"
    },
    "tags": []
   },
   "outputs": [
    {
     "data": {
      "text/plain": [
       "0    1.079045\n",
       "dtype: float64"
      ]
     },
     "execution_count": 9,
     "metadata": {},
     "output_type": "execute_result"
    }
   ],
   "source": [
    "# 기온이 1도에서 1도가 오르면 판매 개수가 몇 배가 되는지\n",
    "pred_2/pred_1"
   ]
  },
  {
   "cell_type": "code",
   "execution_count": 10,
   "id": "73a1c3e2",
   "metadata": {
    "execution": {
     "iopub.execute_input": "2022-09-18T01:54:57.479519Z",
     "iopub.status.busy": "2022-09-18T01:54:57.479133Z",
     "iopub.status.idle": "2022-09-18T01:54:57.486874Z",
     "shell.execute_reply": "2022-09-18T01:54:57.485866Z"
    },
    "papermill": {
     "duration": 0.016169,
     "end_time": "2022-09-18T01:54:57.489021",
     "exception": false,
     "start_time": "2022-09-18T01:54:57.472852",
     "status": "completed"
    },
    "tags": []
   },
   "outputs": [
    {
     "data": {
      "text/plain": [
       "1.079045054586893"
      ]
     },
     "execution_count": 10,
     "metadata": {},
     "output_type": "execute_result"
    }
   ],
   "source": [
    "# 이전과 마찮가지로 summary 회귀계수에 지수를 취한 값과 같다.\n",
    "np.exp(mod_pois.params[1])"
   ]
  },
  {
   "cell_type": "markdown",
   "id": "961821be",
   "metadata": {
    "papermill": {
     "duration": 0.005118,
     "end_time": "2022-09-18T01:54:57.499544",
     "exception": false,
     "start_time": "2022-09-18T01:54:57.494426",
     "status": "completed"
    },
    "tags": []
   },
   "source": [
    "여기까지 6장 끝...\\\n",
    "2회째 보는 책인데, 왜 봐도봐도 모르겠는가...\\\n",
    "아주 조금씩은 머릿속에 들어오는 느낌도 있기는 한데...\\\n",
    "이래가지고 언제... ㅠㅠ\\\n",
    "\n",
    "7장 머신러닝은 주욱 읽어 내려가고\\\n",
    "빅분기 필기부터 붙고\\\n",
    "\n",
    "데이터 과학을 위한 통계를 다시 봐야겠다.\\\n",
    "그러고 다시 이책을 보면 좀 더 들어오지 않을까....\\\n",
    "기대해본다."
   ]
  },
  {
   "cell_type": "code",
   "execution_count": null,
   "id": "a60f2296",
   "metadata": {
    "papermill": {
     "duration": 0.004998,
     "end_time": "2022-09-18T01:54:57.509884",
     "exception": false,
     "start_time": "2022-09-18T01:54:57.504886",
     "status": "completed"
    },
    "tags": []
   },
   "outputs": [],
   "source": []
  }
 ],
 "metadata": {
  "kernelspec": {
   "display_name": "Python 3",
   "language": "python",
   "name": "python3"
  },
  "language_info": {
   "codemirror_mode": {
    "name": "ipython",
    "version": 3
   },
   "file_extension": ".py",
   "mimetype": "text/x-python",
   "name": "python",
   "nbconvert_exporter": "python",
   "pygments_lexer": "ipython3",
   "version": "3.7.12"
  },
  "papermill": {
   "default_parameters": {},
   "duration": 12.482703,
   "end_time": "2022-09-18T01:54:58.236526",
   "environment_variables": {},
   "exception": null,
   "input_path": "__notebook__.ipynb",
   "output_path": "__notebook__.ipynb",
   "parameters": {},
   "start_time": "2022-09-18T01:54:45.753823",
   "version": "2.3.4"
  }
 },
 "nbformat": 4,
 "nbformat_minor": 5
}
