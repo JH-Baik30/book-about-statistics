{
 "cells": [
  {
   "cell_type": "markdown",
   "id": "2a9257f7",
   "metadata": {
    "papermill": {
     "duration": 0.009999,
     "end_time": "2022-09-16T08:13:41.907915",
     "exception": false,
     "start_time": "2022-09-16T08:13:41.897916",
     "status": "completed"
    },
    "tags": []
   },
   "source": [
    "#### 사용된 데이터는 파이썬으로 배우는 통계학 교과서의 예제 소스임"
   ]
  },
  {
   "cell_type": "code",
   "execution_count": 1,
   "id": "9685f83b",
   "metadata": {
    "_cell_guid": "b1076dfc-b9ad-4769-8c92-a6c4dae69d19",
    "_uuid": "8f2839f25d086af736a60e9eeb907d3b93b6e0e5",
    "execution": {
     "iopub.execute_input": "2022-09-16T08:13:41.928067Z",
     "iopub.status.busy": "2022-09-16T08:13:41.927169Z",
     "iopub.status.idle": "2022-09-16T08:13:44.077131Z",
     "shell.execute_reply": "2022-09-16T08:13:44.075857Z"
    },
    "papermill": {
     "duration": 2.163734,
     "end_time": "2022-09-16T08:13:44.080465",
     "exception": false,
     "start_time": "2022-09-16T08:13:41.916731",
     "status": "completed"
    },
    "tags": []
   },
   "outputs": [],
   "source": [
    "import numpy as np\n",
    "import pandas as pd\n",
    "import scipy as sp\n",
    "from scipy.stats import pearsonr\n",
    "import matplotlib.pyplot as plt\n",
    "import seaborn as sns\n",
    "sns.set()\n",
    "\n",
    "# 선형모델을 추정하는 라이브러리\n",
    "import statsmodels.formula.api as smf\n",
    "import statsmodels.api as sm"
   ]
  },
  {
   "cell_type": "markdown",
   "id": "5a52d049",
   "metadata": {
    "papermill": {
     "duration": 0.008704,
     "end_time": "2022-09-16T08:13:44.098259",
     "exception": false,
     "start_time": "2022-09-16T08:13:44.089555",
     "status": "completed"
    },
    "tags": []
   },
   "source": [
    "## 5.3 독립변수가 여럿인 모델\n",
    "- 날씨라는 카테고리형 독립변수를 사용한다.\n",
    "- 그 외에는 연속형 변수이다.\n",
    "- 복수의 독립변수를 가지고 있어도 일반선형모델 구조를 이용, 통일적인 분석,해석,예측이 가능하다.\n",
    "- 여기서는 Type-II ANOVA 검정을 설명\n",
    "- 복수의 독립변수가 있을 경우 그 변수들의 유의미함을 어떻게 판정할 것인지."
   ]
  },
  {
   "cell_type": "code",
   "execution_count": 2,
   "id": "dd04dc46",
   "metadata": {
    "execution": {
     "iopub.execute_input": "2022-09-16T08:13:44.117714Z",
     "iopub.status.busy": "2022-09-16T08:13:44.117264Z",
     "iopub.status.idle": "2022-09-16T08:13:44.162738Z",
     "shell.execute_reply": "2022-09-16T08:13:44.161089Z"
    },
    "papermill": {
     "duration": 0.058739,
     "end_time": "2022-09-16T08:13:44.165766",
     "exception": false,
     "start_time": "2022-09-16T08:13:44.107027",
     "status": "completed"
    },
    "tags": []
   },
   "outputs": [
    {
     "data": {
      "text/html": [
       "<div>\n",
       "<style scoped>\n",
       "    .dataframe tbody tr th:only-of-type {\n",
       "        vertical-align: middle;\n",
       "    }\n",
       "\n",
       "    .dataframe tbody tr th {\n",
       "        vertical-align: top;\n",
       "    }\n",
       "\n",
       "    .dataframe thead th {\n",
       "        text-align: right;\n",
       "    }\n",
       "</style>\n",
       "<table border=\"1\" class=\"dataframe\">\n",
       "  <thead>\n",
       "    <tr style=\"text-align: right;\">\n",
       "      <th></th>\n",
       "      <th>humidity</th>\n",
       "      <th>price</th>\n",
       "      <th>sales</th>\n",
       "      <th>temperature</th>\n",
       "      <th>weather</th>\n",
       "    </tr>\n",
       "  </thead>\n",
       "  <tbody>\n",
       "    <tr>\n",
       "      <th>0</th>\n",
       "      <td>29.5</td>\n",
       "      <td>290</td>\n",
       "      <td>229.7</td>\n",
       "      <td>17.8</td>\n",
       "      <td>rainy</td>\n",
       "    </tr>\n",
       "    <tr>\n",
       "      <th>1</th>\n",
       "      <td>38.1</td>\n",
       "      <td>290</td>\n",
       "      <td>206.1</td>\n",
       "      <td>26.1</td>\n",
       "      <td>rainy</td>\n",
       "    </tr>\n",
       "    <tr>\n",
       "      <th>2</th>\n",
       "      <td>31.5</td>\n",
       "      <td>290</td>\n",
       "      <td>202.5</td>\n",
       "      <td>22.0</td>\n",
       "      <td>rainy</td>\n",
       "    </tr>\n",
       "    <tr>\n",
       "      <th>3</th>\n",
       "      <td>39.7</td>\n",
       "      <td>290</td>\n",
       "      <td>195.5</td>\n",
       "      <td>23.0</td>\n",
       "      <td>rainy</td>\n",
       "    </tr>\n",
       "    <tr>\n",
       "      <th>4</th>\n",
       "      <td>24.7</td>\n",
       "      <td>290</td>\n",
       "      <td>214.4</td>\n",
       "      <td>14.5</td>\n",
       "      <td>rainy</td>\n",
       "    </tr>\n",
       "  </tbody>\n",
       "</table>\n",
       "</div>"
      ],
      "text/plain": [
       "   humidity  price  sales  temperature weather\n",
       "0      29.5    290  229.7         17.8   rainy\n",
       "1      38.1    290  206.1         26.1   rainy\n",
       "2      31.5    290  202.5         22.0   rainy\n",
       "3      39.7    290  195.5         23.0   rainy\n",
       "4      24.7    290  214.4         14.5   rainy"
      ]
     },
     "execution_count": 2,
     "metadata": {},
     "output_type": "execute_result"
    }
   ],
   "source": [
    "sales = pd.read_csv('../input/lm-model/5-3-1-lm-model.csv')\n",
    "sales.head()"
   ]
  },
  {
   "cell_type": "markdown",
   "id": "68200c96",
   "metadata": {
    "papermill": {
     "duration": 0.008743,
     "end_time": "2022-09-16T08:13:44.184099",
     "exception": false,
     "start_time": "2022-09-16T08:13:44.175356",
     "status": "completed"
    },
    "tags": []
   },
   "source": [
    "### 5.3.2 데이터로 그래프 그리기"
   ]
  },
  {
   "cell_type": "code",
   "execution_count": 3,
   "id": "aeae541e",
   "metadata": {
    "execution": {
     "iopub.execute_input": "2022-09-16T08:13:44.206459Z",
     "iopub.status.busy": "2022-09-16T08:13:44.205612Z",
     "iopub.status.idle": "2022-09-16T08:13:49.360509Z",
     "shell.execute_reply": "2022-09-16T08:13:49.359144Z"
    },
    "papermill": {
     "duration": 5.170648,
     "end_time": "2022-09-16T08:13:49.365363",
     "exception": false,
     "start_time": "2022-09-16T08:13:44.194715",
     "status": "completed"
    },
    "tags": []
   },
   "outputs": [
    {
     "data": {
      "image/png": "[encoded data removed]",
      "text/plain": [
       "<Figure size 792.725x720 with 20 Axes>"
      ]
     },
     "metadata": {},
     "output_type": "display_data"
    }
   ],
   "source": [
    "sns.pairplot(sales, hue='weather', palette='gray', diag_kind='hist');"
   ]
  },
  {
   "cell_type": "markdown",
   "id": "e43552a7",
   "metadata": {
    "papermill": {
     "duration": 0.011358,
     "end_time": "2022-09-16T08:13:49.389563",
     "exception": false,
     "start_time": "2022-09-16T08:13:49.378205",
     "status": "completed"
    },
    "tags": []
   },
   "source": [
    "그래프만 보면 온도와 습도의 상관관계가 있음을 알 수 있다."
   ]
  },
  {
   "cell_type": "markdown",
   "id": "05371f1c",
   "metadata": {
    "papermill": {
     "duration": 0.011359,
     "end_time": "2022-09-16T08:13:49.412565",
     "exception": false,
     "start_time": "2022-09-16T08:13:49.401206",
     "status": "completed"
    },
    "tags": []
   },
   "source": [
    "### 5.3.3: 나쁜 분석 예: 변수가 1개인 모델 만들기"
   ]
  },
  {
   "cell_type": "code",
   "execution_count": 4,
   "id": "0689e662",
   "metadata": {
    "execution": {
     "iopub.execute_input": "2022-09-16T08:13:49.438192Z",
     "iopub.status.busy": "2022-09-16T08:13:49.437687Z",
     "iopub.status.idle": "2022-09-16T08:13:49.457443Z",
     "shell.execute_reply": "2022-09-16T08:13:49.456088Z"
    },
    "papermill": {
     "duration": 0.036164,
     "end_time": "2022-09-16T08:13:49.460452",
     "exception": false,
     "start_time": "2022-09-16T08:13:49.424288",
     "status": "completed"
    },
    "tags": []
   },
   "outputs": [
    {
     "data": {
      "text/plain": [
       "Intercept    113.645406\n",
       "price          0.332812\n",
       "dtype: float64"
      ]
     },
     "execution_count": 4,
     "metadata": {},
     "output_type": "execute_result"
    }
   ],
   "source": [
    "# 단순히 가격과 판매의 관계만을 분석해본다.\n",
    "lm_dame = smf.ols('sales~price', sales).fit()\n",
    "lm_dame.params"
   ]
  },
  {
   "cell_type": "code",
   "execution_count": 5,
   "id": "42ca0843",
   "metadata": {
    "execution": {
     "iopub.execute_input": "2022-09-16T08:13:49.487472Z",
     "iopub.status.busy": "2022-09-16T08:13:49.486977Z",
     "iopub.status.idle": "2022-09-16T08:13:49.506987Z",
     "shell.execute_reply": "2022-09-16T08:13:49.505818Z"
    },
    "papermill": {
     "duration": 0.036672,
     "end_time": "2022-09-16T08:13:49.509359",
     "exception": false,
     "start_time": "2022-09-16T08:13:49.472687",
     "status": "completed"
    },
    "tags": []
   },
   "outputs": [
    {
     "data": {
      "text/html": [
       "<div>\n",
       "<style scoped>\n",
       "    .dataframe tbody tr th:only-of-type {\n",
       "        vertical-align: middle;\n",
       "    }\n",
       "\n",
       "    .dataframe tbody tr th {\n",
       "        vertical-align: top;\n",
       "    }\n",
       "\n",
       "    .dataframe thead th {\n",
       "        text-align: right;\n",
       "    }\n",
       "</style>\n",
       "<table border=\"1\" class=\"dataframe\">\n",
       "  <thead>\n",
       "    <tr style=\"text-align: right;\">\n",
       "      <th></th>\n",
       "      <th>sum_sq</th>\n",
       "      <th>df</th>\n",
       "      <th>F</th>\n",
       "      <th>PR(&gt;F)</th>\n",
       "    </tr>\n",
       "  </thead>\n",
       "  <tbody>\n",
       "    <tr>\n",
       "      <th>price</th>\n",
       "      <td>1398.392322</td>\n",
       "      <td>1.0</td>\n",
       "      <td>4.970685</td>\n",
       "      <td>0.028064</td>\n",
       "    </tr>\n",
       "    <tr>\n",
       "      <th>Residual</th>\n",
       "      <td>27570.133578</td>\n",
       "      <td>98.0</td>\n",
       "      <td>NaN</td>\n",
       "      <td>NaN</td>\n",
       "    </tr>\n",
       "  </tbody>\n",
       "</table>\n",
       "</div>"
      ],
      "text/plain": [
       "                sum_sq    df         F    PR(>F)\n",
       "price      1398.392322   1.0  4.970685  0.028064\n",
       "Residual  27570.133578  98.0       NaN       NaN"
      ]
     },
     "execution_count": 5,
     "metadata": {},
     "output_type": "execute_result"
    }
   ],
   "source": [
    "# 분석분석까지 해본다.\n",
    "sm.stats.anova_lm(lm_dame, typ=2)"
   ]
  },
  {
   "cell_type": "markdown",
   "id": "fa8c6f9c",
   "metadata": {
    "papermill": {
     "duration": 0.0118,
     "end_time": "2022-09-16T08:13:49.533459",
     "exception": false,
     "start_time": "2022-09-16T08:13:49.521659",
     "status": "completed"
    },
    "tags": []
   },
   "source": [
    "위 결과로 정리하면 가격이 오르면 매상도 증가한다고 생각할 수 있다."
   ]
  },
  {
   "cell_type": "code",
   "execution_count": 6,
   "id": "9534595d",
   "metadata": {
    "execution": {
     "iopub.execute_input": "2022-09-16T08:13:49.559984Z",
     "iopub.status.busy": "2022-09-16T08:13:49.559466Z",
     "iopub.status.idle": "2022-09-16T08:13:50.154510Z",
     "shell.execute_reply": "2022-09-16T08:13:50.152935Z"
    },
    "papermill": {
     "duration": 0.611704,
     "end_time": "2022-09-16T08:13:50.157377",
     "exception": false,
     "start_time": "2022-09-16T08:13:49.545673",
     "status": "completed"
    },
    "tags": []
   },
   "outputs": [
    {
     "data": {
      "image/png": "[encoded data removed]",
      "text/plain": [
       "<Figure size 360x360 with 1 Axes>"
      ]
     },
     "metadata": {},
     "output_type": "display_data"
    }
   ],
   "source": [
    "# 회귀직선을 봐도 가격이 오르면 매상도 오를것 같다.\n",
    "sns.lmplot(x='price', y='sales', data=sales);"
   ]
  },
  {
   "cell_type": "markdown",
   "id": "8896bb75",
   "metadata": {
    "papermill": {
     "duration": 0.012998,
     "end_time": "2022-09-16T08:13:50.183230",
     "exception": false,
     "start_time": "2022-09-16T08:13:50.170232",
     "status": "completed"
    },
    "tags": []
   },
   "source": [
    "### 5.3.4 독립변수 간의 관계 조사하기"
   ]
  },
  {
   "cell_type": "code",
   "execution_count": 7,
   "id": "05fb41c5",
   "metadata": {
    "execution": {
     "iopub.execute_input": "2022-09-16T08:13:50.210461Z",
     "iopub.status.busy": "2022-09-16T08:13:50.210018Z",
     "iopub.status.idle": "2022-09-16T08:13:50.228035Z",
     "shell.execute_reply": "2022-09-16T08:13:50.226837Z"
    },
    "papermill": {
     "duration": 0.034899,
     "end_time": "2022-09-16T08:13:50.230682",
     "exception": false,
     "start_time": "2022-09-16T08:13:50.195783",
     "status": "completed"
    },
    "tags": []
   },
   "outputs": [
    {
     "data": {
      "text/html": [
       "<div>\n",
       "<style scoped>\n",
       "    .dataframe tbody tr th:only-of-type {\n",
       "        vertical-align: middle;\n",
       "    }\n",
       "\n",
       "    .dataframe tbody tr th {\n",
       "        vertical-align: top;\n",
       "    }\n",
       "\n",
       "    .dataframe thead th {\n",
       "        text-align: right;\n",
       "    }\n",
       "</style>\n",
       "<table border=\"1\" class=\"dataframe\">\n",
       "  <thead>\n",
       "    <tr style=\"text-align: right;\">\n",
       "      <th></th>\n",
       "      <th>humidity</th>\n",
       "      <th>price</th>\n",
       "      <th>sales</th>\n",
       "      <th>temperature</th>\n",
       "    </tr>\n",
       "    <tr>\n",
       "      <th>weather</th>\n",
       "      <th></th>\n",
       "      <th></th>\n",
       "      <th></th>\n",
       "      <th></th>\n",
       "    </tr>\n",
       "  </thead>\n",
       "  <tbody>\n",
       "    <tr>\n",
       "      <th>rainy</th>\n",
       "      <td>32.126</td>\n",
       "      <td>295.5</td>\n",
       "      <td>205.924</td>\n",
       "      <td>20.422</td>\n",
       "    </tr>\n",
       "    <tr>\n",
       "      <th>sunny</th>\n",
       "      <td>30.852</td>\n",
       "      <td>309.5</td>\n",
       "      <td>222.718</td>\n",
       "      <td>21.102</td>\n",
       "    </tr>\n",
       "  </tbody>\n",
       "</table>\n",
       "</div>"
      ],
      "text/plain": [
       "         humidity  price    sales  temperature\n",
       "weather                                       \n",
       "rainy      32.126  295.5  205.924       20.422\n",
       "sunny      30.852  309.5  222.718       21.102"
      ]
     },
     "execution_count": 7,
     "metadata": {},
     "output_type": "execute_result"
    }
   ],
   "source": [
    "# 가게에서 매일 가격을 어떻게 바꾸는지 집계하기\n",
    "sales.groupby('weather').mean()"
   ]
  },
  {
   "cell_type": "markdown",
   "id": "34c4d0ad",
   "metadata": {
    "papermill": {
     "duration": 0.012291,
     "end_time": "2022-09-16T08:13:50.255763",
     "exception": false,
     "start_time": "2022-09-16T08:13:50.243472",
     "status": "completed"
    },
    "tags": []
   },
   "source": [
    "비오는날 매상이 떨어지기 때문에 가격을 인하했다고 생각하는 것이 자연스럽다."
   ]
  },
  {
   "cell_type": "code",
   "execution_count": 8,
   "id": "dd6a69ec",
   "metadata": {
    "execution": {
     "iopub.execute_input": "2022-09-16T08:13:50.284175Z",
     "iopub.status.busy": "2022-09-16T08:13:50.282845Z",
     "iopub.status.idle": "2022-09-16T08:13:51.150160Z",
     "shell.execute_reply": "2022-09-16T08:13:51.148751Z"
    },
    "papermill": {
     "duration": 0.88413,
     "end_time": "2022-09-16T08:13:51.152769",
     "exception": false,
     "start_time": "2022-09-16T08:13:50.268639",
     "status": "completed"
    },
    "tags": []
   },
   "outputs": [
    {
     "data": {
      "image/png": "[encoded data removed]",
      "text/plain": [
       "<Figure size 432.725x360 with 1 Axes>"
      ]
     },
     "metadata": {},
     "output_type": "display_data"
    }
   ],
   "source": [
    "# 날씨가 같았을 때 상품 가격이 매상에 미치는 영향\n",
    "sns.lmplot(x='price', y='sales', data=sales, hue='weather');"
   ]
  },
  {
   "cell_type": "markdown",
   "id": "0988c8b9",
   "metadata": {
    "papermill": {
     "duration": 0.013087,
     "end_time": "2022-09-16T08:13:51.179346",
     "exception": false,
     "start_time": "2022-09-16T08:13:51.166259",
     "status": "completed"
    },
    "tags": []
   },
   "source": [
    "맑은 날과 비오는날의 데이터를 각각 사용해서 가격과 매상의 관계를 조사하면, 2번의 검정을 반복 검정의 **다중성** 문제 발생\\\n",
    "각 요인의 영향을 올바르게 판단하기 위해서는 **복수의 독립변수를 가지는 모델**을 *한번*에 추정해야 한다."
   ]
  },
  {
   "cell_type": "markdown",
   "id": "380854b3",
   "metadata": {
    "papermill": {
     "duration": 0.013002,
     "end_time": "2022-09-16T08:13:51.205955",
     "exception": false,
     "start_time": "2022-09-16T08:13:51.192953",
     "status": "completed"
    },
    "tags": []
   },
   "source": [
    "### 5.3.5 복수의 독립변수를 가지는 모델\n",
    "- 독립변수가 4개 들어간 모델 추정"
   ]
  },
  {
   "cell_type": "code",
   "execution_count": 9,
   "id": "f59b3bd4",
   "metadata": {
    "execution": {
     "iopub.execute_input": "2022-09-16T08:13:51.235518Z",
     "iopub.status.busy": "2022-09-16T08:13:51.234239Z",
     "iopub.status.idle": "2022-09-16T08:13:51.254854Z",
     "shell.execute_reply": "2022-09-16T08:13:51.253624Z"
    },
    "papermill": {
     "duration": 0.037908,
     "end_time": "2022-09-16T08:13:51.257204",
     "exception": false,
     "start_time": "2022-09-16T08:13:51.219296",
     "status": "completed"
    },
    "tags": []
   },
   "outputs": [
    {
     "data": {
      "text/plain": [
       "Intercept           278.627722\n",
       "weather[T.sunny]     19.989119\n",
       "humidity             -0.254055\n",
       "temperature           1.603115\n",
       "price                -0.329207\n",
       "dtype: float64"
      ]
     },
     "execution_count": 9,
     "metadata": {},
     "output_type": "execute_result"
    }
   ],
   "source": [
    "# 복수의 독립변수를 가진 모델 추정\n",
    "lm_sales = smf.ols(formula='sales~weather+humidity+temperature+price', data=sales).fit()\n",
    "lm_sales.params"
   ]
  },
  {
   "cell_type": "markdown",
   "id": "9a11059e",
   "metadata": {
    "papermill": {
     "duration": 0.013146,
     "end_time": "2022-09-16T08:13:51.283848",
     "exception": false,
     "start_time": "2022-09-16T08:13:51.270702",
     "status": "completed"
    },
    "tags": []
   },
   "source": [
    "가격이 오르면 매출이 떨어진다는것을 알수 있다."
   ]
  },
  {
   "cell_type": "markdown",
   "id": "fad5056f",
   "metadata": {
    "papermill": {
     "duration": 0.013043,
     "end_time": "2022-09-16T08:13:51.310402",
     "exception": false,
     "start_time": "2022-09-16T08:13:51.297359",
     "status": "completed"
    },
    "tags": []
   },
   "source": [
    "### 5.3.6 나쁜 분석 예: 일반적인 분산분석으로 검정하기\n",
    "- 독립변수가 종속변수에 영향을 끼치고 있다고 말할 수 있는지 검정을 이용해서 판단한다.\n",
    "- 이 때 평범하게 분석분석을 하는것은 문제가 있다.\n",
    " - 일반적인 분산분석 Type I ANOVA"
   ]
  },
  {
   "cell_type": "code",
   "execution_count": 10,
   "id": "f4cdff66",
   "metadata": {
    "execution": {
     "iopub.execute_input": "2022-09-16T08:13:51.339795Z",
     "iopub.status.busy": "2022-09-16T08:13:51.339021Z",
     "iopub.status.idle": "2022-09-16T08:13:51.366404Z",
     "shell.execute_reply": "2022-09-16T08:13:51.365177Z"
    },
    "papermill": {
     "duration": 0.044975,
     "end_time": "2022-09-16T08:13:51.368939",
     "exception": false,
     "start_time": "2022-09-16T08:13:51.323964",
     "status": "completed"
    },
    "tags": []
   },
   "outputs": [
    {
     "data": {
      "text/html": [
       "<div>\n",
       "<style scoped>\n",
       "    .dataframe tbody tr th:only-of-type {\n",
       "        vertical-align: middle;\n",
       "    }\n",
       "\n",
       "    .dataframe tbody tr th {\n",
       "        vertical-align: top;\n",
       "    }\n",
       "\n",
       "    .dataframe thead th {\n",
       "        text-align: right;\n",
       "    }\n",
       "</style>\n",
       "<table border=\"1\" class=\"dataframe\">\n",
       "  <thead>\n",
       "    <tr style=\"text-align: right;\">\n",
       "      <th></th>\n",
       "      <th>df</th>\n",
       "      <th>sum_sq</th>\n",
       "      <th>mean_sq</th>\n",
       "      <th>F</th>\n",
       "      <th>PR(&gt;F)</th>\n",
       "    </tr>\n",
       "  </thead>\n",
       "  <tbody>\n",
       "    <tr>\n",
       "      <th>weather</th>\n",
       "      <td>1.0</td>\n",
       "      <td>7050.961</td>\n",
       "      <td>7050.961</td>\n",
       "      <td>38.848</td>\n",
       "      <td>0.000</td>\n",
       "    </tr>\n",
       "    <tr>\n",
       "      <th>humidity</th>\n",
       "      <td>1.0</td>\n",
       "      <td>1779.601</td>\n",
       "      <td>1779.601</td>\n",
       "      <td>9.805</td>\n",
       "      <td>0.002</td>\n",
       "    </tr>\n",
       "    <tr>\n",
       "      <th>temperature</th>\n",
       "      <td>1.0</td>\n",
       "      <td>2076.845</td>\n",
       "      <td>2076.845</td>\n",
       "      <td>11.443</td>\n",
       "      <td>0.001</td>\n",
       "    </tr>\n",
       "    <tr>\n",
       "      <th>price</th>\n",
       "      <td>1.0</td>\n",
       "      <td>818.402</td>\n",
       "      <td>818.402</td>\n",
       "      <td>4.509</td>\n",
       "      <td>0.036</td>\n",
       "    </tr>\n",
       "    <tr>\n",
       "      <th>Residual</th>\n",
       "      <td>95.0</td>\n",
       "      <td>17242.717</td>\n",
       "      <td>181.502</td>\n",
       "      <td>NaN</td>\n",
       "      <td>NaN</td>\n",
       "    </tr>\n",
       "  </tbody>\n",
       "</table>\n",
       "</div>"
      ],
      "text/plain": [
       "               df     sum_sq   mean_sq       F  PR(>F)\n",
       "weather       1.0   7050.961  7050.961  38.848   0.000\n",
       "humidity      1.0   1779.601  1779.601   9.805   0.002\n",
       "temperature   1.0   2076.845  2076.845  11.443   0.001\n",
       "price         1.0    818.402   818.402   4.509   0.036\n",
       "Residual     95.0  17242.717   181.502     NaN     NaN"
      ]
     },
     "execution_count": 10,
     "metadata": {},
     "output_type": "execute_result"
    }
   ],
   "source": [
    "sm.stats.anova_lm(lm_sales, typ=1).round(3)"
   ]
  },
  {
   "cell_type": "markdown",
   "id": "6b696c38",
   "metadata": {
    "papermill": {
     "duration": 0.013464,
     "end_time": "2022-09-16T08:13:51.396083",
     "exception": false,
     "start_time": "2022-09-16T08:13:51.382619",
     "status": "completed"
    },
    "tags": []
   },
   "source": [
    "위 검정결과는 모든 변수의 유의미한 것처럼 보이지만, Type I ANOVA는 독렵변수의 순서를 바꾸면 결과가 달라진다.    "
   ]
  },
  {
   "cell_type": "code",
   "execution_count": 11,
   "id": "a0e1e443",
   "metadata": {
    "execution": {
     "iopub.execute_input": "2022-09-16T08:13:51.426205Z",
     "iopub.status.busy": "2022-09-16T08:13:51.425297Z",
     "iopub.status.idle": "2022-09-16T08:13:51.458341Z",
     "shell.execute_reply": "2022-09-16T08:13:51.457019Z"
    },
    "papermill": {
     "duration": 0.051047,
     "end_time": "2022-09-16T08:13:51.461020",
     "exception": false,
     "start_time": "2022-09-16T08:13:51.409973",
     "status": "completed"
    },
    "tags": []
   },
   "outputs": [
    {
     "data": {
      "text/html": [
       "<div>\n",
       "<style scoped>\n",
       "    .dataframe tbody tr th:only-of-type {\n",
       "        vertical-align: middle;\n",
       "    }\n",
       "\n",
       "    .dataframe tbody tr th {\n",
       "        vertical-align: top;\n",
       "    }\n",
       "\n",
       "    .dataframe thead th {\n",
       "        text-align: right;\n",
       "    }\n",
       "</style>\n",
       "<table border=\"1\" class=\"dataframe\">\n",
       "  <thead>\n",
       "    <tr style=\"text-align: right;\">\n",
       "      <th></th>\n",
       "      <th>df</th>\n",
       "      <th>sum_sq</th>\n",
       "      <th>mean_sq</th>\n",
       "      <th>F</th>\n",
       "      <th>PR(&gt;F)</th>\n",
       "    </tr>\n",
       "  </thead>\n",
       "  <tbody>\n",
       "    <tr>\n",
       "      <th>weather</th>\n",
       "      <td>1.0</td>\n",
       "      <td>7050.961</td>\n",
       "      <td>7050.961</td>\n",
       "      <td>38.848</td>\n",
       "      <td>0.000</td>\n",
       "    </tr>\n",
       "    <tr>\n",
       "      <th>temperature</th>\n",
       "      <td>1.0</td>\n",
       "      <td>3814.779</td>\n",
       "      <td>3814.779</td>\n",
       "      <td>21.018</td>\n",
       "      <td>0.000</td>\n",
       "    </tr>\n",
       "    <tr>\n",
       "      <th>humidity</th>\n",
       "      <td>1.0</td>\n",
       "      <td>41.667</td>\n",
       "      <td>41.667</td>\n",
       "      <td>0.230</td>\n",
       "      <td>0.633</td>\n",
       "    </tr>\n",
       "    <tr>\n",
       "      <th>price</th>\n",
       "      <td>1.0</td>\n",
       "      <td>818.402</td>\n",
       "      <td>818.402</td>\n",
       "      <td>4.509</td>\n",
       "      <td>0.036</td>\n",
       "    </tr>\n",
       "    <tr>\n",
       "      <th>Residual</th>\n",
       "      <td>95.0</td>\n",
       "      <td>17242.717</td>\n",
       "      <td>181.502</td>\n",
       "      <td>NaN</td>\n",
       "      <td>NaN</td>\n",
       "    </tr>\n",
       "  </tbody>\n",
       "</table>\n",
       "</div>"
      ],
      "text/plain": [
       "               df     sum_sq   mean_sq       F  PR(>F)\n",
       "weather       1.0   7050.961  7050.961  38.848   0.000\n",
       "temperature   1.0   3814.779  3814.779  21.018   0.000\n",
       "humidity      1.0     41.667    41.667   0.230   0.633\n",
       "price         1.0    818.402   818.402   4.509   0.036\n",
       "Residual     95.0  17242.717   181.502     NaN     NaN"
      ]
     },
     "execution_count": 11,
     "metadata": {},
     "output_type": "execute_result"
    }
   ],
   "source": [
    "# 복수의 독립변수를 가진 모델 추정\n",
    "lm_sales_2 = smf.ols(formula='sales~weather+temperature+humidity+price', data=sales).fit()\n",
    "sm.stats.anova_lm(lm_sales_2, typ=1).round(3)"
   ]
  },
  {
   "cell_type": "markdown",
   "id": "ca543ca4",
   "metadata": {
    "papermill": {
     "duration": 0.013546,
     "end_time": "2022-09-16T08:13:51.488640",
     "exception": false,
     "start_time": "2022-09-16T08:13:51.475094",
     "status": "completed"
    },
    "tags": []
   },
   "source": [
    "독립변수의 순서를 바꾼 것뿐이라서 추정된 계수의 값 등은 일치하지만, 검정결과는 다르다."
   ]
  },
  {
   "cell_type": "markdown",
   "id": "aa5b91a0",
   "metadata": {
    "papermill": {
     "duration": 0.013575,
     "end_time": "2022-09-16T08:13:51.516223",
     "exception": false,
     "start_time": "2022-09-16T08:13:51.502648",
     "status": "completed"
    },
    "tags": []
   },
   "source": [
    "### 5.3.7 회귀계수의 t검정\n",
    "분산분석 대신 회귀계수의 t-test 를 하면 앞선 문제는 일어나지 않는다."
   ]
  },
  {
   "cell_type": "code",
   "execution_count": 12,
   "id": "7b49a567",
   "metadata": {
    "execution": {
     "iopub.execute_input": "2022-09-16T08:13:51.546246Z",
     "iopub.status.busy": "2022-09-16T08:13:51.545770Z",
     "iopub.status.idle": "2022-09-16T08:13:51.559978Z",
     "shell.execute_reply": "2022-09-16T08:13:51.558878Z"
    },
    "papermill": {
     "duration": 0.031933,
     "end_time": "2022-09-16T08:13:51.562201",
     "exception": false,
     "start_time": "2022-09-16T08:13:51.530268",
     "status": "completed"
    },
    "tags": []
   },
   "outputs": [
    {
     "data": {
      "text/html": [
       "<table class=\"simpletable\">\n",
       "<tr>\n",
       "          <td></td>            <th>coef</th>     <th>std err</th>      <th>t</th>      <th>P>|t|</th>  <th>[0.025</th>    <th>0.975]</th>  \n",
       "</tr>\n",
       "<tr>\n",
       "  <th>Intercept</th>        <td>  278.6277</td> <td>   46.335</td> <td>    6.013</td> <td> 0.000</td> <td>  186.641</td> <td>  370.615</td>\n",
       "</tr>\n",
       "<tr>\n",
       "  <th>weather[T.sunny]</th> <td>   19.9891</td> <td>    3.522</td> <td>    5.675</td> <td> 0.000</td> <td>   12.997</td> <td>   26.982</td>\n",
       "</tr>\n",
       "<tr>\n",
       "  <th>humidity</th>         <td>   -0.2541</td> <td>    0.456</td> <td>   -0.558</td> <td> 0.578</td> <td>   -1.159</td> <td>    0.651</td>\n",
       "</tr>\n",
       "<tr>\n",
       "  <th>temperature</th>      <td>    1.6031</td> <td>    0.443</td> <td>    3.620</td> <td> 0.000</td> <td>    0.724</td> <td>    2.482</td>\n",
       "</tr>\n",
       "<tr>\n",
       "  <th>price</th>            <td>   -0.3292</td> <td>    0.155</td> <td>   -2.123</td> <td> 0.036</td> <td>   -0.637</td> <td>   -0.021</td>\n",
       "</tr>\n",
       "</table>"
      ],
      "text/plain": [
       "<class 'statsmodels.iolib.table.SimpleTable'>"
      ]
     },
     "execution_count": 12,
     "metadata": {},
     "output_type": "execute_result"
    }
   ],
   "source": [
    "# 처음 검정결과\n",
    "lm_sales.summary().tables[1]"
   ]
  },
  {
   "cell_type": "code",
   "execution_count": 13,
   "id": "903e0dd7",
   "metadata": {
    "execution": {
     "iopub.execute_input": "2022-09-16T08:13:51.593400Z",
     "iopub.status.busy": "2022-09-16T08:13:51.592877Z",
     "iopub.status.idle": "2022-09-16T08:13:51.607276Z",
     "shell.execute_reply": "2022-09-16T08:13:51.606012Z"
    },
    "papermill": {
     "duration": 0.03301,
     "end_time": "2022-09-16T08:13:51.609568",
     "exception": false,
     "start_time": "2022-09-16T08:13:51.576558",
     "status": "completed"
    },
    "tags": []
   },
   "outputs": [
    {
     "data": {
      "text/html": [
       "<table class=\"simpletable\">\n",
       "<tr>\n",
       "          <td></td>            <th>coef</th>     <th>std err</th>      <th>t</th>      <th>P>|t|</th>  <th>[0.025</th>    <th>0.975]</th>  \n",
       "</tr>\n",
       "<tr>\n",
       "  <th>Intercept</th>        <td>  278.6277</td> <td>   46.335</td> <td>    6.013</td> <td> 0.000</td> <td>  186.641</td> <td>  370.615</td>\n",
       "</tr>\n",
       "<tr>\n",
       "  <th>weather[T.sunny]</th> <td>   19.9891</td> <td>    3.522</td> <td>    5.675</td> <td> 0.000</td> <td>   12.997</td> <td>   26.982</td>\n",
       "</tr>\n",
       "<tr>\n",
       "  <th>temperature</th>      <td>    1.6031</td> <td>    0.443</td> <td>    3.620</td> <td> 0.000</td> <td>    0.724</td> <td>    2.482</td>\n",
       "</tr>\n",
       "<tr>\n",
       "  <th>humidity</th>         <td>   -0.2541</td> <td>    0.456</td> <td>   -0.558</td> <td> 0.578</td> <td>   -1.159</td> <td>    0.651</td>\n",
       "</tr>\n",
       "<tr>\n",
       "  <th>price</th>            <td>   -0.3292</td> <td>    0.155</td> <td>   -2.123</td> <td> 0.036</td> <td>   -0.637</td> <td>   -0.021</td>\n",
       "</tr>\n",
       "</table>"
      ],
      "text/plain": [
       "<class 'statsmodels.iolib.table.SimpleTable'>"
      ]
     },
     "execution_count": 13,
     "metadata": {},
     "output_type": "execute_result"
    }
   ],
   "source": [
    "# 독립변수의 순서를 바꾼 검정결과\n",
    "lm_sales_2.summary().tables[1]"
   ]
  },
  {
   "cell_type": "markdown",
   "id": "3e08167b",
   "metadata": {
    "papermill": {
     "duration": 0.013891,
     "end_time": "2022-09-16T08:13:51.637781",
     "exception": false,
     "start_time": "2022-09-16T08:13:51.623890",
     "status": "completed"
    },
    "tags": []
   },
   "source": [
    "회귀계수의 t-test 에서는 독립변수의 순서가 문제는 발생하지 않는다.\\\n",
    "다만, 날씨라는 카테고리형 변수가 맑음, 비 뿐이었다.\\\n",
    "여기서 흐림이 있었다면 날씨의 영향을 t-test로 판단하는 것은 **검정 다중성**의 문제가 생길 것이다."
   ]
  },
  {
   "cell_type": "markdown",
   "id": "83ae39f1",
   "metadata": {
    "papermill": {
     "duration": 0.013961,
     "end_time": "2022-09-16T08:13:51.666101",
     "exception": false,
     "start_time": "2022-09-16T08:13:51.652140",
     "status": "completed"
    },
    "tags": []
   },
   "source": [
    "### 5.3.8 Type II ANOVA\n",
    "독립변수의 순서에 따른 검정결과가 변하지 않는 분산분석을 Type II ANOVA라고 한다."
   ]
  },
  {
   "cell_type": "markdown",
   "id": "cd21c50d",
   "metadata": {
    "papermill": {
     "duration": 0.013937,
     "end_time": "2022-09-16T08:13:51.694263",
     "exception": false,
     "start_time": "2022-09-16T08:13:51.680326",
     "status": "completed"
    },
    "tags": []
   },
   "source": [
    "### 5.3.9 모델 선택과 분산분석\n",
    "- Type I ANOVA\n",
    " - 복수의 독립변수를 가지는 경우 분산분석은 독립변수를 1개씩 늘려나가서 독립변수가 늘어남으로써 감소한 잔차제곱(RSS)합의 크기에 기반하여 독립변수가 가지는 효과의 크기(분산분석표에서 sum_sq)를 계산한다.\n",
    " - 독립변수를 추가하는 순서에 따라 sum_sq 값의 크기가 크게 바뀐다.\n",
    " - 유의미한지의 여부의 판단도 변하는 경우가 있다.\n",
    " - 이러한 검정방법은 Type I ANOVA 라고 한다.\n",
    " - 독립변수가 여러개 일때 Type I ANOVA 를 사용하면 **잘못된 결과를 얻을 가능성**이 있다."
   ]
  },
  {
   "cell_type": "markdown",
   "id": "745976e8",
   "metadata": {
    "execution": {
     "iopub.execute_input": "2022-09-16T07:01:51.735690Z",
     "iopub.status.busy": "2022-09-16T07:01:51.735145Z",
     "iopub.status.idle": "2022-09-16T07:01:51.771324Z",
     "shell.execute_reply": "2022-09-16T07:01:51.769345Z",
     "shell.execute_reply.started": "2022-09-16T07:01:51.735582Z"
    },
    "papermill": {
     "duration": 0.013935,
     "end_time": "2022-09-16T08:13:51.722595",
     "exception": false,
     "start_time": "2022-09-16T08:13:51.708660",
     "status": "completed"
    },
    "tags": []
   },
   "source": [
    "### 5.3.10 Type II ANOVA 와 수정제곱합(Adjusted-R$^{2}$)\n",
    "#### Type I ANOVA 의 잔차제곱합(RSS) 비교\n",
    " - **모델0**: 매상~$\\quad\\quad\\quad\\quad\\quad\\quad\\quad\\quad$+잔차제곱합\n",
    " - **모델1**: 매상~날씨$\\quad\\quad\\quad\\quad\\quad\\quad\\;\\,$+잔차제곱합\n",
    " - **모델2**: 매상~날씨+습도$\\quad\\quad\\quad\\quad\\,$ +잔차제곱합\n",
    " - **모델3**: 매상~날씨+습도+기온 $\\quad\\;\\;\\,\\,$ +잔차제곱합\n",
    " - **모델4**: 매상~날씨+습도+기온+가격 +잔차제곱합\n",
    "\n",
    "모델0과 모델1, 모델1과 모델2의 잔차제곱합을 비교한다.\n",
    "\n",
    "#### Type II ANOVA 의 잔차제곱합(RSS) 비교\n",
    "- **모델0**: 매상~날씨+습도+기온+가격 +잔차제곱합\n",
    "- **모델1**: 매상~ $\\quad\\;\\;\\,$ 습도+기온+가격 +잔차제곱합\n",
    "- **모델2**: 매상~날씨 $\\quad\\;\\;\\,$ +기온+가격 +잔차제곱합\n",
    "- **모델3**: 매상~날씨+습도 $\\quad\\;\\;\\,$ +가격 +잔차제곱합\n",
    "- **모델4**: 매상~날씨+습도+기온 $\\quad\\;\\;\\;$ +잔차제곱합\n",
    "\n",
    "모델0과 모델1, 모델0과 모델2를 비교 모두 모델0의 잔차제곱합과 비교한다.\n",
    "\n",
    "Type II ANOVA는 독립변수가 줄어들면서 증가하는 잔차제곱합의 크기에 기반. 독립변수가 갖는 효과의 크기를 정량화하고 있다고 생각하면 된다.\\\n",
    "이런 방식 때문에 변수를 추가하는 순서를 바꾸어도 검정 결과는 달라지지 않는다.\\\n",
    "이 방법으로 계산된 군간 편차제곱합을 **수정제곱합(Adjusted-R$^{2}$)** 이라 부른다."
   ]
  },
  {
   "cell_type": "markdown",
   "id": "c0441d0c",
   "metadata": {
    "papermill": {
     "duration": 0.013914,
     "end_time": "2022-09-16T08:13:51.750876",
     "exception": false,
     "start_time": "2022-09-16T08:13:51.736962",
     "status": "completed"
    },
    "tags": []
   },
   "source": [
    "### Type II ANOVA"
   ]
  },
  {
   "cell_type": "code",
   "execution_count": 14,
   "id": "32be60ec",
   "metadata": {
    "execution": {
     "iopub.execute_input": "2022-09-16T08:13:51.782517Z",
     "iopub.status.busy": "2022-09-16T08:13:51.781285Z",
     "iopub.status.idle": "2022-09-16T08:13:51.801576Z",
     "shell.execute_reply": "2022-09-16T08:13:51.800008Z"
    },
    "papermill": {
     "duration": 0.0393,
     "end_time": "2022-09-16T08:13:51.804385",
     "exception": false,
     "start_time": "2022-09-16T08:13:51.765085",
     "status": "completed"
    },
    "tags": []
   },
   "outputs": [
    {
     "data": {
      "text/plain": [
       "17242.71694236648"
      ]
     },
     "execution_count": 14,
     "metadata": {},
     "output_type": "execute_result"
    }
   ],
   "source": [
    "# 모든 변수 포함 모델의 잔차제곱합\n",
    "mod_full = smf.ols('sales~weather+humidity+temperature+price', data=sales).fit()\n",
    "resid_sq_full = np.sum((mod_full.resid)**2)\n",
    "resid_sq_full"
   ]
  },
  {
   "cell_type": "code",
   "execution_count": 15,
   "id": "d75d9d9a",
   "metadata": {
    "execution": {
     "iopub.execute_input": "2022-09-16T08:13:51.837013Z",
     "iopub.status.busy": "2022-09-16T08:13:51.835963Z",
     "iopub.status.idle": "2022-09-16T08:13:51.853392Z",
     "shell.execute_reply": "2022-09-16T08:13:51.852323Z"
    },
    "papermill": {
     "duration": 0.036766,
     "end_time": "2022-09-16T08:13:51.855908",
     "exception": false,
     "start_time": "2022-09-16T08:13:51.819142",
     "status": "completed"
    },
    "tags": []
   },
   "outputs": [
    {
     "data": {
      "text/plain": [
       "17299.142016107664"
      ]
     },
     "execution_count": 15,
     "metadata": {},
     "output_type": "execute_result"
    }
   ],
   "source": [
    "# 습도만 제거한 모델의 잔차제곱합\n",
    "mod_non_humi = smf.ols('sales~weather+temperature+price', data=sales).fit()\n",
    "resid_sq_non_humi = np.sum((mod_non_humi.resid)**2)\n",
    "resid_sq_non_humi"
   ]
  },
  {
   "cell_type": "code",
   "execution_count": 16,
   "id": "99b7b2b2",
   "metadata": {
    "execution": {
     "iopub.execute_input": "2022-09-16T08:13:51.888149Z",
     "iopub.status.busy": "2022-09-16T08:13:51.887397Z",
     "iopub.status.idle": "2022-09-16T08:13:51.893656Z",
     "shell.execute_reply": "2022-09-16T08:13:51.892499Z"
    },
    "papermill": {
     "duration": 0.025,
     "end_time": "2022-09-16T08:13:51.895870",
     "exception": false,
     "start_time": "2022-09-16T08:13:51.870870",
     "status": "completed"
    },
    "tags": []
   },
   "outputs": [
    {
     "data": {
      "text/plain": [
       "56.42507374118213"
      ]
     },
     "execution_count": 16,
     "metadata": {},
     "output_type": "execute_result"
    }
   ],
   "source": [
    "# 잔차제곱합의 차이\n",
    "resid_sq_non_humi-resid_sq_full"
   ]
  },
  {
   "cell_type": "code",
   "execution_count": 17,
   "id": "d50d6152",
   "metadata": {
    "execution": {
     "iopub.execute_input": "2022-09-16T08:13:51.927850Z",
     "iopub.status.busy": "2022-09-16T08:13:51.927170Z",
     "iopub.status.idle": "2022-09-16T08:13:51.950087Z",
     "shell.execute_reply": "2022-09-16T08:13:51.948752Z"
    },
    "papermill": {
     "duration": 0.041981,
     "end_time": "2022-09-16T08:13:51.952717",
     "exception": false,
     "start_time": "2022-09-16T08:13:51.910736",
     "status": "completed"
    },
    "tags": []
   },
   "outputs": [
    {
     "data": {
      "text/html": [
       "<div>\n",
       "<style scoped>\n",
       "    .dataframe tbody tr th:only-of-type {\n",
       "        vertical-align: middle;\n",
       "    }\n",
       "\n",
       "    .dataframe tbody tr th {\n",
       "        vertical-align: top;\n",
       "    }\n",
       "\n",
       "    .dataframe thead th {\n",
       "        text-align: right;\n",
       "    }\n",
       "</style>\n",
       "<table border=\"1\" class=\"dataframe\">\n",
       "  <thead>\n",
       "    <tr style=\"text-align: right;\">\n",
       "      <th></th>\n",
       "      <th>sum_sq</th>\n",
       "      <th>df</th>\n",
       "      <th>F</th>\n",
       "      <th>PR(&gt;F)</th>\n",
       "    </tr>\n",
       "  </thead>\n",
       "  <tbody>\n",
       "    <tr>\n",
       "      <th>weather</th>\n",
       "      <td>5845.878318</td>\n",
       "      <td>1.0</td>\n",
       "      <td>32.208291</td>\n",
       "      <td>1.497112e-07</td>\n",
       "    </tr>\n",
       "    <tr>\n",
       "      <th>humidity</th>\n",
       "      <td>56.425074</td>\n",
       "      <td>1.0</td>\n",
       "      <td>0.310878</td>\n",
       "      <td>5.784533e-01</td>\n",
       "    </tr>\n",
       "    <tr>\n",
       "      <th>temperature</th>\n",
       "      <td>2378.016518</td>\n",
       "      <td>1.0</td>\n",
       "      <td>13.101855</td>\n",
       "      <td>4.753450e-04</td>\n",
       "    </tr>\n",
       "    <tr>\n",
       "      <th>price</th>\n",
       "      <td>818.402419</td>\n",
       "      <td>1.0</td>\n",
       "      <td>4.509048</td>\n",
       "      <td>3.631451e-02</td>\n",
       "    </tr>\n",
       "    <tr>\n",
       "      <th>Residual</th>\n",
       "      <td>17242.716942</td>\n",
       "      <td>95.0</td>\n",
       "      <td>NaN</td>\n",
       "      <td>NaN</td>\n",
       "    </tr>\n",
       "  </tbody>\n",
       "</table>\n",
       "</div>"
      ],
      "text/plain": [
       "                   sum_sq    df          F        PR(>F)\n",
       "weather       5845.878318   1.0  32.208291  1.497112e-07\n",
       "humidity        56.425074   1.0   0.310878  5.784533e-01\n",
       "temperature   2378.016518   1.0  13.101855  4.753450e-04\n",
       "price          818.402419   1.0   4.509048  3.631451e-02\n",
       "Residual     17242.716942  95.0        NaN           NaN"
      ]
     },
     "execution_count": 17,
     "metadata": {},
     "output_type": "execute_result"
    }
   ],
   "source": [
    "sm.stats.anova_lm(mod_full, typ=2)"
   ]
  },
  {
   "cell_type": "markdown",
   "id": "30bc5d91",
   "metadata": {
    "papermill": {
     "duration": 0.014827,
     "end_time": "2022-09-16T08:13:51.983147",
     "exception": false,
     "start_time": "2022-09-16T08:13:51.968320",
     "status": "completed"
    },
    "tags": []
   },
   "source": [
    "sum_sq 열의 humidity 를 보면 위의 계산 결과와 같다.\\\n",
    "p-value 가 0.578 이므로 습도가 매상에 영향을 끼치고 있다고 볼 수 없다는 결과를 얻었다.\\\n",
    "독립변수가 2개 이상이라면 Type II ANOVA."
   ]
  },
  {
   "cell_type": "code",
   "execution_count": 18,
   "id": "31b77e8e",
   "metadata": {
    "execution": {
     "iopub.execute_input": "2022-09-16T08:13:52.015796Z",
     "iopub.status.busy": "2022-09-16T08:13:52.015082Z",
     "iopub.status.idle": "2022-09-16T08:13:52.029938Z",
     "shell.execute_reply": "2022-09-16T08:13:52.028025Z"
    },
    "papermill": {
     "duration": 0.034552,
     "end_time": "2022-09-16T08:13:52.032797",
     "exception": false,
     "start_time": "2022-09-16T08:13:51.998245",
     "status": "completed"
    },
    "tags": []
   },
   "outputs": [
    {
     "name": "stdout",
     "output_type": "stream",
     "text": [
      "F비:   0.3109\n",
      "P값:   0.5785\n",
      "자유도:   1.0\n"
     ]
    }
   ],
   "source": [
    "# 2개 모델 비교 함수\n",
    "mod_compare = mod_full.compare_f_test(mod_non_humi)\n",
    "print('F비:  ', mod_compare[0].round(4))\n",
    "print('P값:  ', mod_compare[1].round(4))\n",
    "print('자유도:  ', mod_compare[2])"
   ]
  },
  {
   "cell_type": "markdown",
   "id": "32e33cad",
   "metadata": {
    "papermill": {
     "duration": 0.01477,
     "end_time": "2022-09-16T08:13:52.062899",
     "exception": false,
     "start_time": "2022-09-16T08:13:52.048129",
     "status": "completed"
    },
    "tags": []
   },
   "source": [
    "### 5.3.12 Type II ANOVA 해석\n",
    "습도의 영향을 검정한 결과는 다름 독립변수가 있는 조건에서도 습도가 매상에 영향을 끼치고 있는지 판단할 수 있는가를 조사한 것이라고 해석할 수 있다.\\\n",
    "습도는 기온과 강한 상관관계가 있었으므로, 기온이 모델에 포함되어 있으면 습도는 매상에 영향을 끼치다고 볼 수 없게 되는 상황이 있을 수 있다."
   ]
  },
  {
   "cell_type": "markdown",
   "id": "48249c51",
   "metadata": {
    "papermill": {
     "duration": 0.014833,
     "end_time": "2022-09-16T08:13:52.092781",
     "exception": false,
     "start_time": "2022-09-16T08:13:52.077948",
     "status": "completed"
    },
    "tags": []
   },
   "source": [
    "### 5.3.13 변수 선택과 모델 해석\n",
    "습도가 모델에 필요 없다는 것을 알수 있었으므로, 습도를 뺀 모델에 대해 분산분석을 수행한다."
   ]
  },
  {
   "cell_type": "code",
   "execution_count": 19,
   "id": "5f86237a",
   "metadata": {
    "execution": {
     "iopub.execute_input": "2022-09-16T08:13:52.125221Z",
     "iopub.status.busy": "2022-09-16T08:13:52.124724Z",
     "iopub.status.idle": "2022-09-16T08:13:52.146626Z",
     "shell.execute_reply": "2022-09-16T08:13:52.145503Z"
    },
    "papermill": {
     "duration": 0.041219,
     "end_time": "2022-09-16T08:13:52.149039",
     "exception": false,
     "start_time": "2022-09-16T08:13:52.107820",
     "status": "completed"
    },
    "tags": []
   },
   "outputs": [
    {
     "data": {
      "text/html": [
       "<div>\n",
       "<style scoped>\n",
       "    .dataframe tbody tr th:only-of-type {\n",
       "        vertical-align: middle;\n",
       "    }\n",
       "\n",
       "    .dataframe tbody tr th {\n",
       "        vertical-align: top;\n",
       "    }\n",
       "\n",
       "    .dataframe thead th {\n",
       "        text-align: right;\n",
       "    }\n",
       "</style>\n",
       "<table border=\"1\" class=\"dataframe\">\n",
       "  <thead>\n",
       "    <tr style=\"text-align: right;\">\n",
       "      <th></th>\n",
       "      <th>sum_sq</th>\n",
       "      <th>df</th>\n",
       "      <th>F</th>\n",
       "      <th>PR(&gt;F)</th>\n",
       "    </tr>\n",
       "  </thead>\n",
       "  <tbody>\n",
       "    <tr>\n",
       "      <th>weather</th>\n",
       "      <td>6354.966</td>\n",
       "      <td>1.0</td>\n",
       "      <td>35.266</td>\n",
       "      <td>0.000</td>\n",
       "    </tr>\n",
       "    <tr>\n",
       "      <th>temperature</th>\n",
       "      <td>4254.736</td>\n",
       "      <td>1.0</td>\n",
       "      <td>23.611</td>\n",
       "      <td>0.000</td>\n",
       "    </tr>\n",
       "    <tr>\n",
       "      <th>price</th>\n",
       "      <td>803.644</td>\n",
       "      <td>1.0</td>\n",
       "      <td>4.460</td>\n",
       "      <td>0.037</td>\n",
       "    </tr>\n",
       "    <tr>\n",
       "      <th>Residual</th>\n",
       "      <td>17299.142</td>\n",
       "      <td>96.0</td>\n",
       "      <td>NaN</td>\n",
       "      <td>NaN</td>\n",
       "    </tr>\n",
       "  </tbody>\n",
       "</table>\n",
       "</div>"
      ],
      "text/plain": [
       "                sum_sq    df       F  PR(>F)\n",
       "weather       6354.966   1.0  35.266   0.000\n",
       "temperature   4254.736   1.0  23.611   0.000\n",
       "price          803.644   1.0   4.460   0.037\n",
       "Residual     17299.142  96.0     NaN     NaN"
      ]
     },
     "execution_count": 19,
     "metadata": {},
     "output_type": "execute_result"
    }
   ],
   "source": [
    "sm.stats.anova_lm(mod_non_humi, typ=2).round(3)"
   ]
  },
  {
   "cell_type": "markdown",
   "id": "7e640a58",
   "metadata": {
    "papermill": {
     "duration": 0.015353,
     "end_time": "2022-09-16T08:13:52.180313",
     "exception": false,
     "start_time": "2022-09-16T08:13:52.164960",
     "status": "completed"
    },
    "tags": []
   },
   "source": [
    "모든 변수가 유의미하므로 변수 선택은 종료한다."
   ]
  },
  {
   "cell_type": "code",
   "execution_count": 20,
   "id": "214ff197",
   "metadata": {
    "execution": {
     "iopub.execute_input": "2022-09-16T08:13:52.214284Z",
     "iopub.status.busy": "2022-09-16T08:13:52.213466Z",
     "iopub.status.idle": "2022-09-16T08:13:52.222231Z",
     "shell.execute_reply": "2022-09-16T08:13:52.221358Z"
    },
    "papermill": {
     "duration": 0.028443,
     "end_time": "2022-09-16T08:13:52.224412",
     "exception": false,
     "start_time": "2022-09-16T08:13:52.195969",
     "status": "completed"
    },
    "tags": []
   },
   "outputs": [
    {
     "data": {
      "text/plain": [
       "Intercept           273.301800\n",
       "weather[T.sunny]     20.393871\n",
       "temperature           1.417860\n",
       "price                -0.326001\n",
       "dtype: float64"
      ]
     },
     "execution_count": 20,
     "metadata": {},
     "output_type": "execute_result"
    }
   ],
   "source": [
    "# 모델의 계수\n",
    "mod_non_humi.params"
   ]
  },
  {
   "cell_type": "markdown",
   "id": "2709afab",
   "metadata": {
    "papermill": {
     "duration": 0.015179,
     "end_time": "2022-09-16T08:13:52.255364",
     "exception": false,
     "start_time": "2022-09-16T08:13:52.240185",
     "status": "completed"
    },
    "tags": []
   },
   "source": [
    "weather[T.sunny] 비오는 날과 비교하면 매상이 20 증가한다는 것을 의미한다."
   ]
  },
  {
   "cell_type": "markdown",
   "id": "56ca5a9d",
   "metadata": {
    "papermill": {
     "duration": 0.015082,
     "end_time": "2022-09-16T08:13:52.286566",
     "exception": false,
     "start_time": "2022-09-16T08:13:52.271484",
     "status": "completed"
    },
    "tags": []
   },
   "source": [
    "### 5.3.14 AIC를 이용한 변수 선택\n",
    "- AIC는 분산분석처럼 계산 방법을 바꿀 필요가 없다.\n",
    "- 모델을 만들고, AIC를 비교하는 것뿐이다."
   ]
  },
  {
   "cell_type": "code",
   "execution_count": 21,
   "id": "21db2dae",
   "metadata": {
    "execution": {
     "iopub.execute_input": "2022-09-16T08:13:52.320017Z",
     "iopub.status.busy": "2022-09-16T08:13:52.319233Z",
     "iopub.status.idle": "2022-09-16T08:13:52.325419Z",
     "shell.execute_reply": "2022-09-16T08:13:52.324592Z"
    },
    "papermill": {
     "duration": 0.026371,
     "end_time": "2022-09-16T08:13:52.328432",
     "exception": false,
     "start_time": "2022-09-16T08:13:52.302061",
     "status": "completed"
    },
    "tags": []
   },
   "outputs": [
    {
     "name": "stdout",
     "output_type": "stream",
     "text": [
      "full model:              808.785\n",
      "without humidity model:  807.112\n"
     ]
    }
   ],
   "source": [
    "# mod_full 과 mod_non_humi 비교\n",
    "print('full model:             ', mod_full.aic.round(3))\n",
    "print('without humidity model: ', mod_non_humi.aic.round(3))"
   ]
  },
  {
   "cell_type": "markdown",
   "id": "1f28bc6e",
   "metadata": {
    "papermill": {
     "duration": 0.015797,
     "end_time": "2022-09-16T08:13:52.360883",
     "exception": false,
     "start_time": "2022-09-16T08:13:52.345086",
     "status": "completed"
    },
    "tags": []
   },
   "source": [
    "# ***$$결\\quad론$$***\n",
    "#### 검정의 P-value 값을 지나치게 믿는것처럼 AIC 를 과신하지도 말자.\n",
    "#### 얻은 계수의 해석이나 변수 선택의 해석, 잔차 체크 등 포괄적인 평가를 수행하는게 바람직하다."
   ]
  },
  {
   "cell_type": "code",
   "execution_count": null,
   "id": "465faee9",
   "metadata": {
    "papermill": {
     "duration": 0.015844,
     "end_time": "2022-09-16T08:13:52.393136",
     "exception": false,
     "start_time": "2022-09-16T08:13:52.377292",
     "status": "completed"
    },
    "tags": []
   },
   "outputs": [],
   "source": []
  }
 ],
 "metadata": {
  "kernelspec": {
   "display_name": "Python 3",
   "language": "python",
   "name": "python3"
  },
  "language_info": {
   "codemirror_mode": {
    "name": "ipython",
    "version": 3
   },
   "file_extension": ".py",
   "mimetype": "text/x-python",
   "name": "python",
   "nbconvert_exporter": "python",
   "pygments_lexer": "ipython3",
   "version": "3.7.12"
  },
  "papermill": {
   "default_parameters": {},
   "duration": 21.737661,
   "end_time": "2022-09-16T08:13:53.635833",
   "environment_variables": {},
   "exception": null,
   "input_path": "__notebook__.ipynb",
   "output_path": "__notebook__.ipynb",
   "parameters": {},
   "start_time": "2022-09-16T08:13:31.898172",
   "version": "2.3.4"
  }
 },
 "nbformat": 4,
 "nbformat_minor": 5
}
